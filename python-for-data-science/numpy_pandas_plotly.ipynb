{
 "cells": [
  {
   "cell_type": "markdown",
   "id": "1144284a-500f-46ba-852d-b4c0c4bb93c8",
   "metadata": {},
   "source": [
    "## Python Core Modules Revision for Data Science projects: Numpy , Pandas and Plotly"
   ]
  },
  {
   "cell_type": "code",
   "execution_count": 1,
   "id": "5735c779-3672-4b80-84f5-d040d7d62d9f",
   "metadata": {},
   "outputs": [],
   "source": [
    "# Provides ways to work with large multidimensional arrays\n",
    "import numpy as np\n",
    "# Allows for further data manipulation and analysis\n",
    "import pandas as pd\n",
    "# reading stocks data\n",
    "import yfinance as yf\n",
    "# visualization\n",
    "import matplotlib.pyplot as plt\n",
    "# suppressing warnings\n",
    "import warnings\n",
    "warnings.simplefilter(\"ignore\")"
   ]
  },
  {
   "cell_type": "markdown",
   "id": "0356a07a-1d78-419f-92e3-f11d3fb4a6be",
   "metadata": {},
   "source": [
    "#### Constants"
   ]
  },
  {
   "cell_type": "code",
   "execution_count": 2,
   "id": "c5cfcb22-d79e-4de0-8c76-a5dfec34b44e",
   "metadata": {},
   "outputs": [],
   "source": [
    "# Define path to files\n",
    "PATH = \"/home/johnadi/Desktop/projects/projects-from-yt-channel-derek-banas/python-for-finance/\""
   ]
  },
  {
   "cell_type": "markdown",
   "id": "6acb250d-f7aa-49bd-92c3-38d3cda26984",
   "metadata": {},
   "source": [
    "### Numpy Crash Course"
   ]
  },
  {
   "cell_type": "code",
   "execution_count": null,
   "id": "928cafe7-f106-46d2-bdd2-bb1c92ba6262",
   "metadata": {},
   "outputs": [],
   "source": [
    "# Make a numpy array\n"
   ]
  },
  {
   "cell_type": "code",
   "execution_count": null,
   "id": "30e970c7-727f-462c-aa2c-6c2c3c1fdf60",
   "metadata": {},
   "outputs": [],
   "source": []
  }
 ],
 "metadata": {
  "kernelspec": {
   "display_name": "Python 3 (ipykernel)",
   "language": "python",
   "name": "python3"
  },
  "language_info": {
   "codemirror_mode": {
    "name": "ipython",
    "version": 3
   },
   "file_extension": ".py",
   "mimetype": "text/x-python",
   "name": "python",
   "nbconvert_exporter": "python",
   "pygments_lexer": "ipython3",
   "version": "3.10.12"
  }
 },
 "nbformat": 4,
 "nbformat_minor": 5
}
