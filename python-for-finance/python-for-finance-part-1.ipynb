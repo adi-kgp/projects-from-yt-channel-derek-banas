{
 "cells": [
  {
   "cell_type": "markdown",
   "metadata": {},
   "source": [
    "##### Imports"
   ]
  },
  {
   "cell_type": "code",
   "execution_count": 2,
   "metadata": {},
   "outputs": [],
   "source": [
    "import numpy as np\n",
    "import pandas as pd\n",
    "import yfinance as yf\n",
    "import matplotlib.pyplot as plt\n",
    "import matplotlib.dates as mdates\n",
    "import datetime as dt\n",
    "import mplfinance as mpf"
   ]
  },
  {
   "cell_type": "markdown",
   "metadata": {},
   "source": [
    "##### Function that saves stock data to csv"
   ]
  },
  {
   "cell_type": "code",
   "execution_count": 5,
   "metadata": {},
   "outputs": [],
   "source": [
    "def save_to_csv_from_yahoo(ticker, syear, smonth, sday, eyear, emonth, eday):\n",
    "    start = dt.datetime(syear, smonth, sday)\n",
    "    end = dt.datetime(eyear, emonth, eday)\n",
    "\n",
    "    df = yf.download(ticker, start=start, end=end)\n",
    "\n",
    "    df.to_csv(\"/home/johnadi/Desktop/projects/analytics-projects/python-for-finance-derek-banas/\" + ticker + \".csv\")\n",
    "    return df"
   ]
  },
  {
   "cell_type": "markdown",
   "metadata": {},
   "source": [
    "##### Function that returns a DataFrame from a CSV"
   ]
  },
  {
   "cell_type": "code",
   "execution_count": 7,
   "metadata": {},
   "outputs": [],
   "source": [
    "def get_dataframe_from_csv(ticker):\n",
    "    try:\n",
    "        df = pd.read_csv(\"/home/johnadi/Desktop/projects/analytics-projects/python-for-finance-derek-banas/\" + ticker + \".csv\")\n",
    "    except FileNotFoundError:\n",
    "        print(\"File does not exist!\")\n",
    "    else:\n",
    "        return df"
   ]
  },
  {
   "cell_type": "markdown",
   "metadata": {},
   "source": [
    "##### Add Daily Return to DataFrame"
   ]
  },
  {
   "cell_type": "code",
   "execution_count": 10,
   "metadata": {},
   "outputs": [],
   "source": [
    "# We calculate a percentage rate of return for each day to compare investments. \n",
    "# Simple rate of Return  = (End Price - Beginning Price) / Beginning Price OR (EP/BP) - 1\n",
    "def add_daily_return_to_df(df, ticker):\n",
    "    df['daily_return'] = (df['Adj Close'] / df['Adj Close'].shift(1)) - 1\n",
    "    df.to_csv(\"/home/johnadi/Desktop/projects/analytics-projects/python-for-finance-derek-banas/\" + ticker + \".csv\")\n",
    "    return df"
   ]
  },
  {
   "cell_type": "markdown",
   "metadata": {},
   "source": [
    "##### Returns Total Return Over Time"
   ]
  },
  {
   "cell_type": "code",
   "execution_count": 16,
   "metadata": {},
   "outputs": [],
   "source": [
    "def get_return_defined_time(df, syear, smonth, sday, eyear, emonth, eday):\n",
    "    start = f\"{syear}-{smonth}-{sday}\"\n",
    "    end = f\"{eyear}-{emonth}-{eday}\"\n",
    "    mask = (df['Date'] >= start) & (df['Date'] <= end)\n",
    "    daily_returns = df.loc[mask]['daily_return'].mean()\n",
    "    df2 = df.loc[mask]\n",
    "    days = df2.shape[0]\n",
    "    return (days * daily_returns)"
   ]
  },
  {
   "cell_type": "markdown",
   "metadata": {},
   "source": [
    "##### Matplotlib Finance"
   ]
  },
  {
   "cell_type": "code",
   "execution_count": 19,
   "metadata": {},
   "outputs": [],
   "source": [
    "def mplfinance_plot(ticker, chart_type, syear, smonth, sday, eyear, emonth, eday):\n",
    "    start = f\"{syear}-{smonth}-{sday}\"\n",
    "    end = f\"{eyear}-{emonth}-{eday}\"\n",
    "    try:\n",
    "        df = pd.read_csv(\"/home/johnadi/Desktop/projects/analytics-projects/python-for-finance-derek-banas/\" + ticker + \".csv\")\n",
    "    except FileNotFoundError:\n",
    "        print(\"File does not exist!\")\n",
    "    else:\n",
    "        df.index = pd.DatetimeIndex(df['Date'])\n",
    "        df_sub = df.loc[start:end]\n",
    "        mpf.plot(df_sub, type='candle')\n",
    "        mpf.plot(df_sub, type=\"line\")\n",
    "        mpf.plot(df_sub, type=\"ohlc\", mav=4)\n",
    "\n",
    "        s = mpf.make_mpf_style(base_mpf_style=\"charles\", rc={'font.size':8})\n",
    "        fig = mpf.figure(figsize=(12,8), style=s)\n",
    "        ax = fig.add_subplot(2, 1, 2)\n",
    "        av = fig.add_subplot(2, 1, 2, sharex=ax)\n",
    "        mpf.plot(df_sub, type=chart_type, mav=(3,5,7), ax=ax, volume=av, show_nontrading=True)"
   ]
  },
  {
   "cell_type": "markdown",
   "metadata": {},
   "source": [
    "##### Simple Price Plot"
   ]
  },
  {
   "cell_type": "code",
   "execution_count": 28,
   "metadata": {},
   "outputs": [],
   "source": [
    "def price_plot(ticker, syear, smonth, sday, eyear, emonth, eday):\n",
    "    start = f\"{syear}-{smonth}-{sday}\"\n",
    "    end = f\"{eyear}-{emonth}-{eday}\"\n",
    "    try:\n",
    "        df = pd.read_csv(\"/home/johnadi/Desktop/projects/analytics-projects/python-for-finance-derek-banas/\" + ticker + \".csv\")\n",
    "    except FileNotFoundError:\n",
    "        print(\"File does not exist!\")\n",
    "    else:\n",
    "        df.index = pd.DatetimeIndex(df['Date'])\n",
    "        df_sub = df.loc[start:end]\n",
    "        df_np = df_sub.to_numpy()\n",
    "        np_adj_close = df_np[:,5]\n",
    "        date_arr = df_np[:, 1]\n",
    "        fig = plt.figure(figsize=(12,6), dpi=100)\n",
    "        axes = fig.add_axes([0,0,1,1])\n",
    "        axes.plot(date_arr, np_adj_close, color='navy')\n",
    "        axes.xaxis.set_major_locator(plt.MaxNLocator(8))\n",
    "        axes.grid(True, color='0.6', dashes=(5, 2, 1, 2))\n",
    "        axes.set_facecolor('#FAEBD7')"
   ]
  },
  {
   "cell_type": "markdown",
   "metadata": {},
   "source": [
    "##### Download Multiple Stocks"
   ]
  },
  {
   "cell_type": "code",
   "execution_count": 29,
   "metadata": {},
   "outputs": [],
   "source": [
    "def download_multiple_stocks(syear, smonth, sday, eyear, emonth, eday, *args):\n",
    "    for x in args:\n",
    "        save_to_csv_from_yahoo(x, syear, smonth, sday, eyear, emonth, eday)"
   ]
  },
  {
   "cell_type": "markdown",
   "metadata": {},
   "source": [
    "##### Merge Multiple Stocks in One DataFrame by Column Name"
   ]
  },
  {
   "cell_type": "code",
   "execution_count": 32,
   "metadata": {},
   "outputs": [],
   "source": [
    "def merge_df_by_column_name(col_name, syear, smonth, sday, eyear, emonth, eday, *tickers):\n",
    "    multi_df = pd.DataFrame()\n",
    "    start = f\"{syear}-{smonth}-{sday}\"\n",
    "    end = f\"{eyear}-{emonth}-{eday}\"\n",
    "    for x in tickers:\n",
    "        multi_df[x] = yf.download(x, start=start, end=end)[col_name]\n",
    "    return multi_df"
   ]
  },
  {
   "cell_type": "markdown",
   "metadata": {},
   "source": [
    "##### Get Changing Value of Investment using Multiple Stocks"
   ]
  },
  {
   "cell_type": "code",
   "execution_count": 33,
   "metadata": {},
   "outputs": [],
   "source": [
    "def plot_return_multiple_stocks(investment, stock_df):\n",
    "    (stock_df / stock_df.iloc[0] * investment).plot(figsize=(15,6))"
   ]
  },
  {
   "cell_type": "markdown",
   "metadata": {},
   "source": [
    "##### Get Standar Deviation for Multiple Stocks\n",
    "\n",
    "Risk is a measure of the variability of return. Variance and Standard Deviation allow us to quantify risk. \n",
    "\n",
    "Variance is a measure of how spread out a dataset is. It is calculated as the average squared deviation of each number from the mean of the data set. It equals the sum of squares of the difference between each data point and the mean divided by the number of data points minus 1.\n",
    "\n",
    "Standard deviation is a measure of the amount of variation within a set of values. A low standard deviation indicates that the values tend to be close to the mean. A high standard deviation means values are more spread out. Standard deviation is the square root of the variance. "
   ]
  },
  {
   "cell_type": "code",
   "execution_count": 36,
   "metadata": {},
   "outputs": [],
   "source": [
    "def get_stock_mean_and_std(stock_df, ticker):\n",
    "    return stock_df[ticker].mean(), stock_df[ticker].std()"
   ]
  },
  {
   "cell_type": "code",
   "execution_count": 37,
   "metadata": {},
   "outputs": [],
   "source": [
    "def get_mult_stock_mean_and_std(stock_df):\n",
    "    for stock in stock_df:\n",
    "        mean, sd = get_stock_mean_and_std(stock_df, stock)\n",
    "        cov = sd / mean\n",
    "        print(\"Stock: {:4} Mean: {:7.2f} Standard Deviation: {:2.2f}\".format(stock, mean, sd))\n",
    "        print(\"Coefficient of Variation: {}\\n\".format(cov))"
   ]
  },
  {
   "cell_type": "code",
   "execution_count": null,
   "metadata": {},
   "outputs": [],
   "source": []
  },
  {
   "cell_type": "markdown",
   "metadata": {},
   "source": [
    "##### Test Functions"
   ]
  },
  {
   "cell_type": "code",
   "execution_count": 25,
   "metadata": {},
   "outputs": [],
   "source": [
    "# save_to_csv_from_yahoo(\"AMZN\", 2020, 1 ,1, 2021, 1, 1)"
   ]
  },
  {
   "cell_type": "code",
   "execution_count": 24,
   "metadata": {},
   "outputs": [],
   "source": [
    "# AMZN = get_dataframe_from_csv('AMZN')\n",
    "# AMZN"
   ]
  },
  {
   "cell_type": "code",
   "execution_count": 23,
   "metadata": {},
   "outputs": [],
   "source": [
    "# add_daily_return_to_df(AMZN, 'AMZN')"
   ]
  },
  {
   "cell_type": "code",
   "execution_count": 26,
   "metadata": {},
   "outputs": [],
   "source": [
    "# total_ret = get_return_defined_time(AMZN, 2020, 1 ,1, 2021, 1, 1)\n",
    "# print(\"Total Return: \", total_ret)"
   ]
  },
  {
   "cell_type": "code",
   "execution_count": 22,
   "metadata": {},
   "outputs": [],
   "source": [
    "# mplfinance_plot('AMZN', 'ohlc', 2020, 1 ,1, 2021, 1, 1)"
   ]
  },
  {
   "cell_type": "code",
   "execution_count": 30,
   "metadata": {},
   "outputs": [],
   "source": [
    "# price_plot('AMZN', 2020, 1 ,1, 2021, 1, 1)"
   ]
  },
  {
   "cell_type": "code",
   "execution_count": 34,
   "metadata": {},
   "outputs": [],
   "source": [
    "# tickers = ['META', \"AAPL\", \"NFLX\", \"GOOG\"]\n",
    "\n",
    "# download_multiple_stocks(2020, 1 ,1, 2021, 1, 1, *tickers)"
   ]
  },
  {
   "cell_type": "code",
   "execution_count": 40,
   "metadata": {},
   "outputs": [
    {
     "name": "stderr",
     "output_type": "stream",
     "text": [
      "[*********************100%%**********************]  1 of 1 completed\n",
      "[*********************100%%**********************]  1 of 1 completed\n",
      "[*********************100%%**********************]  1 of 1 completed\n",
      "[*********************100%%**********************]  1 of 1 completed\n",
      "[*********************100%%**********************]  1 of 1 completed\n"
     ]
    },
    {
     "data": {
      "text/html": [
       "<div>\n",
       "<style scoped>\n",
       "    .dataframe tbody tr th:only-of-type {\n",
       "        vertical-align: middle;\n",
       "    }\n",
       "\n",
       "    .dataframe tbody tr th {\n",
       "        vertical-align: top;\n",
       "    }\n",
       "\n",
       "    .dataframe thead th {\n",
       "        text-align: right;\n",
       "    }\n",
       "</style>\n",
       "<table border=\"1\" class=\"dataframe\">\n",
       "  <thead>\n",
       "    <tr style=\"text-align: right;\">\n",
       "      <th></th>\n",
       "      <th>META</th>\n",
       "      <th>AAPL</th>\n",
       "      <th>NFLX</th>\n",
       "      <th>GOOG</th>\n",
       "      <th>AMZN</th>\n",
       "    </tr>\n",
       "    <tr>\n",
       "      <th>Date</th>\n",
       "      <th></th>\n",
       "      <th></th>\n",
       "      <th></th>\n",
       "      <th></th>\n",
       "      <th></th>\n",
       "    </tr>\n",
       "  </thead>\n",
       "  <tbody>\n",
       "    <tr>\n",
       "      <th>2020-01-02</th>\n",
       "      <td>209.557648</td>\n",
       "      <td>73.059418</td>\n",
       "      <td>329.809998</td>\n",
       "      <td>68.368500</td>\n",
       "      <td>94.900497</td>\n",
       "    </tr>\n",
       "    <tr>\n",
       "      <th>2020-01-03</th>\n",
       "      <td>208.448837</td>\n",
       "      <td>72.349129</td>\n",
       "      <td>325.899994</td>\n",
       "      <td>68.032997</td>\n",
       "      <td>93.748497</td>\n",
       "    </tr>\n",
       "    <tr>\n",
       "      <th>2020-01-06</th>\n",
       "      <td>212.374680</td>\n",
       "      <td>72.925636</td>\n",
       "      <td>335.829987</td>\n",
       "      <td>69.710503</td>\n",
       "      <td>95.143997</td>\n",
       "    </tr>\n",
       "    <tr>\n",
       "      <th>2020-01-07</th>\n",
       "      <td>212.834183</td>\n",
       "      <td>72.582664</td>\n",
       "      <td>330.750000</td>\n",
       "      <td>69.667000</td>\n",
       "      <td>95.343002</td>\n",
       "    </tr>\n",
       "    <tr>\n",
       "      <th>2020-01-08</th>\n",
       "      <td>214.991898</td>\n",
       "      <td>73.750229</td>\n",
       "      <td>339.260010</td>\n",
       "      <td>70.216003</td>\n",
       "      <td>94.598503</td>\n",
       "    </tr>\n",
       "    <tr>\n",
       "      <th>...</th>\n",
       "      <td>...</td>\n",
       "      <td>...</td>\n",
       "      <td>...</td>\n",
       "      <td>...</td>\n",
       "      <td>...</td>\n",
       "    </tr>\n",
       "    <tr>\n",
       "      <th>2020-12-24</th>\n",
       "      <td>267.116577</td>\n",
       "      <td>129.514481</td>\n",
       "      <td>513.969971</td>\n",
       "      <td>86.942497</td>\n",
       "      <td>158.634506</td>\n",
       "    </tr>\n",
       "    <tr>\n",
       "      <th>2020-12-28</th>\n",
       "      <td>276.706421</td>\n",
       "      <td>134.146652</td>\n",
       "      <td>519.119995</td>\n",
       "      <td>88.804497</td>\n",
       "      <td>164.197998</td>\n",
       "    </tr>\n",
       "    <tr>\n",
       "      <th>2020-12-29</th>\n",
       "      <td>276.486633</td>\n",
       "      <td>132.360504</td>\n",
       "      <td>530.869995</td>\n",
       "      <td>87.935997</td>\n",
       "      <td>166.100006</td>\n",
       "    </tr>\n",
       "    <tr>\n",
       "      <th>2020-12-30</th>\n",
       "      <td>271.581848</td>\n",
       "      <td>131.231918</td>\n",
       "      <td>524.590027</td>\n",
       "      <td>86.975998</td>\n",
       "      <td>164.292496</td>\n",
       "    </tr>\n",
       "    <tr>\n",
       "      <th>2020-12-31</th>\n",
       "      <td>272.870483</td>\n",
       "      <td>130.221069</td>\n",
       "      <td>540.729980</td>\n",
       "      <td>87.594002</td>\n",
       "      <td>162.846497</td>\n",
       "    </tr>\n",
       "  </tbody>\n",
       "</table>\n",
       "<p>253 rows × 5 columns</p>\n",
       "</div>"
      ],
      "text/plain": [
       "                  META        AAPL        NFLX       GOOG        AMZN\n",
       "Date                                                                 \n",
       "2020-01-02  209.557648   73.059418  329.809998  68.368500   94.900497\n",
       "2020-01-03  208.448837   72.349129  325.899994  68.032997   93.748497\n",
       "2020-01-06  212.374680   72.925636  335.829987  69.710503   95.143997\n",
       "2020-01-07  212.834183   72.582664  330.750000  69.667000   95.343002\n",
       "2020-01-08  214.991898   73.750229  339.260010  70.216003   94.598503\n",
       "...                ...         ...         ...        ...         ...\n",
       "2020-12-24  267.116577  129.514481  513.969971  86.942497  158.634506\n",
       "2020-12-28  276.706421  134.146652  519.119995  88.804497  164.197998\n",
       "2020-12-29  276.486633  132.360504  530.869995  87.935997  166.100006\n",
       "2020-12-30  271.581848  131.231918  524.590027  86.975998  164.292496\n",
       "2020-12-31  272.870483  130.221069  540.729980  87.594002  162.846497\n",
       "\n",
       "[253 rows x 5 columns]"
      ]
     },
     "execution_count": 40,
     "metadata": {},
     "output_type": "execute_result"
    }
   ],
   "source": [
    "tickers = ['META', \"AAPL\", \"NFLX\", \"GOOG\", \"AMZN\"]\n",
    "\n",
    "multi_df = merge_df_by_column_name('Adj Close', 2020, 1 ,1, 2021, 1, 1, *tickers)\n",
    "multi_df\n",
    "\n",
    "# plot_return_multiple_stocks(100, multi_df)"
   ]
  },
  {
   "cell_type": "code",
   "execution_count": 39,
   "metadata": {},
   "outputs": [
    {
     "name": "stdout",
     "output_type": "stream",
     "text": [
      "Stock: META Mean:  234.30 Standard Deviation: 38.52\n",
      "Coefficient of Variation: 0.16442381513470283\n",
      "\n",
      "Stock: AAPL Mean:   93.28 Standard Deviation: 21.55\n",
      "Coefficient of Variation: 0.23099016066777844\n",
      "\n",
      "Stock: NFLX Mean:  446.83 Standard Deviation: 65.61\n",
      "Coefficient of Variation: 0.14684116488739776\n",
      "\n",
      "Stock: GOOG Mean:   74.07 Standard Deviation: 8.80\n",
      "Coefficient of Variation: 0.11878452781797685\n",
      "\n",
      "Stock: AMZN Mean:  134.04 Standard Deviation: 27.29\n",
      "Coefficient of Variation: 0.2035772250662167\n",
      "\n"
     ]
    }
   ],
   "source": [
    "get_mult_stock_mean_and_std(multi_df)"
   ]
  },
  {
   "cell_type": "code",
   "execution_count": null,
   "metadata": {},
   "outputs": [],
   "source": []
  }
 ],
 "metadata": {
  "kernelspec": {
   "display_name": "env",
   "language": "python",
   "name": "python3"
  },
  "language_info": {
   "codemirror_mode": {
    "name": "ipython",
    "version": 3
   },
   "file_extension": ".py",
   "mimetype": "text/x-python",
   "name": "python",
   "nbconvert_exporter": "python",
   "pygments_lexer": "ipython3",
   "version": "3.10.12"
  }
 },
 "nbformat": 4,
 "nbformat_minor": 2
}
