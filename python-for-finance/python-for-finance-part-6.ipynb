{
 "cells": [
  {
   "cell_type": "code",
   "execution_count": 17,
   "id": "5efae12e-35f6-43ac-9754-19e0d2481d1c",
   "metadata": {},
   "outputs": [],
   "source": [
    "# Imprting libraries\n",
    "import numpy as np # provides ways to work with large multidimensional arrays\n",
    "import matplotlib.pyplot as plt # plotting\n",
    "import yfinance as yf\n",
    "import datetime as dt\n",
    "import pandas as pd\n",
    "# import mplfinance as mpf\n",
    "import time\n",
    "\n",
    "# used to get data from a directory\n",
    "import os\n",
    "from os import listdir\n",
    "from os.path import isfile, join\n",
    "\n",
    "import statsmodels.api as sm\n",
    "import seaborn as sns\n",
    "\n",
    "from statsmodels.tsa.ar_model import AutoReg, ar_select_order"
   ]
  },
  {
   "cell_type": "markdown",
   "id": "d96f14e0-8327-4e40-9fab-a2209131b72c",
   "metadata": {},
   "source": [
    "#### Dates and Other Constants"
   ]
  },
  {
   "cell_type": "code",
   "execution_count": 2,
   "id": "84d4b2f2-e168-46c0-8404-e20d56aa29b2",
   "metadata": {},
   "outputs": [],
   "source": [
    "PATH = '/home/johnadi/Desktop/projects/projects-from-yt-channel-derek-banas/python-for-finance/Stock List/'\n",
    "\n",
    "# Start Date Defaults\n",
    "S_YEAR = 2017\n",
    "S_MONTH = 1\n",
    "S_DAY = 3\n",
    "S_DATE_STR = \"2017-01-03\"\n",
    "S_DATE_DATETIME = dt.datetime(S_YEAR, S_MONTH, S_DAY)\n",
    "\n",
    "# End Date Defaults\n",
    "E_YEAR = 2021\n",
    "E_MONTH = 8\n",
    "E_DAY = 18\n",
    "E_DATE_STR = \"2021-08-18\"\n",
    "E_DATE_DATETIME = dt.datetime(E_YEAR, E_MONTH, E_DAY)"
   ]
  },
  {
   "cell_type": "markdown",
   "id": "b6642ac5-0292-4087-9f3e-a3cb4aa64bb2",
   "metadata": {},
   "source": [
    "#### Hold Stocks Not Downloaded"
   ]
  },
  {
   "cell_type": "code",
   "execution_count": 3,
   "id": "1c855e9b-845e-493f-b2d9-8e3dc35eaed1",
   "metadata": {},
   "outputs": [],
   "source": [
    "stocks_not_downloaded = []\n",
    "missing_stocks = []"
   ]
  },
  {
   "cell_type": "markdown",
   "id": "cc476858-fc42-4047-aa05-83fe47089662",
   "metadata": {},
   "source": [
    "#### Get Stock File Names in a list"
   ]
  },
  {
   "cell_type": "code",
   "execution_count": 4,
   "id": "f6d54a31-32fb-4e0a-881e-2cd1415a6f61",
   "metadata": {
    "scrolled": true
   },
   "outputs": [
    {
     "data": {
      "text/plain": [
       "['AIZ',\n",
       " 'SYY',\n",
       " 'PPL',\n",
       " 'ETSY',\n",
       " 'MTCH',\n",
       " 'PARA',\n",
       " 'HIG',\n",
       " 'MMC',\n",
       " 'IDXX',\n",
       " 'NWSA',\n",
       " 'ROP',\n",
       " 'IT',\n",
       " 'FDX',\n",
       " 'J',\n",
       " 'AES',\n",
       " 'ZBH',\n",
       " 'PYPL',\n",
       " 'CVX',\n",
       " 'GM',\n",
       " 'MSFT',\n",
       " 'TFC',\n",
       " 'GEV',\n",
       " 'KIM',\n",
       " 'MU',\n",
       " 'CBRE',\n",
       " 'GE',\n",
       " 'MTB',\n",
       " 'PNR',\n",
       " 'TXT',\n",
       " 'AAL',\n",
       " 'CMG',\n",
       " 'LMT',\n",
       " 'UPS',\n",
       " 'MCK',\n",
       " 'JKHY',\n",
       " 'LDOS',\n",
       " 'DAL',\n",
       " 'QRVO',\n",
       " 'DAY',\n",
       " 'IVZ',\n",
       " 'DGX',\n",
       " 'CFG',\n",
       " 'MPWR',\n",
       " 'SPG',\n",
       " 'JNJ',\n",
       " 'SHW',\n",
       " 'WMB',\n",
       " 'FDS',\n",
       " 'CPT',\n",
       " 'GEHC',\n",
       " 'PPG',\n",
       " 'HES',\n",
       " 'DPZ',\n",
       " 'LKQ',\n",
       " 'EBAY',\n",
       " 'SRE',\n",
       " 'RVTY',\n",
       " 'EQR',\n",
       " 'CI',\n",
       " 'TFX',\n",
       " 'CE',\n",
       " 'BG',\n",
       " 'COR',\n",
       " 'MSCI',\n",
       " 'STX',\n",
       " 'FCX',\n",
       " 'WMT',\n",
       " 'GOOG',\n",
       " 'TMUS',\n",
       " 'JNPR',\n",
       " 'KEYS',\n",
       " 'VTRS',\n",
       " 'FTNT',\n",
       " 'FSLR',\n",
       " 'ELV',\n",
       " 'VRTX',\n",
       " 'EQIX',\n",
       " 'NEM',\n",
       " 'TMO',\n",
       " 'CEG',\n",
       " 'ORLY',\n",
       " 'TT',\n",
       " 'BLDR',\n",
       " 'IRM',\n",
       " 'INCY',\n",
       " 'STE',\n",
       " 'MNST',\n",
       " 'EXR',\n",
       " 'EL',\n",
       " 'EXC',\n",
       " 'OKE',\n",
       " 'EMN',\n",
       " 'USB',\n",
       " 'CNC',\n",
       " 'CB',\n",
       " 'WFC',\n",
       " 'FOXA',\n",
       " 'SYF',\n",
       " 'HOLX',\n",
       " 'LHX',\n",
       " 'PG',\n",
       " 'ADM',\n",
       " 'ES',\n",
       " 'AMD',\n",
       " 'NUE',\n",
       " 'TDY',\n",
       " 'KMB',\n",
       " 'HLT',\n",
       " 'NI',\n",
       " 'ROL',\n",
       " 'APD',\n",
       " 'TECH',\n",
       " 'FMC',\n",
       " 'GL',\n",
       " 'ABBV',\n",
       " 'FOX',\n",
       " 'PAYX',\n",
       " 'DLR',\n",
       " 'RTX',\n",
       " 'MPC',\n",
       " 'RJF',\n",
       " 'ESS',\n",
       " 'VTR',\n",
       " 'REG',\n",
       " 'GNRC',\n",
       " 'ORCL',\n",
       " 'TYL',\n",
       " 'MDT',\n",
       " 'PLD',\n",
       " 'AZO',\n",
       " 'CPRT',\n",
       " 'CMCSA',\n",
       " 'OMC',\n",
       " 'CRL',\n",
       " 'STT',\n",
       " 'TRGP',\n",
       " 'GOOGL',\n",
       " 'EXPD',\n",
       " 'APA',\n",
       " 'GEN',\n",
       " 'GRMN',\n",
       " 'CTAS',\n",
       " 'NVR',\n",
       " 'CME',\n",
       " 'BMY',\n",
       " 'DRI',\n",
       " 'ODFL',\n",
       " 'EMR',\n",
       " 'BKR',\n",
       " 'WELL',\n",
       " 'CAT',\n",
       " 'UAL',\n",
       " 'KMI',\n",
       " 'MET',\n",
       " 'EPAM',\n",
       " 'WST',\n",
       " 'MO',\n",
       " 'NOW',\n",
       " 'CBOE',\n",
       " 'NEE',\n",
       " 'BBWI',\n",
       " 'ITW',\n",
       " 'PXD',\n",
       " 'TROW',\n",
       " 'XEL',\n",
       " 'AON',\n",
       " 'TRV',\n",
       " 'O',\n",
       " 'BDX',\n",
       " 'D',\n",
       " 'EVRG',\n",
       " 'LYV',\n",
       " 'HAS',\n",
       " 'MSI',\n",
       " 'MRO',\n",
       " 'BX',\n",
       " 'KDP',\n",
       " 'GIS',\n",
       " 'VRSK',\n",
       " 'MA',\n",
       " 'ARE',\n",
       " 'PNC',\n",
       " 'SCHW',\n",
       " 'DXCM',\n",
       " 'AXP',\n",
       " 'FIS',\n",
       " 'V',\n",
       " 'NKE',\n",
       " 'CHRW',\n",
       " 'EOG',\n",
       " 'HON',\n",
       " 'HCA',\n",
       " 'PCAR',\n",
       " 'TTWO',\n",
       " 'CTRA',\n",
       " 'DUK',\n",
       " 'MOS',\n",
       " 'AXON',\n",
       " 'APH',\n",
       " 'HWM',\n",
       " 'LUV',\n",
       " 'GD',\n",
       " 'CPB',\n",
       " 'COP',\n",
       " 'COST',\n",
       " 'CDNS',\n",
       " 'GLW',\n",
       " 'DLTR',\n",
       " 'HAL',\n",
       " 'GILD',\n",
       " 'CZR',\n",
       " 'POOL',\n",
       " 'IPG',\n",
       " 'SPGI',\n",
       " 'ISRG',\n",
       " 'AME',\n",
       " 'NDSN',\n",
       " 'ILMN',\n",
       " 'GPC',\n",
       " 'LYB',\n",
       " 'ICE',\n",
       " 'INTC',\n",
       " 'DG',\n",
       " 'KR',\n",
       " 'MS',\n",
       " 'PCG',\n",
       " 'PEP',\n",
       " 'DVA',\n",
       " 'TSCO',\n",
       " 'PTC',\n",
       " 'ANET',\n",
       " 'PEG',\n",
       " 'DHR',\n",
       " 'NVDA',\n",
       " 'CNP',\n",
       " 'CSGP',\n",
       " 'TSLA',\n",
       " 'UDR',\n",
       " 'SBAC',\n",
       " 'EQT',\n",
       " 'KLAC',\n",
       " 'BF-B',\n",
       " 'BWA',\n",
       " 'NFLX',\n",
       " 'BAC',\n",
       " 'TSN',\n",
       " 'KHC',\n",
       " 'META',\n",
       " 'UNP',\n",
       " 'DFS',\n",
       " 'BK',\n",
       " 'VICI',\n",
       " 'BRO',\n",
       " 'CHTR',\n",
       " 'CTLT',\n",
       " 'WY',\n",
       " 'GPN',\n",
       " 'FITB',\n",
       " 'NXPI',\n",
       " 'CAG',\n",
       " 'NWS',\n",
       " 'SWK',\n",
       " 'SJM',\n",
       " 'A',\n",
       " 'PKG',\n",
       " 'BRK-B',\n",
       " 'PH',\n",
       " 'SWKS',\n",
       " 'VZ',\n",
       " 'TER',\n",
       " 'MMM',\n",
       " 'REGN',\n",
       " 'MLM',\n",
       " 'MAS',\n",
       " 'UHS',\n",
       " 'MKTX',\n",
       " 'AIG',\n",
       " 'VMC',\n",
       " 'QCOM',\n",
       " 'JPM',\n",
       " 'HUBB',\n",
       " 'MCHP',\n",
       " 'EW',\n",
       " 'ENPH',\n",
       " 'WRK',\n",
       " 'CRM',\n",
       " 'WRB',\n",
       " 'ROST',\n",
       " 'BR',\n",
       " 'MCO',\n",
       " 'DOC',\n",
       " 'ALL',\n",
       " 'WTW',\n",
       " 'CVS',\n",
       " 'LEN',\n",
       " 'TDG',\n",
       " 'AJG',\n",
       " 'HD',\n",
       " 'AMT',\n",
       " 'BALL',\n",
       " 'MDLZ',\n",
       " 'GS',\n",
       " 'PAYC',\n",
       " 'ROK',\n",
       " 'TAP',\n",
       " 'TGT',\n",
       " 'DECK',\n",
       " 'CF',\n",
       " 'DD',\n",
       " 'C',\n",
       " 'BIIB',\n",
       " 'RCL',\n",
       " 'NSC',\n",
       " 'AVB',\n",
       " 'XYL',\n",
       " 'AFL',\n",
       " 'MAR',\n",
       " 'RSG',\n",
       " 'ON',\n",
       " 'SYK',\n",
       " 'ABT',\n",
       " 'IR',\n",
       " 'SMCI',\n",
       " 'RL',\n",
       " 'LULU',\n",
       " 'MRNA',\n",
       " 'T',\n",
       " 'ED',\n",
       " 'COO',\n",
       " 'MOH',\n",
       " 'UNH',\n",
       " 'CSX',\n",
       " 'FI',\n",
       " 'SOLV',\n",
       " 'PWR',\n",
       " 'FRT',\n",
       " 'PODD',\n",
       " 'EFX',\n",
       " 'HRL',\n",
       " 'NTRS',\n",
       " 'PRU',\n",
       " 'ADSK',\n",
       " 'ZBRA',\n",
       " 'ANSS',\n",
       " 'TRMB',\n",
       " 'INVH',\n",
       " 'ADBE',\n",
       " 'CTVA',\n",
       " 'SNPS',\n",
       " 'IBM',\n",
       " 'FFIV',\n",
       " 'MKC',\n",
       " 'MCD',\n",
       " 'WM',\n",
       " 'AWK',\n",
       " 'WBD',\n",
       " 'RMD',\n",
       " 'L',\n",
       " 'NRG',\n",
       " 'PSX',\n",
       " 'AMCR',\n",
       " 'KEY',\n",
       " 'KO',\n",
       " 'PFG',\n",
       " 'GWW',\n",
       " 'NCLH',\n",
       " 'YUM',\n",
       " 'FAST',\n",
       " 'NOC',\n",
       " 'CHD',\n",
       " 'VLO',\n",
       " 'TEL',\n",
       " 'F',\n",
       " 'AOS',\n",
       " 'DTE',\n",
       " 'TPR',\n",
       " 'BKNG',\n",
       " 'CCI',\n",
       " 'MAA',\n",
       " 'STZ',\n",
       " 'IEX',\n",
       " 'CDW',\n",
       " 'LNT',\n",
       " 'XOM',\n",
       " 'CMA',\n",
       " 'VLTO',\n",
       " 'WYNN',\n",
       " 'IFF',\n",
       " 'IQV',\n",
       " 'AMGN',\n",
       " 'LLY',\n",
       " 'LOW',\n",
       " 'ULTA',\n",
       " 'AMZN',\n",
       " 'ALLE',\n",
       " 'PGR',\n",
       " 'MTD',\n",
       " 'AMAT',\n",
       " 'AVY',\n",
       " 'ZTS',\n",
       " 'APTV',\n",
       " 'PHM',\n",
       " 'LIN',\n",
       " 'ECL',\n",
       " 'CTSH',\n",
       " 'CSCO',\n",
       " 'AKAM',\n",
       " 'CCL',\n",
       " 'HII',\n",
       " 'CAH',\n",
       " 'VRSN',\n",
       " 'EXPE',\n",
       " 'CINF',\n",
       " 'DOW',\n",
       " 'BA',\n",
       " 'DIS',\n",
       " 'JCI',\n",
       " 'EG',\n",
       " 'AAPL',\n",
       " 'SLB',\n",
       " 'KMX',\n",
       " 'BSX',\n",
       " 'PM',\n",
       " 'FE',\n",
       " 'COF',\n",
       " 'TXN',\n",
       " 'ALGN',\n",
       " 'HPQ',\n",
       " 'ADP',\n",
       " 'NTAP',\n",
       " 'ETN',\n",
       " 'BEN',\n",
       " 'HSIC',\n",
       " 'AMP',\n",
       " 'INTU',\n",
       " 'STLD',\n",
       " 'HSY',\n",
       " 'HBAN',\n",
       " 'PNW',\n",
       " 'NDAQ',\n",
       " 'HPE',\n",
       " 'UBER',\n",
       " 'WDC',\n",
       " 'CLX',\n",
       " 'MRK',\n",
       " 'ATO',\n",
       " 'IP',\n",
       " 'DOV',\n",
       " 'AEE',\n",
       " 'EA',\n",
       " 'HUM',\n",
       " 'LW',\n",
       " 'LVS',\n",
       " 'RF',\n",
       " 'CL',\n",
       " 'HST',\n",
       " 'BAX',\n",
       " 'ACGL',\n",
       " 'WAT',\n",
       " 'PANW',\n",
       " 'DHI',\n",
       " 'SO',\n",
       " 'PFE',\n",
       " 'PSA',\n",
       " 'URI',\n",
       " 'DE',\n",
       " 'EIX',\n",
       " 'JBL',\n",
       " 'FICO',\n",
       " 'AVGO',\n",
       " 'LH',\n",
       " 'LRCX',\n",
       " 'MHK',\n",
       " 'CMS',\n",
       " 'CMI',\n",
       " 'DVN',\n",
       " 'WEC',\n",
       " 'ADI',\n",
       " 'WAB',\n",
       " 'BIO',\n",
       " 'CPAY',\n",
       " 'BBY',\n",
       " 'FTV',\n",
       " 'BLK',\n",
       " 'ALB',\n",
       " 'TJX',\n",
       " 'JBHT',\n",
       " 'MGM',\n",
       " 'AEP',\n",
       " 'ACN',\n",
       " 'KVUE',\n",
       " 'FANG',\n",
       " 'SNA',\n",
       " 'ETR',\n",
       " 'RHI',\n",
       " 'OXY',\n",
       " 'SBUX',\n",
       " 'BXP',\n",
       " 'K',\n",
       " 'WBA']"
      ]
     },
     "execution_count": 4,
     "metadata": {},
     "output_type": "execute_result"
    }
   ],
   "source": [
    "files = [x for x in listdir(PATH) if isfile(join(PATH, x))]\n",
    "tickers = [os.path.splitext(x)[0] for x in files]\n",
    "tickers"
   ]
  },
  {
   "cell_type": "code",
   "execution_count": 5,
   "id": "b9674626-92f3-4138-bb15-e0641eb4be39",
   "metadata": {},
   "outputs": [
    {
     "data": {
      "text/plain": [
       "500"
      ]
     },
     "execution_count": 5,
     "metadata": {},
     "output_type": "execute_result"
    }
   ],
   "source": [
    "tickers.sort()\n",
    "len(tickers)"
   ]
  },
  {
   "cell_type": "markdown",
   "id": "54ce0758-5257-4d52-bba9-4994ad3e5980",
   "metadata": {},
   "source": [
    "#### Function that saves dataframe to CSV"
   ]
  },
  {
   "cell_type": "code",
   "execution_count": 6,
   "id": "8f04ce3c-edfd-45c0-883e-2c22f29d5b8e",
   "metadata": {},
   "outputs": [],
   "source": [
    "# Function that gets a dataframe by providing a ticker and starting date\n",
    "def save_to_csv_from_yahoo(ticker, syear, smonth, sday, eyear, emonth, eday):\n",
    "    # Define the time periods to use\n",
    "    start = dt.datetime(syear, smonth, sday)\n",
    "    end = dt.datetime(eyear, emonth, eday)\n",
    "\n",
    "    try:\n",
    "        print(\"Get data for : \", ticker)\n",
    "        # Reads the data into dataframe\n",
    "        df = yf.download(ticker, start, end)['Adj Close']\n",
    "\n",
    "        # Save data to a csv file \n",
    "        df.to_csv('/home/johnadi/Desktop/projects/projects-from-yt-channel-derek-banas/python-for-finance/Updated Stocks/' + ticker + '.csv')\n",
    "\n",
    "        # wait 10 seconds\n",
    "        time.sleep(5)\n",
    "    \n",
    "    except Exception as ex:\n",
    "        stocks_not_downloaded.append(ticker)\n",
    "        print(\"Could not get data for: \", ticker)"
   ]
  },
  {
   "cell_type": "code",
   "execution_count": null,
   "id": "63a66f74-ad24-4b26-a572-d37b52c074b4",
   "metadata": {},
   "outputs": [],
   "source": []
  },
  {
   "cell_type": "code",
   "execution_count": 7,
   "id": "270bf754-1294-4504-a6f9-0d980058ce6b",
   "metadata": {
    "scrolled": true
   },
   "outputs": [
    {
     "name": "stdout",
     "output_type": "stream",
     "text": [
      "Get data for :  A\n"
     ]
    },
    {
     "name": "stderr",
     "output_type": "stream",
     "text": [
      "[*********************100%%**********************]  1 of 1 completed\n"
     ]
    },
    {
     "name": "stdout",
     "output_type": "stream",
     "text": [
      "Get data for :  AAL\n"
     ]
    },
    {
     "name": "stderr",
     "output_type": "stream",
     "text": [
      "[*********************100%%**********************]  1 of 1 completed\n"
     ]
    },
    {
     "name": "stdout",
     "output_type": "stream",
     "text": [
      "Get data for :  AAPL\n"
     ]
    },
    {
     "name": "stderr",
     "output_type": "stream",
     "text": [
      "[*********************100%%**********************]  1 of 1 completed\n",
      "[*********************100%%**********************]  1 of 1 completed"
     ]
    },
    {
     "name": "stdout",
     "output_type": "stream",
     "text": [
      "Get data for :  ABBV\n"
     ]
    },
    {
     "name": "stderr",
     "output_type": "stream",
     "text": [
      "\n",
      "[*********************100%%**********************]  1 of 1 completed"
     ]
    },
    {
     "name": "stdout",
     "output_type": "stream",
     "text": [
      "Get data for :  ABT\n"
     ]
    },
    {
     "name": "stderr",
     "output_type": "stream",
     "text": [
      "\n",
      "[*********************100%%**********************]  1 of 1 completed"
     ]
    },
    {
     "name": "stdout",
     "output_type": "stream",
     "text": [
      "Get data for :  ACGL\n"
     ]
    },
    {
     "name": "stderr",
     "output_type": "stream",
     "text": [
      "\n"
     ]
    },
    {
     "name": "stdout",
     "output_type": "stream",
     "text": [
      "Get data for :  ACN\n"
     ]
    },
    {
     "name": "stderr",
     "output_type": "stream",
     "text": [
      "[*********************100%%**********************]  1 of 1 completed\n"
     ]
    },
    {
     "name": "stdout",
     "output_type": "stream",
     "text": [
      "Get data for :  ADBE\n"
     ]
    },
    {
     "name": "stderr",
     "output_type": "stream",
     "text": [
      "[*********************100%%**********************]  1 of 1 completed\n",
      "[*********************100%%**********************]  1 of 1 completed"
     ]
    },
    {
     "name": "stdout",
     "output_type": "stream",
     "text": [
      "Get data for :  ADI\n"
     ]
    },
    {
     "name": "stderr",
     "output_type": "stream",
     "text": [
      "\n",
      "[*********************100%%**********************]  1 of 1 completed"
     ]
    },
    {
     "name": "stdout",
     "output_type": "stream",
     "text": [
      "Get data for :  ADM\n"
     ]
    },
    {
     "name": "stderr",
     "output_type": "stream",
     "text": [
      "\n"
     ]
    },
    {
     "name": "stdout",
     "output_type": "stream",
     "text": [
      "Get data for :  ADP\n"
     ]
    },
    {
     "name": "stderr",
     "output_type": "stream",
     "text": [
      "[*********************100%%**********************]  1 of 1 completed\n"
     ]
    },
    {
     "name": "stdout",
     "output_type": "stream",
     "text": [
      "Get data for :  ADSK\n"
     ]
    },
    {
     "name": "stderr",
     "output_type": "stream",
     "text": [
      "[*********************100%%**********************]  1 of 1 completed\n"
     ]
    },
    {
     "name": "stdout",
     "output_type": "stream",
     "text": [
      "Get data for :  AEE\n"
     ]
    },
    {
     "name": "stderr",
     "output_type": "stream",
     "text": [
      "[*********************100%%**********************]  1 of 1 completed\n"
     ]
    },
    {
     "name": "stdout",
     "output_type": "stream",
     "text": [
      "Get data for :  AEP\n"
     ]
    },
    {
     "name": "stderr",
     "output_type": "stream",
     "text": [
      "[*********************100%%**********************]  1 of 1 completed\n",
      "[*********************100%%**********************]  1 of 1 completed"
     ]
    },
    {
     "name": "stdout",
     "output_type": "stream",
     "text": [
      "Get data for :  AES\n"
     ]
    },
    {
     "name": "stderr",
     "output_type": "stream",
     "text": [
      "\n",
      "[*********************100%%**********************]  1 of 1 completed"
     ]
    },
    {
     "name": "stdout",
     "output_type": "stream",
     "text": [
      "Get data for :  AFL\n"
     ]
    },
    {
     "name": "stderr",
     "output_type": "stream",
     "text": [
      "\n",
      "[*********************100%%**********************]  1 of 1 completed"
     ]
    },
    {
     "name": "stdout",
     "output_type": "stream",
     "text": [
      "Get data for :  AIG\n"
     ]
    },
    {
     "name": "stderr",
     "output_type": "stream",
     "text": [
      "\n",
      "[*********************100%%**********************]  1 of 1 completed"
     ]
    },
    {
     "name": "stdout",
     "output_type": "stream",
     "text": [
      "Get data for :  AIZ\n"
     ]
    },
    {
     "name": "stderr",
     "output_type": "stream",
     "text": [
      "\n",
      "[*********************100%%**********************]  1 of 1 completed"
     ]
    },
    {
     "name": "stdout",
     "output_type": "stream",
     "text": [
      "Get data for :  AJG\n"
     ]
    },
    {
     "name": "stderr",
     "output_type": "stream",
     "text": [
      "\n",
      "[*********************100%%**********************]  1 of 1 completed"
     ]
    },
    {
     "name": "stdout",
     "output_type": "stream",
     "text": [
      "Get data for :  AKAM\n"
     ]
    },
    {
     "name": "stderr",
     "output_type": "stream",
     "text": [
      "\n"
     ]
    },
    {
     "name": "stdout",
     "output_type": "stream",
     "text": [
      "Get data for :  ALB\n"
     ]
    },
    {
     "name": "stderr",
     "output_type": "stream",
     "text": [
      "[*********************100%%**********************]  1 of 1 completed\n"
     ]
    },
    {
     "name": "stdout",
     "output_type": "stream",
     "text": [
      "Get data for :  ALGN\n"
     ]
    },
    {
     "name": "stderr",
     "output_type": "stream",
     "text": [
      "[*********************100%%**********************]  1 of 1 completed\n"
     ]
    },
    {
     "name": "stdout",
     "output_type": "stream",
     "text": [
      "Get data for :  ALL\n"
     ]
    },
    {
     "name": "stderr",
     "output_type": "stream",
     "text": [
      "[*********************100%%**********************]  1 of 1 completed\n"
     ]
    },
    {
     "name": "stdout",
     "output_type": "stream",
     "text": [
      "Get data for :  ALLE\n"
     ]
    },
    {
     "name": "stderr",
     "output_type": "stream",
     "text": [
      "[*********************100%%**********************]  1 of 1 completed\n"
     ]
    },
    {
     "name": "stdout",
     "output_type": "stream",
     "text": [
      "Get data for :  AMAT\n"
     ]
    },
    {
     "name": "stderr",
     "output_type": "stream",
     "text": [
      "[*********************100%%**********************]  1 of 1 completed\n"
     ]
    },
    {
     "name": "stdout",
     "output_type": "stream",
     "text": [
      "Get data for :  AMCR\n"
     ]
    },
    {
     "name": "stderr",
     "output_type": "stream",
     "text": [
      "[*********************100%%**********************]  1 of 1 completed\n"
     ]
    },
    {
     "name": "stdout",
     "output_type": "stream",
     "text": [
      "Get data for :  AMD\n"
     ]
    },
    {
     "name": "stderr",
     "output_type": "stream",
     "text": [
      "[*********************100%%**********************]  1 of 1 completed\n"
     ]
    },
    {
     "name": "stdout",
     "output_type": "stream",
     "text": [
      "Get data for :  AME\n"
     ]
    },
    {
     "name": "stderr",
     "output_type": "stream",
     "text": [
      "[*********************100%%**********************]  1 of 1 completed\n",
      "[*********************100%%**********************]  1 of 1 completed"
     ]
    },
    {
     "name": "stdout",
     "output_type": "stream",
     "text": [
      "Get data for :  AMGN\n"
     ]
    },
    {
     "name": "stderr",
     "output_type": "stream",
     "text": [
      "\n"
     ]
    },
    {
     "name": "stdout",
     "output_type": "stream",
     "text": [
      "Get data for :  AMP\n"
     ]
    },
    {
     "name": "stderr",
     "output_type": "stream",
     "text": [
      "[*********************100%%**********************]  1 of 1 completed\n",
      "[*********************100%%**********************]  1 of 1 completed"
     ]
    },
    {
     "name": "stdout",
     "output_type": "stream",
     "text": [
      "Get data for :  AMT\n"
     ]
    },
    {
     "name": "stderr",
     "output_type": "stream",
     "text": [
      "\n",
      "[*********************100%%**********************]  1 of 1 completed"
     ]
    },
    {
     "name": "stdout",
     "output_type": "stream",
     "text": [
      "Get data for :  AMZN\n"
     ]
    },
    {
     "name": "stderr",
     "output_type": "stream",
     "text": [
      "\n",
      "[*********************100%%**********************]  1 of 1 completed"
     ]
    },
    {
     "name": "stdout",
     "output_type": "stream",
     "text": [
      "Get data for :  ANET\n"
     ]
    },
    {
     "name": "stderr",
     "output_type": "stream",
     "text": [
      "\n",
      "[*********************100%%**********************]  1 of 1 completed"
     ]
    },
    {
     "name": "stdout",
     "output_type": "stream",
     "text": [
      "Get data for :  ANSS\n"
     ]
    },
    {
     "name": "stderr",
     "output_type": "stream",
     "text": [
      "\n"
     ]
    },
    {
     "name": "stdout",
     "output_type": "stream",
     "text": [
      "Get data for :  AON\n"
     ]
    },
    {
     "name": "stderr",
     "output_type": "stream",
     "text": [
      "[*********************100%%**********************]  1 of 1 completed\n"
     ]
    },
    {
     "name": "stdout",
     "output_type": "stream",
     "text": [
      "Get data for :  AOS\n"
     ]
    },
    {
     "name": "stderr",
     "output_type": "stream",
     "text": [
      "[*********************100%%**********************]  1 of 1 completed\n"
     ]
    },
    {
     "name": "stdout",
     "output_type": "stream",
     "text": [
      "Get data for :  APA\n"
     ]
    },
    {
     "name": "stderr",
     "output_type": "stream",
     "text": [
      "[*********************100%%**********************]  1 of 1 completed\n"
     ]
    },
    {
     "name": "stdout",
     "output_type": "stream",
     "text": [
      "Get data for :  APD\n"
     ]
    },
    {
     "name": "stderr",
     "output_type": "stream",
     "text": [
      "[*********************100%%**********************]  1 of 1 completed\n",
      "[*********************100%%**********************]  1 of 1 completed"
     ]
    },
    {
     "name": "stdout",
     "output_type": "stream",
     "text": [
      "Get data for :  APH\n"
     ]
    },
    {
     "name": "stderr",
     "output_type": "stream",
     "text": [
      "\n"
     ]
    },
    {
     "name": "stdout",
     "output_type": "stream",
     "text": [
      "Get data for :  APTV\n"
     ]
    },
    {
     "name": "stderr",
     "output_type": "stream",
     "text": [
      "[*********************100%%**********************]  1 of 1 completed\n"
     ]
    },
    {
     "name": "stdout",
     "output_type": "stream",
     "text": [
      "Get data for :  ARE\n"
     ]
    },
    {
     "name": "stderr",
     "output_type": "stream",
     "text": [
      "[*********************100%%**********************]  1 of 1 completed\n"
     ]
    },
    {
     "name": "stdout",
     "output_type": "stream",
     "text": [
      "Get data for :  ATO\n"
     ]
    },
    {
     "name": "stderr",
     "output_type": "stream",
     "text": [
      "[*********************100%%**********************]  1 of 1 completed\n",
      "[*********************100%%**********************]  1 of 1 completed"
     ]
    },
    {
     "name": "stdout",
     "output_type": "stream",
     "text": [
      "Get data for :  AVB\n"
     ]
    },
    {
     "name": "stderr",
     "output_type": "stream",
     "text": [
      "\n"
     ]
    },
    {
     "name": "stdout",
     "output_type": "stream",
     "text": [
      "Get data for :  AVGO\n"
     ]
    },
    {
     "name": "stderr",
     "output_type": "stream",
     "text": [
      "[*********************100%%**********************]  1 of 1 completed\n"
     ]
    },
    {
     "name": "stdout",
     "output_type": "stream",
     "text": [
      "Get data for :  AVY\n"
     ]
    },
    {
     "name": "stderr",
     "output_type": "stream",
     "text": [
      "[*********************100%%**********************]  1 of 1 completed\n"
     ]
    },
    {
     "name": "stdout",
     "output_type": "stream",
     "text": [
      "Get data for :  AWK\n"
     ]
    },
    {
     "name": "stderr",
     "output_type": "stream",
     "text": [
      "[*********************100%%**********************]  1 of 1 completed\n",
      "[*********************100%%**********************]  1 of 1 completed"
     ]
    },
    {
     "name": "stdout",
     "output_type": "stream",
     "text": [
      "Get data for :  AXON\n"
     ]
    },
    {
     "name": "stderr",
     "output_type": "stream",
     "text": [
      "\n"
     ]
    },
    {
     "name": "stdout",
     "output_type": "stream",
     "text": [
      "Get data for :  AXP\n"
     ]
    },
    {
     "name": "stderr",
     "output_type": "stream",
     "text": [
      "[*********************100%%**********************]  1 of 1 completed\n",
      "[*********************100%%**********************]  1 of 1 completed"
     ]
    },
    {
     "name": "stdout",
     "output_type": "stream",
     "text": [
      "Get data for :  AZO\n"
     ]
    },
    {
     "name": "stderr",
     "output_type": "stream",
     "text": [
      "\n"
     ]
    },
    {
     "name": "stdout",
     "output_type": "stream",
     "text": [
      "Get data for :  BA\n"
     ]
    },
    {
     "name": "stderr",
     "output_type": "stream",
     "text": [
      "[*********************100%%**********************]  1 of 1 completed\n"
     ]
    },
    {
     "name": "stdout",
     "output_type": "stream",
     "text": [
      "Get data for :  BAC\n"
     ]
    },
    {
     "name": "stderr",
     "output_type": "stream",
     "text": [
      "[*********************100%%**********************]  1 of 1 completed\n"
     ]
    },
    {
     "name": "stdout",
     "output_type": "stream",
     "text": [
      "Get data for :  BALL\n"
     ]
    },
    {
     "name": "stderr",
     "output_type": "stream",
     "text": [
      "[*********************100%%**********************]  1 of 1 completed\n"
     ]
    },
    {
     "name": "stdout",
     "output_type": "stream",
     "text": [
      "Get data for :  BAX\n"
     ]
    },
    {
     "name": "stderr",
     "output_type": "stream",
     "text": [
      "[*********************100%%**********************]  1 of 1 completed\n"
     ]
    },
    {
     "name": "stdout",
     "output_type": "stream",
     "text": [
      "Get data for :  BBWI\n"
     ]
    },
    {
     "name": "stderr",
     "output_type": "stream",
     "text": [
      "[*********************100%%**********************]  1 of 1 completed\n"
     ]
    },
    {
     "name": "stdout",
     "output_type": "stream",
     "text": [
      "Get data for :  BBY\n"
     ]
    },
    {
     "name": "stderr",
     "output_type": "stream",
     "text": [
      "[*********************100%%**********************]  1 of 1 completed\n"
     ]
    },
    {
     "name": "stdout",
     "output_type": "stream",
     "text": [
      "Get data for :  BDX\n"
     ]
    },
    {
     "name": "stderr",
     "output_type": "stream",
     "text": [
      "[*********************100%%**********************]  1 of 1 completed\n",
      "[*********************100%%**********************]  1 of 1 completed"
     ]
    },
    {
     "name": "stdout",
     "output_type": "stream",
     "text": [
      "Get data for :  BEN\n"
     ]
    },
    {
     "name": "stderr",
     "output_type": "stream",
     "text": [
      "\n",
      "[*********************100%%**********************]  1 of 1 completed"
     ]
    },
    {
     "name": "stdout",
     "output_type": "stream",
     "text": [
      "Get data for :  BF-B\n"
     ]
    },
    {
     "name": "stderr",
     "output_type": "stream",
     "text": [
      "\n"
     ]
    },
    {
     "name": "stdout",
     "output_type": "stream",
     "text": [
      "Get data for :  BG\n"
     ]
    },
    {
     "name": "stderr",
     "output_type": "stream",
     "text": [
      "[*********************100%%**********************]  1 of 1 completed\n"
     ]
    },
    {
     "name": "stdout",
     "output_type": "stream",
     "text": [
      "Get data for :  BIIB\n"
     ]
    },
    {
     "name": "stderr",
     "output_type": "stream",
     "text": [
      "[*********************100%%**********************]  1 of 1 completed\n"
     ]
    },
    {
     "name": "stdout",
     "output_type": "stream",
     "text": [
      "Get data for :  BIO\n"
     ]
    },
    {
     "name": "stderr",
     "output_type": "stream",
     "text": [
      "[*********************100%%**********************]  1 of 1 completed\n"
     ]
    },
    {
     "name": "stdout",
     "output_type": "stream",
     "text": [
      "Get data for :  BK\n"
     ]
    },
    {
     "name": "stderr",
     "output_type": "stream",
     "text": [
      "[*********************100%%**********************]  1 of 1 completed\n",
      "[*********************100%%**********************]  1 of 1 completed"
     ]
    },
    {
     "name": "stdout",
     "output_type": "stream",
     "text": [
      "Get data for :  BKNG\n"
     ]
    },
    {
     "name": "stderr",
     "output_type": "stream",
     "text": [
      "\n"
     ]
    },
    {
     "name": "stdout",
     "output_type": "stream",
     "text": [
      "Get data for :  BKR\n"
     ]
    },
    {
     "name": "stderr",
     "output_type": "stream",
     "text": [
      "[*********************100%%**********************]  1 of 1 completed\n",
      "[*********************100%%**********************]  1 of 1 completed"
     ]
    },
    {
     "name": "stdout",
     "output_type": "stream",
     "text": [
      "Get data for :  BLDR\n"
     ]
    },
    {
     "name": "stderr",
     "output_type": "stream",
     "text": [
      "\n"
     ]
    },
    {
     "name": "stdout",
     "output_type": "stream",
     "text": [
      "Get data for :  BLK\n"
     ]
    },
    {
     "name": "stderr",
     "output_type": "stream",
     "text": [
      "[*********************100%%**********************]  1 of 1 completed\n"
     ]
    },
    {
     "name": "stdout",
     "output_type": "stream",
     "text": [
      "Get data for :  BMY\n"
     ]
    },
    {
     "name": "stderr",
     "output_type": "stream",
     "text": [
      "[*********************100%%**********************]  1 of 1 completed\n"
     ]
    },
    {
     "name": "stdout",
     "output_type": "stream",
     "text": [
      "Get data for :  BR\n"
     ]
    },
    {
     "name": "stderr",
     "output_type": "stream",
     "text": [
      "[*********************100%%**********************]  1 of 1 completed\n",
      "[*********************100%%**********************]  1 of 1 completed"
     ]
    },
    {
     "name": "stdout",
     "output_type": "stream",
     "text": [
      "Get data for :  BRK-B\n"
     ]
    },
    {
     "name": "stderr",
     "output_type": "stream",
     "text": [
      "\n"
     ]
    },
    {
     "name": "stdout",
     "output_type": "stream",
     "text": [
      "Get data for :  BRO\n"
     ]
    },
    {
     "name": "stderr",
     "output_type": "stream",
     "text": [
      "[*********************100%%**********************]  1 of 1 completed\n"
     ]
    },
    {
     "name": "stdout",
     "output_type": "stream",
     "text": [
      "Get data for :  BSX\n"
     ]
    },
    {
     "name": "stderr",
     "output_type": "stream",
     "text": [
      "[*********************100%%**********************]  1 of 1 completed\n"
     ]
    },
    {
     "name": "stdout",
     "output_type": "stream",
     "text": [
      "Get data for :  BWA\n"
     ]
    },
    {
     "name": "stderr",
     "output_type": "stream",
     "text": [
      "[*********************100%%**********************]  1 of 1 completed\n",
      "[*********************100%%**********************]  1 of 1 completed"
     ]
    },
    {
     "name": "stdout",
     "output_type": "stream",
     "text": [
      "Get data for :  BX\n"
     ]
    },
    {
     "name": "stderr",
     "output_type": "stream",
     "text": [
      "\n"
     ]
    },
    {
     "name": "stdout",
     "output_type": "stream",
     "text": [
      "Get data for :  BXP\n"
     ]
    },
    {
     "name": "stderr",
     "output_type": "stream",
     "text": [
      "[*********************100%%**********************]  1 of 1 completed\n"
     ]
    },
    {
     "name": "stdout",
     "output_type": "stream",
     "text": [
      "Get data for :  C\n"
     ]
    },
    {
     "name": "stderr",
     "output_type": "stream",
     "text": [
      "[*********************100%%**********************]  1 of 1 completed\n"
     ]
    },
    {
     "name": "stdout",
     "output_type": "stream",
     "text": [
      "Get data for :  CAG\n"
     ]
    },
    {
     "name": "stderr",
     "output_type": "stream",
     "text": [
      "[*********************100%%**********************]  1 of 1 completed\n"
     ]
    },
    {
     "name": "stdout",
     "output_type": "stream",
     "text": [
      "Get data for :  CAH\n"
     ]
    },
    {
     "name": "stderr",
     "output_type": "stream",
     "text": [
      "[*********************100%%**********************]  1 of 1 completed\n"
     ]
    },
    {
     "name": "stdout",
     "output_type": "stream",
     "text": [
      "Get data for :  CAT\n"
     ]
    },
    {
     "name": "stderr",
     "output_type": "stream",
     "text": [
      "[*********************100%%**********************]  1 of 1 completed\n"
     ]
    },
    {
     "name": "stdout",
     "output_type": "stream",
     "text": [
      "Get data for :  CB\n"
     ]
    },
    {
     "name": "stderr",
     "output_type": "stream",
     "text": [
      "[*********************100%%**********************]  1 of 1 completed\n"
     ]
    },
    {
     "name": "stdout",
     "output_type": "stream",
     "text": [
      "Get data for :  CBOE\n"
     ]
    },
    {
     "name": "stderr",
     "output_type": "stream",
     "text": [
      "[*********************100%%**********************]  1 of 1 completed\n"
     ]
    },
    {
     "name": "stdout",
     "output_type": "stream",
     "text": [
      "Get data for :  CBRE\n"
     ]
    },
    {
     "name": "stderr",
     "output_type": "stream",
     "text": [
      "[*********************100%%**********************]  1 of 1 completed\n",
      "[*********************100%%**********************]  1 of 1 completed"
     ]
    },
    {
     "name": "stdout",
     "output_type": "stream",
     "text": [
      "Get data for :  CCI\n"
     ]
    },
    {
     "name": "stderr",
     "output_type": "stream",
     "text": [
      "\n",
      "[*********************100%%**********************]  1 of 1 completed"
     ]
    },
    {
     "name": "stdout",
     "output_type": "stream",
     "text": [
      "Get data for :  CCL\n"
     ]
    },
    {
     "name": "stderr",
     "output_type": "stream",
     "text": [
      "\n"
     ]
    },
    {
     "name": "stdout",
     "output_type": "stream",
     "text": [
      "Get data for :  CDNS\n"
     ]
    },
    {
     "name": "stderr",
     "output_type": "stream",
     "text": [
      "[*********************100%%**********************]  1 of 1 completed\n",
      "[*********************100%%**********************]  1 of 1 completed"
     ]
    },
    {
     "name": "stdout",
     "output_type": "stream",
     "text": [
      "Get data for :  CDW\n"
     ]
    },
    {
     "name": "stderr",
     "output_type": "stream",
     "text": [
      "\n"
     ]
    },
    {
     "name": "stdout",
     "output_type": "stream",
     "text": [
      "Get data for :  CE\n"
     ]
    },
    {
     "name": "stderr",
     "output_type": "stream",
     "text": [
      "[*********************100%%**********************]  1 of 1 completed\n"
     ]
    },
    {
     "name": "stdout",
     "output_type": "stream",
     "text": [
      "Get data for :  CEG\n"
     ]
    },
    {
     "name": "stderr",
     "output_type": "stream",
     "text": [
      "[*********************100%%**********************]  1 of 1 completed\n",
      "\n",
      "1 Failed download:\n",
      "['CEG']: Exception(\"%ticker%: Data doesn't exist for startDate = 1629432000, endDate = 1631246400\")\n",
      "[*********************100%%**********************]  1 of 1 completed"
     ]
    },
    {
     "name": "stdout",
     "output_type": "stream",
     "text": [
      "Get data for :  CF\n"
     ]
    },
    {
     "name": "stderr",
     "output_type": "stream",
     "text": [
      "\n"
     ]
    },
    {
     "name": "stdout",
     "output_type": "stream",
     "text": [
      "Get data for :  CFG\n"
     ]
    },
    {
     "name": "stderr",
     "output_type": "stream",
     "text": [
      "[*********************100%%**********************]  1 of 1 completed\n"
     ]
    },
    {
     "name": "stdout",
     "output_type": "stream",
     "text": [
      "Get data for :  CHD\n"
     ]
    },
    {
     "name": "stderr",
     "output_type": "stream",
     "text": [
      "[*********************100%%**********************]  1 of 1 completed\n"
     ]
    },
    {
     "name": "stdout",
     "output_type": "stream",
     "text": [
      "Get data for :  CHRW\n"
     ]
    },
    {
     "name": "stderr",
     "output_type": "stream",
     "text": [
      "[*********************100%%**********************]  1 of 1 completed\n",
      "[*********************100%%**********************]  1 of 1 completed"
     ]
    },
    {
     "name": "stdout",
     "output_type": "stream",
     "text": [
      "Get data for :  CHTR\n"
     ]
    },
    {
     "name": "stderr",
     "output_type": "stream",
     "text": [
      "\n"
     ]
    },
    {
     "name": "stdout",
     "output_type": "stream",
     "text": [
      "Get data for :  CI\n"
     ]
    },
    {
     "name": "stderr",
     "output_type": "stream",
     "text": [
      "[*********************100%%**********************]  1 of 1 completed\n"
     ]
    },
    {
     "name": "stdout",
     "output_type": "stream",
     "text": [
      "Get data for :  CINF\n"
     ]
    },
    {
     "name": "stderr",
     "output_type": "stream",
     "text": [
      "[*********************100%%**********************]  1 of 1 completed\n"
     ]
    },
    {
     "name": "stdout",
     "output_type": "stream",
     "text": [
      "Get data for :  CL\n"
     ]
    },
    {
     "name": "stderr",
     "output_type": "stream",
     "text": [
      "[*********************100%%**********************]  1 of 1 completed\n"
     ]
    },
    {
     "name": "stdout",
     "output_type": "stream",
     "text": [
      "Get data for :  CLX\n"
     ]
    },
    {
     "name": "stderr",
     "output_type": "stream",
     "text": [
      "[*********************100%%**********************]  1 of 1 completed\n"
     ]
    },
    {
     "name": "stdout",
     "output_type": "stream",
     "text": [
      "Get data for :  CMA\n"
     ]
    },
    {
     "name": "stderr",
     "output_type": "stream",
     "text": [
      "[*********************100%%**********************]  1 of 1 completed\n"
     ]
    },
    {
     "name": "stdout",
     "output_type": "stream",
     "text": [
      "Get data for :  CMCSA\n"
     ]
    },
    {
     "name": "stderr",
     "output_type": "stream",
     "text": [
      "[*********************100%%**********************]  1 of 1 completed\n"
     ]
    },
    {
     "name": "stdout",
     "output_type": "stream",
     "text": [
      "Get data for :  CME\n"
     ]
    },
    {
     "name": "stderr",
     "output_type": "stream",
     "text": [
      "[*********************100%%**********************]  1 of 1 completed\n",
      "[*********************100%%**********************]  1 of 1 completed"
     ]
    },
    {
     "name": "stdout",
     "output_type": "stream",
     "text": [
      "Get data for :  CMG\n"
     ]
    },
    {
     "name": "stderr",
     "output_type": "stream",
     "text": [
      "\n"
     ]
    },
    {
     "name": "stdout",
     "output_type": "stream",
     "text": [
      "Get data for :  CMI\n"
     ]
    },
    {
     "name": "stderr",
     "output_type": "stream",
     "text": [
      "[*********************100%%**********************]  1 of 1 completed\n"
     ]
    },
    {
     "name": "stdout",
     "output_type": "stream",
     "text": [
      "Get data for :  CMS\n"
     ]
    },
    {
     "name": "stderr",
     "output_type": "stream",
     "text": [
      "[*********************100%%**********************]  1 of 1 completed\n"
     ]
    },
    {
     "name": "stdout",
     "output_type": "stream",
     "text": [
      "Get data for :  CNC\n"
     ]
    },
    {
     "name": "stderr",
     "output_type": "stream",
     "text": [
      "[*********************100%%**********************]  1 of 1 completed\n"
     ]
    },
    {
     "name": "stdout",
     "output_type": "stream",
     "text": [
      "Get data for :  CNP\n"
     ]
    },
    {
     "name": "stderr",
     "output_type": "stream",
     "text": [
      "[*********************100%%**********************]  1 of 1 completed\n"
     ]
    },
    {
     "name": "stdout",
     "output_type": "stream",
     "text": [
      "Get data for :  COF\n"
     ]
    },
    {
     "name": "stderr",
     "output_type": "stream",
     "text": [
      "[*********************100%%**********************]  1 of 1 completed\n"
     ]
    },
    {
     "name": "stdout",
     "output_type": "stream",
     "text": [
      "Get data for :  COO\n"
     ]
    },
    {
     "name": "stderr",
     "output_type": "stream",
     "text": [
      "[*********************100%%**********************]  1 of 1 completed\n"
     ]
    },
    {
     "name": "stdout",
     "output_type": "stream",
     "text": [
      "Get data for :  COP\n"
     ]
    },
    {
     "name": "stderr",
     "output_type": "stream",
     "text": [
      "[*********************100%%**********************]  1 of 1 completed\n"
     ]
    },
    {
     "name": "stdout",
     "output_type": "stream",
     "text": [
      "Get data for :  COR\n"
     ]
    },
    {
     "name": "stderr",
     "output_type": "stream",
     "text": [
      "[*********************100%%**********************]  1 of 1 completed\n"
     ]
    },
    {
     "name": "stdout",
     "output_type": "stream",
     "text": [
      "Get data for :  COST\n"
     ]
    },
    {
     "name": "stderr",
     "output_type": "stream",
     "text": [
      "[*********************100%%**********************]  1 of 1 completed\n",
      "[*********************100%%**********************]  1 of 1 completed"
     ]
    },
    {
     "name": "stdout",
     "output_type": "stream",
     "text": [
      "Get data for :  CPAY\n"
     ]
    },
    {
     "name": "stderr",
     "output_type": "stream",
     "text": [
      "\n"
     ]
    },
    {
     "name": "stdout",
     "output_type": "stream",
     "text": [
      "Get data for :  CPB\n"
     ]
    },
    {
     "name": "stderr",
     "output_type": "stream",
     "text": [
      "[*********************100%%**********************]  1 of 1 completed\n",
      "[*********************100%%**********************]  1 of 1 completed"
     ]
    },
    {
     "name": "stdout",
     "output_type": "stream",
     "text": [
      "Get data for :  CPRT\n"
     ]
    },
    {
     "name": "stderr",
     "output_type": "stream",
     "text": [
      "\n"
     ]
    },
    {
     "name": "stdout",
     "output_type": "stream",
     "text": [
      "Get data for :  CPT\n"
     ]
    },
    {
     "name": "stderr",
     "output_type": "stream",
     "text": [
      "[*********************100%%**********************]  1 of 1 completed\n",
      "[*********************100%%**********************]  1 of 1 completed"
     ]
    },
    {
     "name": "stdout",
     "output_type": "stream",
     "text": [
      "Get data for :  CRL\n"
     ]
    },
    {
     "name": "stderr",
     "output_type": "stream",
     "text": [
      "\n"
     ]
    },
    {
     "name": "stdout",
     "output_type": "stream",
     "text": [
      "Get data for :  CRM\n"
     ]
    },
    {
     "name": "stderr",
     "output_type": "stream",
     "text": [
      "[*********************100%%**********************]  1 of 1 completed\n",
      "[*********************100%%**********************]  1 of 1 completed"
     ]
    },
    {
     "name": "stdout",
     "output_type": "stream",
     "text": [
      "Get data for :  CSCO\n"
     ]
    },
    {
     "name": "stderr",
     "output_type": "stream",
     "text": [
      "\n",
      "[*********************100%%**********************]  1 of 1 completed"
     ]
    },
    {
     "name": "stdout",
     "output_type": "stream",
     "text": [
      "Get data for :  CSGP\n"
     ]
    },
    {
     "name": "stderr",
     "output_type": "stream",
     "text": [
      "\n"
     ]
    },
    {
     "name": "stdout",
     "output_type": "stream",
     "text": [
      "Get data for :  CSX\n"
     ]
    },
    {
     "name": "stderr",
     "output_type": "stream",
     "text": [
      "[*********************100%%**********************]  1 of 1 completed\n"
     ]
    },
    {
     "name": "stdout",
     "output_type": "stream",
     "text": [
      "Get data for :  CTAS\n"
     ]
    },
    {
     "name": "stderr",
     "output_type": "stream",
     "text": [
      "[*********************100%%**********************]  1 of 1 completed\n",
      "[*********************100%%**********************]  1 of 1 completed"
     ]
    },
    {
     "name": "stdout",
     "output_type": "stream",
     "text": [
      "Get data for :  CTLT\n"
     ]
    },
    {
     "name": "stderr",
     "output_type": "stream",
     "text": [
      "\n"
     ]
    },
    {
     "name": "stdout",
     "output_type": "stream",
     "text": [
      "Get data for :  CTRA\n"
     ]
    },
    {
     "name": "stderr",
     "output_type": "stream",
     "text": [
      "[*********************100%%**********************]  1 of 1 completed\n"
     ]
    },
    {
     "name": "stdout",
     "output_type": "stream",
     "text": [
      "Get data for :  CTSH\n"
     ]
    },
    {
     "name": "stderr",
     "output_type": "stream",
     "text": [
      "[*********************100%%**********************]  1 of 1 completed\n"
     ]
    },
    {
     "name": "stdout",
     "output_type": "stream",
     "text": [
      "Get data for :  CTVA\n"
     ]
    },
    {
     "name": "stderr",
     "output_type": "stream",
     "text": [
      "[*********************100%%**********************]  1 of 1 completed\n"
     ]
    },
    {
     "name": "stdout",
     "output_type": "stream",
     "text": [
      "Get data for :  CVS\n"
     ]
    },
    {
     "name": "stderr",
     "output_type": "stream",
     "text": [
      "[*********************100%%**********************]  1 of 1 completed\n"
     ]
    },
    {
     "name": "stdout",
     "output_type": "stream",
     "text": [
      "Get data for :  CVX\n"
     ]
    },
    {
     "name": "stderr",
     "output_type": "stream",
     "text": [
      "[*********************100%%**********************]  1 of 1 completed\n",
      "[*********************100%%**********************]  1 of 1 completed"
     ]
    },
    {
     "name": "stdout",
     "output_type": "stream",
     "text": [
      "Get data for :  CZR\n"
     ]
    },
    {
     "name": "stderr",
     "output_type": "stream",
     "text": [
      "\n"
     ]
    },
    {
     "name": "stdout",
     "output_type": "stream",
     "text": [
      "Get data for :  D\n"
     ]
    },
    {
     "name": "stderr",
     "output_type": "stream",
     "text": [
      "[*********************100%%**********************]  1 of 1 completed\n",
      "[*********************100%%**********************]  1 of 1 completed"
     ]
    },
    {
     "name": "stdout",
     "output_type": "stream",
     "text": [
      "Get data for :  DAL\n"
     ]
    },
    {
     "name": "stderr",
     "output_type": "stream",
     "text": [
      "\n",
      "[*********************100%%**********************]  1 of 1 completed"
     ]
    },
    {
     "name": "stdout",
     "output_type": "stream",
     "text": [
      "Get data for :  DAY\n"
     ]
    },
    {
     "name": "stderr",
     "output_type": "stream",
     "text": [
      "\n"
     ]
    },
    {
     "name": "stdout",
     "output_type": "stream",
     "text": [
      "Get data for :  DD\n"
     ]
    },
    {
     "name": "stderr",
     "output_type": "stream",
     "text": [
      "[*********************100%%**********************]  1 of 1 completed\n"
     ]
    },
    {
     "name": "stdout",
     "output_type": "stream",
     "text": [
      "Get data for :  DE\n"
     ]
    },
    {
     "name": "stderr",
     "output_type": "stream",
     "text": [
      "[*********************100%%**********************]  1 of 1 completed\n"
     ]
    },
    {
     "name": "stdout",
     "output_type": "stream",
     "text": [
      "Get data for :  DECK\n"
     ]
    },
    {
     "name": "stderr",
     "output_type": "stream",
     "text": [
      "[*********************100%%**********************]  1 of 1 completed\n"
     ]
    },
    {
     "name": "stdout",
     "output_type": "stream",
     "text": [
      "Get data for :  DFS\n"
     ]
    },
    {
     "name": "stderr",
     "output_type": "stream",
     "text": [
      "[*********************100%%**********************]  1 of 1 completed\n",
      "[*********************100%%**********************]  1 of 1 completed"
     ]
    },
    {
     "name": "stdout",
     "output_type": "stream",
     "text": [
      "Get data for :  DG\n"
     ]
    },
    {
     "name": "stderr",
     "output_type": "stream",
     "text": [
      "\n",
      "[*********************100%%**********************]  1 of 1 completed"
     ]
    },
    {
     "name": "stdout",
     "output_type": "stream",
     "text": [
      "Get data for :  DGX\n"
     ]
    },
    {
     "name": "stderr",
     "output_type": "stream",
     "text": [
      "\n"
     ]
    },
    {
     "name": "stdout",
     "output_type": "stream",
     "text": [
      "Get data for :  DHI\n"
     ]
    },
    {
     "name": "stderr",
     "output_type": "stream",
     "text": [
      "[*********************100%%**********************]  1 of 1 completed\n"
     ]
    },
    {
     "name": "stdout",
     "output_type": "stream",
     "text": [
      "Get data for :  DHR\n"
     ]
    },
    {
     "name": "stderr",
     "output_type": "stream",
     "text": [
      "[*********************100%%**********************]  1 of 1 completed\n"
     ]
    },
    {
     "name": "stdout",
     "output_type": "stream",
     "text": [
      "Get data for :  DIS\n"
     ]
    },
    {
     "name": "stderr",
     "output_type": "stream",
     "text": [
      "[*********************100%%**********************]  1 of 1 completed\n"
     ]
    },
    {
     "name": "stdout",
     "output_type": "stream",
     "text": [
      "Get data for :  DLR\n"
     ]
    },
    {
     "name": "stderr",
     "output_type": "stream",
     "text": [
      "[*********************100%%**********************]  1 of 1 completed\n",
      "[*********************100%%**********************]  1 of 1 completed"
     ]
    },
    {
     "name": "stdout",
     "output_type": "stream",
     "text": [
      "Get data for :  DLTR\n"
     ]
    },
    {
     "name": "stderr",
     "output_type": "stream",
     "text": [
      "\n"
     ]
    },
    {
     "name": "stdout",
     "output_type": "stream",
     "text": [
      "Get data for :  DOC\n"
     ]
    },
    {
     "name": "stderr",
     "output_type": "stream",
     "text": [
      "[*********************100%%**********************]  1 of 1 completed\n",
      "[*********************100%%**********************]  1 of 1 completed"
     ]
    },
    {
     "name": "stdout",
     "output_type": "stream",
     "text": [
      "Get data for :  DOV\n"
     ]
    },
    {
     "name": "stderr",
     "output_type": "stream",
     "text": [
      "\n"
     ]
    },
    {
     "name": "stdout",
     "output_type": "stream",
     "text": [
      "Get data for :  DOW\n"
     ]
    },
    {
     "name": "stderr",
     "output_type": "stream",
     "text": [
      "[*********************100%%**********************]  1 of 1 completed\n"
     ]
    },
    {
     "name": "stdout",
     "output_type": "stream",
     "text": [
      "Get data for :  DPZ\n"
     ]
    },
    {
     "name": "stderr",
     "output_type": "stream",
     "text": [
      "[*********************100%%**********************]  1 of 1 completed\n"
     ]
    },
    {
     "name": "stdout",
     "output_type": "stream",
     "text": [
      "Get data for :  DRI\n"
     ]
    },
    {
     "name": "stderr",
     "output_type": "stream",
     "text": [
      "[*********************100%%**********************]  1 of 1 completed\n"
     ]
    },
    {
     "name": "stdout",
     "output_type": "stream",
     "text": [
      "Get data for :  DTE\n"
     ]
    },
    {
     "name": "stderr",
     "output_type": "stream",
     "text": [
      "[*********************100%%**********************]  1 of 1 completed\n"
     ]
    },
    {
     "name": "stdout",
     "output_type": "stream",
     "text": [
      "Get data for :  DUK\n"
     ]
    },
    {
     "name": "stderr",
     "output_type": "stream",
     "text": [
      "[*********************100%%**********************]  1 of 1 completed\n"
     ]
    },
    {
     "name": "stdout",
     "output_type": "stream",
     "text": [
      "Get data for :  DVA\n"
     ]
    },
    {
     "name": "stderr",
     "output_type": "stream",
     "text": [
      "[*********************100%%**********************]  1 of 1 completed\n"
     ]
    },
    {
     "name": "stdout",
     "output_type": "stream",
     "text": [
      "Get data for :  DVN\n"
     ]
    },
    {
     "name": "stderr",
     "output_type": "stream",
     "text": [
      "[*********************100%%**********************]  1 of 1 completed\n"
     ]
    },
    {
     "name": "stdout",
     "output_type": "stream",
     "text": [
      "Get data for :  DXCM\n"
     ]
    },
    {
     "name": "stderr",
     "output_type": "stream",
     "text": [
      "[*********************100%%**********************]  1 of 1 completed\n",
      "[*********************100%%**********************]  1 of 1 completed"
     ]
    },
    {
     "name": "stdout",
     "output_type": "stream",
     "text": [
      "Get data for :  EA\n"
     ]
    },
    {
     "name": "stderr",
     "output_type": "stream",
     "text": [
      "\n",
      "[*********************100%%**********************]  1 of 1 completed"
     ]
    },
    {
     "name": "stdout",
     "output_type": "stream",
     "text": [
      "Get data for :  EBAY\n"
     ]
    },
    {
     "name": "stderr",
     "output_type": "stream",
     "text": [
      "\n",
      "[*********************100%%**********************]  1 of 1 completed"
     ]
    },
    {
     "name": "stdout",
     "output_type": "stream",
     "text": [
      "Get data for :  ECL\n"
     ]
    },
    {
     "name": "stderr",
     "output_type": "stream",
     "text": [
      "\n"
     ]
    },
    {
     "name": "stdout",
     "output_type": "stream",
     "text": [
      "Get data for :  ED\n"
     ]
    },
    {
     "name": "stderr",
     "output_type": "stream",
     "text": [
      "[*********************100%%**********************]  1 of 1 completed\n"
     ]
    },
    {
     "name": "stdout",
     "output_type": "stream",
     "text": [
      "Get data for :  EFX\n"
     ]
    },
    {
     "name": "stderr",
     "output_type": "stream",
     "text": [
      "[*********************100%%**********************]  1 of 1 completed\n"
     ]
    },
    {
     "name": "stdout",
     "output_type": "stream",
     "text": [
      "Get data for :  EG\n"
     ]
    },
    {
     "name": "stderr",
     "output_type": "stream",
     "text": [
      "[*********************100%%**********************]  1 of 1 completed\n"
     ]
    },
    {
     "name": "stdout",
     "output_type": "stream",
     "text": [
      "Get data for :  EIX\n"
     ]
    },
    {
     "name": "stderr",
     "output_type": "stream",
     "text": [
      "[*********************100%%**********************]  1 of 1 completed\n"
     ]
    },
    {
     "name": "stdout",
     "output_type": "stream",
     "text": [
      "Get data for :  EL\n"
     ]
    },
    {
     "name": "stderr",
     "output_type": "stream",
     "text": [
      "[*********************100%%**********************]  1 of 1 completed\n"
     ]
    },
    {
     "name": "stdout",
     "output_type": "stream",
     "text": [
      "Get data for :  ELV\n"
     ]
    },
    {
     "name": "stderr",
     "output_type": "stream",
     "text": [
      "[*********************100%%**********************]  1 of 1 completed\n"
     ]
    },
    {
     "name": "stdout",
     "output_type": "stream",
     "text": [
      "Get data for :  EMN\n"
     ]
    },
    {
     "name": "stderr",
     "output_type": "stream",
     "text": [
      "[*********************100%%**********************]  1 of 1 completed\n"
     ]
    },
    {
     "name": "stdout",
     "output_type": "stream",
     "text": [
      "Get data for :  EMR\n"
     ]
    },
    {
     "name": "stderr",
     "output_type": "stream",
     "text": [
      "[*********************100%%**********************]  1 of 1 completed\n",
      "[*********************100%%**********************]  1 of 1 completed"
     ]
    },
    {
     "name": "stdout",
     "output_type": "stream",
     "text": [
      "Get data for :  ENPH\n"
     ]
    },
    {
     "name": "stderr",
     "output_type": "stream",
     "text": [
      "\n"
     ]
    },
    {
     "name": "stdout",
     "output_type": "stream",
     "text": [
      "Get data for :  EOG\n"
     ]
    },
    {
     "name": "stderr",
     "output_type": "stream",
     "text": [
      "[*********************100%%**********************]  1 of 1 completed\n"
     ]
    },
    {
     "name": "stdout",
     "output_type": "stream",
     "text": [
      "Get data for :  EPAM\n"
     ]
    },
    {
     "name": "stderr",
     "output_type": "stream",
     "text": [
      "[*********************100%%**********************]  1 of 1 completed\n",
      "[*********************100%%**********************]  1 of 1 completed"
     ]
    },
    {
     "name": "stdout",
     "output_type": "stream",
     "text": [
      "Get data for :  EQIX\n"
     ]
    },
    {
     "name": "stderr",
     "output_type": "stream",
     "text": [
      "\n"
     ]
    },
    {
     "name": "stdout",
     "output_type": "stream",
     "text": [
      "Get data for :  EQR\n"
     ]
    },
    {
     "name": "stderr",
     "output_type": "stream",
     "text": [
      "[*********************100%%**********************]  1 of 1 completed\n"
     ]
    },
    {
     "name": "stdout",
     "output_type": "stream",
     "text": [
      "Get data for :  EQT\n"
     ]
    },
    {
     "name": "stderr",
     "output_type": "stream",
     "text": [
      "[*********************100%%**********************]  1 of 1 completed\n"
     ]
    },
    {
     "name": "stdout",
     "output_type": "stream",
     "text": [
      "Get data for :  ES\n"
     ]
    },
    {
     "name": "stderr",
     "output_type": "stream",
     "text": [
      "[*********************100%%**********************]  1 of 1 completed\n"
     ]
    },
    {
     "name": "stdout",
     "output_type": "stream",
     "text": [
      "Get data for :  ESS\n"
     ]
    },
    {
     "name": "stderr",
     "output_type": "stream",
     "text": [
      "[*********************100%%**********************]  1 of 1 completed\n"
     ]
    },
    {
     "name": "stdout",
     "output_type": "stream",
     "text": [
      "Get data for :  ETN\n"
     ]
    },
    {
     "name": "stderr",
     "output_type": "stream",
     "text": [
      "[*********************100%%**********************]  1 of 1 completed\n"
     ]
    },
    {
     "name": "stdout",
     "output_type": "stream",
     "text": [
      "Get data for :  ETR\n"
     ]
    },
    {
     "name": "stderr",
     "output_type": "stream",
     "text": [
      "[*********************100%%**********************]  1 of 1 completed\n",
      "[*********************100%%**********************]  1 of 1 completed"
     ]
    },
    {
     "name": "stdout",
     "output_type": "stream",
     "text": [
      "Get data for :  ETSY\n"
     ]
    },
    {
     "name": "stderr",
     "output_type": "stream",
     "text": [
      "\n"
     ]
    },
    {
     "name": "stdout",
     "output_type": "stream",
     "text": [
      "Get data for :  EVRG\n"
     ]
    },
    {
     "name": "stderr",
     "output_type": "stream",
     "text": [
      "[*********************100%%**********************]  1 of 1 completed\n"
     ]
    },
    {
     "name": "stdout",
     "output_type": "stream",
     "text": [
      "Get data for :  EW\n"
     ]
    },
    {
     "name": "stderr",
     "output_type": "stream",
     "text": [
      "[*********************100%%**********************]  1 of 1 completed\n"
     ]
    },
    {
     "name": "stdout",
     "output_type": "stream",
     "text": [
      "Get data for :  EXC\n"
     ]
    },
    {
     "name": "stderr",
     "output_type": "stream",
     "text": [
      "[*********************100%%**********************]  1 of 1 completed\n"
     ]
    },
    {
     "name": "stdout",
     "output_type": "stream",
     "text": [
      "Get data for :  EXPD\n"
     ]
    },
    {
     "name": "stderr",
     "output_type": "stream",
     "text": [
      "[*********************100%%**********************]  1 of 1 completed\n"
     ]
    },
    {
     "name": "stdout",
     "output_type": "stream",
     "text": [
      "Get data for :  EXPE\n"
     ]
    },
    {
     "name": "stderr",
     "output_type": "stream",
     "text": [
      "[*********************100%%**********************]  1 of 1 completed\n"
     ]
    },
    {
     "name": "stdout",
     "output_type": "stream",
     "text": [
      "Get data for :  EXR\n"
     ]
    },
    {
     "name": "stderr",
     "output_type": "stream",
     "text": [
      "[*********************100%%**********************]  1 of 1 completed\n",
      "[*********************100%%**********************]  1 of 1 completed"
     ]
    },
    {
     "name": "stdout",
     "output_type": "stream",
     "text": [
      "Get data for :  F\n"
     ]
    },
    {
     "name": "stderr",
     "output_type": "stream",
     "text": [
      "\n",
      "[*********************100%%**********************]  1 of 1 completed"
     ]
    },
    {
     "name": "stdout",
     "output_type": "stream",
     "text": [
      "Get data for :  FANG\n"
     ]
    },
    {
     "name": "stderr",
     "output_type": "stream",
     "text": [
      "\n"
     ]
    },
    {
     "name": "stdout",
     "output_type": "stream",
     "text": [
      "Get data for :  FAST\n"
     ]
    },
    {
     "name": "stderr",
     "output_type": "stream",
     "text": [
      "[*********************100%%**********************]  1 of 1 completed\n"
     ]
    },
    {
     "name": "stdout",
     "output_type": "stream",
     "text": [
      "Get data for :  FCX\n"
     ]
    },
    {
     "name": "stderr",
     "output_type": "stream",
     "text": [
      "[*********************100%%**********************]  1 of 1 completed\n"
     ]
    },
    {
     "name": "stdout",
     "output_type": "stream",
     "text": [
      "Get data for :  FDS\n"
     ]
    },
    {
     "name": "stderr",
     "output_type": "stream",
     "text": [
      "[*********************100%%**********************]  1 of 1 completed\n"
     ]
    },
    {
     "name": "stdout",
     "output_type": "stream",
     "text": [
      "Get data for :  FDX\n"
     ]
    },
    {
     "name": "stderr",
     "output_type": "stream",
     "text": [
      "[*********************100%%**********************]  1 of 1 completed\n"
     ]
    },
    {
     "name": "stdout",
     "output_type": "stream",
     "text": [
      "Get data for :  FE\n"
     ]
    },
    {
     "name": "stderr",
     "output_type": "stream",
     "text": [
      "[*********************100%%**********************]  1 of 1 completed\n",
      "[*********************100%%**********************]  1 of 1 completed"
     ]
    },
    {
     "name": "stdout",
     "output_type": "stream",
     "text": [
      "Get data for :  FFIV\n"
     ]
    },
    {
     "name": "stderr",
     "output_type": "stream",
     "text": [
      "\n"
     ]
    },
    {
     "name": "stdout",
     "output_type": "stream",
     "text": [
      "Get data for :  FI\n"
     ]
    },
    {
     "name": "stderr",
     "output_type": "stream",
     "text": [
      "[*********************100%%**********************]  1 of 1 completed\n"
     ]
    },
    {
     "name": "stdout",
     "output_type": "stream",
     "text": [
      "Get data for :  FICO\n"
     ]
    },
    {
     "name": "stderr",
     "output_type": "stream",
     "text": [
      "[*********************100%%**********************]  1 of 1 completed\n"
     ]
    },
    {
     "name": "stdout",
     "output_type": "stream",
     "text": [
      "Get data for :  FIS\n"
     ]
    },
    {
     "name": "stderr",
     "output_type": "stream",
     "text": [
      "[*********************100%%**********************]  1 of 1 completed\n"
     ]
    },
    {
     "name": "stdout",
     "output_type": "stream",
     "text": [
      "Get data for :  FITB\n"
     ]
    },
    {
     "name": "stderr",
     "output_type": "stream",
     "text": [
      "[*********************100%%**********************]  1 of 1 completed\n"
     ]
    },
    {
     "name": "stdout",
     "output_type": "stream",
     "text": [
      "Get data for :  FMC\n"
     ]
    },
    {
     "name": "stderr",
     "output_type": "stream",
     "text": [
      "[*********************100%%**********************]  1 of 1 completed\n"
     ]
    },
    {
     "name": "stdout",
     "output_type": "stream",
     "text": [
      "Get data for :  FOX\n"
     ]
    },
    {
     "name": "stderr",
     "output_type": "stream",
     "text": [
      "[*********************100%%**********************]  1 of 1 completed\n",
      "[*********************100%%**********************]  1 of 1 completed"
     ]
    },
    {
     "name": "stdout",
     "output_type": "stream",
     "text": [
      "Get data for :  FOXA\n"
     ]
    },
    {
     "name": "stderr",
     "output_type": "stream",
     "text": [
      "\n"
     ]
    },
    {
     "name": "stdout",
     "output_type": "stream",
     "text": [
      "Get data for :  FRT\n"
     ]
    },
    {
     "name": "stderr",
     "output_type": "stream",
     "text": [
      "[*********************100%%**********************]  1 of 1 completed\n",
      "[*********************100%%**********************]  1 of 1 completed"
     ]
    },
    {
     "name": "stdout",
     "output_type": "stream",
     "text": [
      "Get data for :  FSLR\n"
     ]
    },
    {
     "name": "stderr",
     "output_type": "stream",
     "text": [
      "\n"
     ]
    },
    {
     "name": "stdout",
     "output_type": "stream",
     "text": [
      "Get data for :  FTNT\n"
     ]
    },
    {
     "name": "stderr",
     "output_type": "stream",
     "text": [
      "[*********************100%%**********************]  1 of 1 completed\n",
      "[*********************100%%**********************]  1 of 1 completed"
     ]
    },
    {
     "name": "stdout",
     "output_type": "stream",
     "text": [
      "Get data for :  FTV\n"
     ]
    },
    {
     "name": "stderr",
     "output_type": "stream",
     "text": [
      "\n"
     ]
    },
    {
     "name": "stdout",
     "output_type": "stream",
     "text": [
      "Get data for :  GD\n"
     ]
    },
    {
     "name": "stderr",
     "output_type": "stream",
     "text": [
      "[*********************100%%**********************]  1 of 1 completed\n"
     ]
    },
    {
     "name": "stdout",
     "output_type": "stream",
     "text": [
      "Get data for :  GE\n"
     ]
    },
    {
     "name": "stderr",
     "output_type": "stream",
     "text": [
      "[*********************100%%**********************]  1 of 1 completed\n"
     ]
    },
    {
     "name": "stdout",
     "output_type": "stream",
     "text": [
      "Get data for :  GEHC\n"
     ]
    },
    {
     "name": "stderr",
     "output_type": "stream",
     "text": [
      "[*********************100%%**********************]  1 of 1 completed\n",
      "\n",
      "1 Failed download:\n",
      "['GEHC']: Exception(\"%ticker%: Data doesn't exist for startDate = 1629432000, endDate = 1631246400\")\n",
      "[*********************100%%**********************]  1 of 1 completed"
     ]
    },
    {
     "name": "stdout",
     "output_type": "stream",
     "text": [
      "Get data for :  GEN\n"
     ]
    },
    {
     "name": "stderr",
     "output_type": "stream",
     "text": [
      "\n"
     ]
    },
    {
     "name": "stdout",
     "output_type": "stream",
     "text": [
      "Get data for :  GEV\n"
     ]
    },
    {
     "name": "stderr",
     "output_type": "stream",
     "text": [
      "[*********************100%%**********************]  1 of 1 completed\n",
      "\n",
      "1 Failed download:\n",
      "['GEV']: Exception(\"%ticker%: Data doesn't exist for startDate = 1629432000, endDate = 1631246400\")\n",
      "[*********************100%%**********************]  1 of 1 completed"
     ]
    },
    {
     "name": "stdout",
     "output_type": "stream",
     "text": [
      "Get data for :  GILD\n"
     ]
    },
    {
     "name": "stderr",
     "output_type": "stream",
     "text": [
      "\n"
     ]
    },
    {
     "name": "stdout",
     "output_type": "stream",
     "text": [
      "Get data for :  GIS\n"
     ]
    },
    {
     "name": "stderr",
     "output_type": "stream",
     "text": [
      "[*********************100%%**********************]  1 of 1 completed\n"
     ]
    },
    {
     "name": "stdout",
     "output_type": "stream",
     "text": [
      "Get data for :  GL\n"
     ]
    },
    {
     "name": "stderr",
     "output_type": "stream",
     "text": [
      "[*********************100%%**********************]  1 of 1 completed\n"
     ]
    },
    {
     "name": "stdout",
     "output_type": "stream",
     "text": [
      "Get data for :  GLW\n"
     ]
    },
    {
     "name": "stderr",
     "output_type": "stream",
     "text": [
      "[*********************100%%**********************]  1 of 1 completed\n"
     ]
    },
    {
     "name": "stdout",
     "output_type": "stream",
     "text": [
      "Get data for :  GM\n"
     ]
    },
    {
     "name": "stderr",
     "output_type": "stream",
     "text": [
      "[*********************100%%**********************]  1 of 1 completed\n"
     ]
    },
    {
     "name": "stdout",
     "output_type": "stream",
     "text": [
      "Get data for :  GNRC\n"
     ]
    },
    {
     "name": "stderr",
     "output_type": "stream",
     "text": [
      "[*********************100%%**********************]  1 of 1 completed\n",
      "[*********************100%%**********************]  1 of 1 completed"
     ]
    },
    {
     "name": "stdout",
     "output_type": "stream",
     "text": [
      "Get data for :  GOOG\n"
     ]
    },
    {
     "name": "stderr",
     "output_type": "stream",
     "text": [
      "\n"
     ]
    },
    {
     "name": "stdout",
     "output_type": "stream",
     "text": [
      "Get data for :  GOOGL\n"
     ]
    },
    {
     "name": "stderr",
     "output_type": "stream",
     "text": [
      "[*********************100%%**********************]  1 of 1 completed\n"
     ]
    },
    {
     "name": "stdout",
     "output_type": "stream",
     "text": [
      "Get data for :  GPC\n"
     ]
    },
    {
     "name": "stderr",
     "output_type": "stream",
     "text": [
      "[*********************100%%**********************]  1 of 1 completed\n"
     ]
    },
    {
     "name": "stdout",
     "output_type": "stream",
     "text": [
      "Get data for :  GPN\n"
     ]
    },
    {
     "name": "stderr",
     "output_type": "stream",
     "text": [
      "[*********************100%%**********************]  1 of 1 completed\n",
      "[*********************100%%**********************]  1 of 1 completed"
     ]
    },
    {
     "name": "stdout",
     "output_type": "stream",
     "text": [
      "Get data for :  GRMN\n"
     ]
    },
    {
     "name": "stderr",
     "output_type": "stream",
     "text": [
      "\n"
     ]
    },
    {
     "name": "stdout",
     "output_type": "stream",
     "text": [
      "Get data for :  GS\n"
     ]
    },
    {
     "name": "stderr",
     "output_type": "stream",
     "text": [
      "[*********************100%%**********************]  1 of 1 completed\n"
     ]
    },
    {
     "name": "stdout",
     "output_type": "stream",
     "text": [
      "Get data for :  GWW\n"
     ]
    },
    {
     "name": "stderr",
     "output_type": "stream",
     "text": [
      "[*********************100%%**********************]  1 of 1 completed\n"
     ]
    },
    {
     "name": "stdout",
     "output_type": "stream",
     "text": [
      "Get data for :  HAL\n"
     ]
    },
    {
     "name": "stderr",
     "output_type": "stream",
     "text": [
      "[*********************100%%**********************]  1 of 1 completed\n"
     ]
    },
    {
     "name": "stdout",
     "output_type": "stream",
     "text": [
      "Get data for :  HAS\n"
     ]
    },
    {
     "name": "stderr",
     "output_type": "stream",
     "text": [
      "[*********************100%%**********************]  1 of 1 completed\n"
     ]
    },
    {
     "name": "stdout",
     "output_type": "stream",
     "text": [
      "Get data for :  HBAN\n"
     ]
    },
    {
     "name": "stderr",
     "output_type": "stream",
     "text": [
      "[*********************100%%**********************]  1 of 1 completed\n",
      "[*********************100%%**********************]  1 of 1 completed"
     ]
    },
    {
     "name": "stdout",
     "output_type": "stream",
     "text": [
      "Get data for :  HCA\n"
     ]
    },
    {
     "name": "stderr",
     "output_type": "stream",
     "text": [
      "\n"
     ]
    },
    {
     "name": "stdout",
     "output_type": "stream",
     "text": [
      "Get data for :  HD\n"
     ]
    },
    {
     "name": "stderr",
     "output_type": "stream",
     "text": [
      "[*********************100%%**********************]  1 of 1 completed\n"
     ]
    },
    {
     "name": "stdout",
     "output_type": "stream",
     "text": [
      "Get data for :  HES\n"
     ]
    },
    {
     "name": "stderr",
     "output_type": "stream",
     "text": [
      "[*********************100%%**********************]  1 of 1 completed\n"
     ]
    },
    {
     "name": "stdout",
     "output_type": "stream",
     "text": [
      "Get data for :  HIG\n"
     ]
    },
    {
     "name": "stderr",
     "output_type": "stream",
     "text": [
      "[*********************100%%**********************]  1 of 1 completed\n",
      "[*********************100%%**********************]  1 of 1 completed"
     ]
    },
    {
     "name": "stdout",
     "output_type": "stream",
     "text": [
      "Get data for :  HII\n"
     ]
    },
    {
     "name": "stderr",
     "output_type": "stream",
     "text": [
      "\n"
     ]
    },
    {
     "name": "stdout",
     "output_type": "stream",
     "text": [
      "Get data for :  HLT\n"
     ]
    },
    {
     "name": "stderr",
     "output_type": "stream",
     "text": [
      "[*********************100%%**********************]  1 of 1 completed\n",
      "[*********************100%%**********************]  1 of 1 completed"
     ]
    },
    {
     "name": "stdout",
     "output_type": "stream",
     "text": [
      "Get data for :  HOLX\n"
     ]
    },
    {
     "name": "stderr",
     "output_type": "stream",
     "text": [
      "\n"
     ]
    },
    {
     "name": "stdout",
     "output_type": "stream",
     "text": [
      "Get data for :  HON\n"
     ]
    },
    {
     "name": "stderr",
     "output_type": "stream",
     "text": [
      "[*********************100%%**********************]  1 of 1 completed\n"
     ]
    },
    {
     "name": "stdout",
     "output_type": "stream",
     "text": [
      "Get data for :  HPE\n"
     ]
    },
    {
     "name": "stderr",
     "output_type": "stream",
     "text": [
      "[*********************100%%**********************]  1 of 1 completed\n"
     ]
    },
    {
     "name": "stdout",
     "output_type": "stream",
     "text": [
      "Get data for :  HPQ\n"
     ]
    },
    {
     "name": "stderr",
     "output_type": "stream",
     "text": [
      "[*********************100%%**********************]  1 of 1 completed\n"
     ]
    },
    {
     "name": "stdout",
     "output_type": "stream",
     "text": [
      "Get data for :  HRL\n"
     ]
    },
    {
     "name": "stderr",
     "output_type": "stream",
     "text": [
      "[*********************100%%**********************]  1 of 1 completed\n",
      "[*********************100%%**********************]  1 of 1 completed"
     ]
    },
    {
     "name": "stdout",
     "output_type": "stream",
     "text": [
      "Get data for :  HSIC\n"
     ]
    },
    {
     "name": "stderr",
     "output_type": "stream",
     "text": [
      "\n"
     ]
    },
    {
     "name": "stdout",
     "output_type": "stream",
     "text": [
      "Get data for :  HST\n"
     ]
    },
    {
     "name": "stderr",
     "output_type": "stream",
     "text": [
      "[*********************100%%**********************]  1 of 1 completed\n"
     ]
    },
    {
     "name": "stdout",
     "output_type": "stream",
     "text": [
      "Get data for :  HSY\n"
     ]
    },
    {
     "name": "stderr",
     "output_type": "stream",
     "text": [
      "[*********************100%%**********************]  1 of 1 completed\n"
     ]
    },
    {
     "name": "stdout",
     "output_type": "stream",
     "text": [
      "Get data for :  HUBB\n"
     ]
    },
    {
     "name": "stderr",
     "output_type": "stream",
     "text": [
      "[*********************100%%**********************]  1 of 1 completed\n"
     ]
    },
    {
     "name": "stdout",
     "output_type": "stream",
     "text": [
      "Get data for :  HUM\n"
     ]
    },
    {
     "name": "stderr",
     "output_type": "stream",
     "text": [
      "[*********************100%%**********************]  1 of 1 completed\n"
     ]
    },
    {
     "name": "stdout",
     "output_type": "stream",
     "text": [
      "Get data for :  HWM\n"
     ]
    },
    {
     "name": "stderr",
     "output_type": "stream",
     "text": [
      "[*********************100%%**********************]  1 of 1 completed\n"
     ]
    },
    {
     "name": "stdout",
     "output_type": "stream",
     "text": [
      "Get data for :  IBM\n"
     ]
    },
    {
     "name": "stderr",
     "output_type": "stream",
     "text": [
      "[*********************100%%**********************]  1 of 1 completed\n"
     ]
    },
    {
     "name": "stdout",
     "output_type": "stream",
     "text": [
      "Get data for :  ICE\n"
     ]
    },
    {
     "name": "stderr",
     "output_type": "stream",
     "text": [
      "[*********************100%%**********************]  1 of 1 completed\n",
      "[*********************100%%**********************]  1 of 1 completed"
     ]
    },
    {
     "name": "stdout",
     "output_type": "stream",
     "text": [
      "Get data for :  IDXX\n"
     ]
    },
    {
     "name": "stderr",
     "output_type": "stream",
     "text": [
      "\n"
     ]
    },
    {
     "name": "stdout",
     "output_type": "stream",
     "text": [
      "Get data for :  IEX\n"
     ]
    },
    {
     "name": "stderr",
     "output_type": "stream",
     "text": [
      "[*********************100%%**********************]  1 of 1 completed\n"
     ]
    },
    {
     "name": "stdout",
     "output_type": "stream",
     "text": [
      "Get data for :  IFF\n"
     ]
    },
    {
     "name": "stderr",
     "output_type": "stream",
     "text": [
      "[*********************100%%**********************]  1 of 1 completed\n"
     ]
    },
    {
     "name": "stdout",
     "output_type": "stream",
     "text": [
      "Get data for :  ILMN\n"
     ]
    },
    {
     "name": "stderr",
     "output_type": "stream",
     "text": [
      "[*********************100%%**********************]  1 of 1 completed\n"
     ]
    },
    {
     "name": "stdout",
     "output_type": "stream",
     "text": [
      "Get data for :  INCY\n"
     ]
    },
    {
     "name": "stderr",
     "output_type": "stream",
     "text": [
      "[*********************100%%**********************]  1 of 1 completed\n"
     ]
    },
    {
     "name": "stdout",
     "output_type": "stream",
     "text": [
      "Get data for :  INTC\n"
     ]
    },
    {
     "name": "stderr",
     "output_type": "stream",
     "text": [
      "[*********************100%%**********************]  1 of 1 completed\n"
     ]
    },
    {
     "name": "stdout",
     "output_type": "stream",
     "text": [
      "Get data for :  INTU\n"
     ]
    },
    {
     "name": "stderr",
     "output_type": "stream",
     "text": [
      "[*********************100%%**********************]  1 of 1 completed\n"
     ]
    },
    {
     "name": "stdout",
     "output_type": "stream",
     "text": [
      "Get data for :  INVH\n"
     ]
    },
    {
     "name": "stderr",
     "output_type": "stream",
     "text": [
      "[*********************100%%**********************]  1 of 1 completed\n"
     ]
    },
    {
     "name": "stdout",
     "output_type": "stream",
     "text": [
      "Get data for :  IP\n"
     ]
    },
    {
     "name": "stderr",
     "output_type": "stream",
     "text": [
      "[*********************100%%**********************]  1 of 1 completed\n"
     ]
    },
    {
     "name": "stdout",
     "output_type": "stream",
     "text": [
      "Get data for :  IPG\n"
     ]
    },
    {
     "name": "stderr",
     "output_type": "stream",
     "text": [
      "[*********************100%%**********************]  1 of 1 completed\n",
      "[*********************100%%**********************]  1 of 1 completed"
     ]
    },
    {
     "name": "stdout",
     "output_type": "stream",
     "text": [
      "Get data for :  IQV\n"
     ]
    },
    {
     "name": "stderr",
     "output_type": "stream",
     "text": [
      "\n",
      "[*********************100%%**********************]  1 of 1 completed"
     ]
    },
    {
     "name": "stdout",
     "output_type": "stream",
     "text": [
      "Get data for :  IR\n"
     ]
    },
    {
     "name": "stderr",
     "output_type": "stream",
     "text": [
      "\n",
      "[*********************100%%**********************]  1 of 1 completed"
     ]
    },
    {
     "name": "stdout",
     "output_type": "stream",
     "text": [
      "Get data for :  IRM\n"
     ]
    },
    {
     "name": "stderr",
     "output_type": "stream",
     "text": [
      "\n",
      "[*********************100%%**********************]  1 of 1 completed"
     ]
    },
    {
     "name": "stdout",
     "output_type": "stream",
     "text": [
      "Get data for :  ISRG\n"
     ]
    },
    {
     "name": "stderr",
     "output_type": "stream",
     "text": [
      "\n",
      "[*********************100%%**********************]  1 of 1 completed"
     ]
    },
    {
     "name": "stdout",
     "output_type": "stream",
     "text": [
      "Get data for :  IT\n"
     ]
    },
    {
     "name": "stderr",
     "output_type": "stream",
     "text": [
      "\n"
     ]
    },
    {
     "name": "stdout",
     "output_type": "stream",
     "text": [
      "Get data for :  ITW\n"
     ]
    },
    {
     "name": "stderr",
     "output_type": "stream",
     "text": [
      "[*********************100%%**********************]  1 of 1 completed\n",
      "[*********************100%%**********************]  1 of 1 completed"
     ]
    },
    {
     "name": "stdout",
     "output_type": "stream",
     "text": [
      "Get data for :  IVZ\n"
     ]
    },
    {
     "name": "stderr",
     "output_type": "stream",
     "text": [
      "\n",
      "[*********************100%%**********************]  1 of 1 completed"
     ]
    },
    {
     "name": "stdout",
     "output_type": "stream",
     "text": [
      "Get data for :  J\n"
     ]
    },
    {
     "name": "stderr",
     "output_type": "stream",
     "text": [
      "\n"
     ]
    },
    {
     "name": "stdout",
     "output_type": "stream",
     "text": [
      "Get data for :  JBHT\n"
     ]
    },
    {
     "name": "stderr",
     "output_type": "stream",
     "text": [
      "[*********************100%%**********************]  1 of 1 completed\n"
     ]
    },
    {
     "name": "stdout",
     "output_type": "stream",
     "text": [
      "Get data for :  JBL\n"
     ]
    },
    {
     "name": "stderr",
     "output_type": "stream",
     "text": [
      "[*********************100%%**********************]  1 of 1 completed\n"
     ]
    },
    {
     "name": "stdout",
     "output_type": "stream",
     "text": [
      "Get data for :  JCI\n"
     ]
    },
    {
     "name": "stderr",
     "output_type": "stream",
     "text": [
      "[*********************100%%**********************]  1 of 1 completed\n"
     ]
    },
    {
     "name": "stdout",
     "output_type": "stream",
     "text": [
      "Get data for :  JKHY\n"
     ]
    },
    {
     "name": "stderr",
     "output_type": "stream",
     "text": [
      "[*********************100%%**********************]  1 of 1 completed\n"
     ]
    },
    {
     "name": "stdout",
     "output_type": "stream",
     "text": [
      "Get data for :  JNJ\n"
     ]
    },
    {
     "name": "stderr",
     "output_type": "stream",
     "text": [
      "[*********************100%%**********************]  1 of 1 completed\n"
     ]
    },
    {
     "name": "stdout",
     "output_type": "stream",
     "text": [
      "Get data for :  JNPR\n"
     ]
    },
    {
     "name": "stderr",
     "output_type": "stream",
     "text": [
      "[*********************100%%**********************]  1 of 1 completed\n"
     ]
    },
    {
     "name": "stdout",
     "output_type": "stream",
     "text": [
      "Get data for :  JPM\n"
     ]
    },
    {
     "name": "stderr",
     "output_type": "stream",
     "text": [
      "[*********************100%%**********************]  1 of 1 completed\n"
     ]
    },
    {
     "name": "stdout",
     "output_type": "stream",
     "text": [
      "Get data for :  K\n"
     ]
    },
    {
     "name": "stderr",
     "output_type": "stream",
     "text": [
      "[*********************100%%**********************]  1 of 1 completed\n",
      "[*********************100%%**********************]  1 of 1 completed"
     ]
    },
    {
     "name": "stdout",
     "output_type": "stream",
     "text": [
      "Get data for :  KDP\n"
     ]
    },
    {
     "name": "stderr",
     "output_type": "stream",
     "text": [
      "\n",
      "[*********************100%%**********************]  1 of 1 completed"
     ]
    },
    {
     "name": "stdout",
     "output_type": "stream",
     "text": [
      "Get data for :  KEY\n"
     ]
    },
    {
     "name": "stderr",
     "output_type": "stream",
     "text": [
      "\n"
     ]
    },
    {
     "name": "stdout",
     "output_type": "stream",
     "text": [
      "Get data for :  KEYS\n"
     ]
    },
    {
     "name": "stderr",
     "output_type": "stream",
     "text": [
      "[*********************100%%**********************]  1 of 1 completed\n"
     ]
    },
    {
     "name": "stdout",
     "output_type": "stream",
     "text": [
      "Get data for :  KHC\n"
     ]
    },
    {
     "name": "stderr",
     "output_type": "stream",
     "text": [
      "[*********************100%%**********************]  1 of 1 completed\n"
     ]
    },
    {
     "name": "stdout",
     "output_type": "stream",
     "text": [
      "Get data for :  KIM\n"
     ]
    },
    {
     "name": "stderr",
     "output_type": "stream",
     "text": [
      "[*********************100%%**********************]  1 of 1 completed\n"
     ]
    },
    {
     "name": "stdout",
     "output_type": "stream",
     "text": [
      "Get data for :  KLAC\n"
     ]
    },
    {
     "name": "stderr",
     "output_type": "stream",
     "text": [
      "[*********************100%%**********************]  1 of 1 completed\n"
     ]
    },
    {
     "name": "stdout",
     "output_type": "stream",
     "text": [
      "Get data for :  KMB\n"
     ]
    },
    {
     "name": "stderr",
     "output_type": "stream",
     "text": [
      "[*********************100%%**********************]  1 of 1 completed\n"
     ]
    },
    {
     "name": "stdout",
     "output_type": "stream",
     "text": [
      "Get data for :  KMI\n"
     ]
    },
    {
     "name": "stderr",
     "output_type": "stream",
     "text": [
      "[*********************100%%**********************]  1 of 1 completed\n"
     ]
    },
    {
     "name": "stdout",
     "output_type": "stream",
     "text": [
      "Get data for :  KMX\n"
     ]
    },
    {
     "name": "stderr",
     "output_type": "stream",
     "text": [
      "[*********************100%%**********************]  1 of 1 completed\n"
     ]
    },
    {
     "name": "stdout",
     "output_type": "stream",
     "text": [
      "Get data for :  KO\n"
     ]
    },
    {
     "name": "stderr",
     "output_type": "stream",
     "text": [
      "[*********************100%%**********************]  1 of 1 completed\n"
     ]
    },
    {
     "name": "stdout",
     "output_type": "stream",
     "text": [
      "Get data for :  KR\n"
     ]
    },
    {
     "name": "stderr",
     "output_type": "stream",
     "text": [
      "[*********************100%%**********************]  1 of 1 completed\n"
     ]
    },
    {
     "name": "stdout",
     "output_type": "stream",
     "text": [
      "Get data for :  KVUE\n"
     ]
    },
    {
     "name": "stderr",
     "output_type": "stream",
     "text": [
      "[*********************100%%**********************]  1 of 1 completed\n",
      "\n",
      "1 Failed download:\n",
      "['KVUE']: Exception(\"%ticker%: Data doesn't exist for startDate = 1629432000, endDate = 1631246400\")\n"
     ]
    },
    {
     "name": "stdout",
     "output_type": "stream",
     "text": [
      "Get data for :  L\n"
     ]
    },
    {
     "name": "stderr",
     "output_type": "stream",
     "text": [
      "[*********************100%%**********************]  1 of 1 completed\n"
     ]
    },
    {
     "name": "stdout",
     "output_type": "stream",
     "text": [
      "Get data for :  LDOS\n"
     ]
    },
    {
     "name": "stderr",
     "output_type": "stream",
     "text": [
      "[*********************100%%**********************]  1 of 1 completed\n"
     ]
    },
    {
     "name": "stdout",
     "output_type": "stream",
     "text": [
      "Get data for :  LEN\n"
     ]
    },
    {
     "name": "stderr",
     "output_type": "stream",
     "text": [
      "[*********************100%%**********************]  1 of 1 completed\n"
     ]
    },
    {
     "name": "stdout",
     "output_type": "stream",
     "text": [
      "Get data for :  LH\n"
     ]
    },
    {
     "name": "stderr",
     "output_type": "stream",
     "text": [
      "[*********************100%%**********************]  1 of 1 completed\n"
     ]
    },
    {
     "name": "stdout",
     "output_type": "stream",
     "text": [
      "Get data for :  LHX\n"
     ]
    },
    {
     "name": "stderr",
     "output_type": "stream",
     "text": [
      "[*********************100%%**********************]  1 of 1 completed\n",
      "[*********************100%%**********************]  1 of 1 completed"
     ]
    },
    {
     "name": "stdout",
     "output_type": "stream",
     "text": [
      "Get data for :  LIN\n"
     ]
    },
    {
     "name": "stderr",
     "output_type": "stream",
     "text": [
      "\n",
      "[*********************100%%**********************]  1 of 1 completed"
     ]
    },
    {
     "name": "stdout",
     "output_type": "stream",
     "text": [
      "Get data for :  LKQ\n"
     ]
    },
    {
     "name": "stderr",
     "output_type": "stream",
     "text": [
      "\n"
     ]
    },
    {
     "name": "stdout",
     "output_type": "stream",
     "text": [
      "Get data for :  LLY\n"
     ]
    },
    {
     "name": "stderr",
     "output_type": "stream",
     "text": [
      "[*********************100%%**********************]  1 of 1 completed\n"
     ]
    },
    {
     "name": "stdout",
     "output_type": "stream",
     "text": [
      "Get data for :  LMT\n"
     ]
    },
    {
     "name": "stderr",
     "output_type": "stream",
     "text": [
      "[*********************100%%**********************]  1 of 1 completed\n"
     ]
    },
    {
     "name": "stdout",
     "output_type": "stream",
     "text": [
      "Get data for :  LNT\n"
     ]
    },
    {
     "name": "stderr",
     "output_type": "stream",
     "text": [
      "[*********************100%%**********************]  1 of 1 completed\n"
     ]
    },
    {
     "name": "stdout",
     "output_type": "stream",
     "text": [
      "Get data for :  LOW\n"
     ]
    },
    {
     "name": "stderr",
     "output_type": "stream",
     "text": [
      "[*********************100%%**********************]  1 of 1 completed\n",
      "[*********************100%%**********************]  1 of 1 completed"
     ]
    },
    {
     "name": "stdout",
     "output_type": "stream",
     "text": [
      "Get data for :  LRCX\n"
     ]
    },
    {
     "name": "stderr",
     "output_type": "stream",
     "text": [
      "\n"
     ]
    },
    {
     "name": "stdout",
     "output_type": "stream",
     "text": [
      "Get data for :  LULU\n"
     ]
    },
    {
     "name": "stderr",
     "output_type": "stream",
     "text": [
      "[*********************100%%**********************]  1 of 1 completed\n",
      "[*********************100%%**********************]  1 of 1 completed"
     ]
    },
    {
     "name": "stdout",
     "output_type": "stream",
     "text": [
      "Get data for :  LUV\n"
     ]
    },
    {
     "name": "stderr",
     "output_type": "stream",
     "text": [
      "\n",
      "[*********************100%%**********************]  1 of 1 completed"
     ]
    },
    {
     "name": "stdout",
     "output_type": "stream",
     "text": [
      "Get data for :  LVS\n"
     ]
    },
    {
     "name": "stderr",
     "output_type": "stream",
     "text": [
      "\n"
     ]
    },
    {
     "name": "stdout",
     "output_type": "stream",
     "text": [
      "Get data for :  LW\n"
     ]
    },
    {
     "name": "stderr",
     "output_type": "stream",
     "text": [
      "[*********************100%%**********************]  1 of 1 completed\n"
     ]
    },
    {
     "name": "stdout",
     "output_type": "stream",
     "text": [
      "Get data for :  LYB\n"
     ]
    },
    {
     "name": "stderr",
     "output_type": "stream",
     "text": [
      "[*********************100%%**********************]  1 of 1 completed\n",
      "[*********************100%%**********************]  1 of 1 completed"
     ]
    },
    {
     "name": "stdout",
     "output_type": "stream",
     "text": [
      "Get data for :  LYV\n"
     ]
    },
    {
     "name": "stderr",
     "output_type": "stream",
     "text": [
      "\n"
     ]
    },
    {
     "name": "stdout",
     "output_type": "stream",
     "text": [
      "Get data for :  MA\n"
     ]
    },
    {
     "name": "stderr",
     "output_type": "stream",
     "text": [
      "[*********************100%%**********************]  1 of 1 completed\n"
     ]
    },
    {
     "name": "stdout",
     "output_type": "stream",
     "text": [
      "Get data for :  MAA\n"
     ]
    },
    {
     "name": "stderr",
     "output_type": "stream",
     "text": [
      "[*********************100%%**********************]  1 of 1 completed\n",
      "[*********************100%%**********************]  1 of 1 completed"
     ]
    },
    {
     "name": "stdout",
     "output_type": "stream",
     "text": [
      "Get data for :  MAR\n"
     ]
    },
    {
     "name": "stderr",
     "output_type": "stream",
     "text": [
      "\n"
     ]
    },
    {
     "name": "stdout",
     "output_type": "stream",
     "text": [
      "Get data for :  MAS\n"
     ]
    },
    {
     "name": "stderr",
     "output_type": "stream",
     "text": [
      "[*********************100%%**********************]  1 of 1 completed\n"
     ]
    },
    {
     "name": "stdout",
     "output_type": "stream",
     "text": [
      "Get data for :  MCD\n"
     ]
    },
    {
     "name": "stderr",
     "output_type": "stream",
     "text": [
      "[*********************100%%**********************]  1 of 1 completed\n"
     ]
    },
    {
     "name": "stdout",
     "output_type": "stream",
     "text": [
      "Get data for :  MCHP\n"
     ]
    },
    {
     "name": "stderr",
     "output_type": "stream",
     "text": [
      "[*********************100%%**********************]  1 of 1 completed\n",
      "[*********************100%%**********************]  1 of 1 completed"
     ]
    },
    {
     "name": "stdout",
     "output_type": "stream",
     "text": [
      "Get data for :  MCK\n"
     ]
    },
    {
     "name": "stderr",
     "output_type": "stream",
     "text": [
      "\n",
      "[*********************100%%**********************]  1 of 1 completed"
     ]
    },
    {
     "name": "stdout",
     "output_type": "stream",
     "text": [
      "Get data for :  MCO\n"
     ]
    },
    {
     "name": "stderr",
     "output_type": "stream",
     "text": [
      "\n"
     ]
    },
    {
     "name": "stdout",
     "output_type": "stream",
     "text": [
      "Get data for :  MDLZ\n"
     ]
    },
    {
     "name": "stderr",
     "output_type": "stream",
     "text": [
      "[*********************100%%**********************]  1 of 1 completed\n"
     ]
    },
    {
     "name": "stdout",
     "output_type": "stream",
     "text": [
      "Get data for :  MDT\n"
     ]
    },
    {
     "name": "stderr",
     "output_type": "stream",
     "text": [
      "[*********************100%%**********************]  1 of 1 completed\n"
     ]
    },
    {
     "name": "stdout",
     "output_type": "stream",
     "text": [
      "Get data for :  MET\n"
     ]
    },
    {
     "name": "stderr",
     "output_type": "stream",
     "text": [
      "[*********************100%%**********************]  1 of 1 completed\n",
      "[*********************100%%**********************]  1 of 1 completed"
     ]
    },
    {
     "name": "stdout",
     "output_type": "stream",
     "text": [
      "Get data for :  META\n"
     ]
    },
    {
     "name": "stderr",
     "output_type": "stream",
     "text": [
      "\n"
     ]
    },
    {
     "name": "stdout",
     "output_type": "stream",
     "text": [
      "Get data for :  MGM\n"
     ]
    },
    {
     "name": "stderr",
     "output_type": "stream",
     "text": [
      "[*********************100%%**********************]  1 of 1 completed\n"
     ]
    },
    {
     "name": "stdout",
     "output_type": "stream",
     "text": [
      "Get data for :  MHK\n"
     ]
    },
    {
     "name": "stderr",
     "output_type": "stream",
     "text": [
      "[*********************100%%**********************]  1 of 1 completed\n"
     ]
    },
    {
     "name": "stdout",
     "output_type": "stream",
     "text": [
      "Get data for :  MKC\n"
     ]
    },
    {
     "name": "stderr",
     "output_type": "stream",
     "text": [
      "[*********************100%%**********************]  1 of 1 completed\n",
      "[*********************100%%**********************]  1 of 1 completed"
     ]
    },
    {
     "name": "stdout",
     "output_type": "stream",
     "text": [
      "Get data for :  MKTX\n"
     ]
    },
    {
     "name": "stderr",
     "output_type": "stream",
     "text": [
      "\n"
     ]
    },
    {
     "name": "stdout",
     "output_type": "stream",
     "text": [
      "Get data for :  MLM\n"
     ]
    },
    {
     "name": "stderr",
     "output_type": "stream",
     "text": [
      "[*********************100%%**********************]  1 of 1 completed\n"
     ]
    },
    {
     "name": "stdout",
     "output_type": "stream",
     "text": [
      "Get data for :  MMC\n"
     ]
    },
    {
     "name": "stderr",
     "output_type": "stream",
     "text": [
      "[*********************100%%**********************]  1 of 1 completed\n"
     ]
    },
    {
     "name": "stdout",
     "output_type": "stream",
     "text": [
      "Get data for :  MMM\n"
     ]
    },
    {
     "name": "stderr",
     "output_type": "stream",
     "text": [
      "[*********************100%%**********************]  1 of 1 completed\n",
      "[*********************100%%**********************]  1 of 1 completed"
     ]
    },
    {
     "name": "stdout",
     "output_type": "stream",
     "text": [
      "Get data for :  MNST\n"
     ]
    },
    {
     "name": "stderr",
     "output_type": "stream",
     "text": [
      "\n"
     ]
    },
    {
     "name": "stdout",
     "output_type": "stream",
     "text": [
      "Get data for :  MO\n"
     ]
    },
    {
     "name": "stderr",
     "output_type": "stream",
     "text": [
      "[*********************100%%**********************]  1 of 1 completed\n",
      "[*********************100%%**********************]  1 of 1 completed"
     ]
    },
    {
     "name": "stdout",
     "output_type": "stream",
     "text": [
      "Get data for :  MOH\n"
     ]
    },
    {
     "name": "stderr",
     "output_type": "stream",
     "text": [
      "\n",
      "[*********************100%%**********************]  1 of 1 completed"
     ]
    },
    {
     "name": "stdout",
     "output_type": "stream",
     "text": [
      "Get data for :  MOS\n"
     ]
    },
    {
     "name": "stderr",
     "output_type": "stream",
     "text": [
      "\n",
      "[*********************100%%**********************]  1 of 1 completed"
     ]
    },
    {
     "name": "stdout",
     "output_type": "stream",
     "text": [
      "Get data for :  MPC\n"
     ]
    },
    {
     "name": "stderr",
     "output_type": "stream",
     "text": [
      "\n"
     ]
    },
    {
     "name": "stdout",
     "output_type": "stream",
     "text": [
      "Get data for :  MPWR\n"
     ]
    },
    {
     "name": "stderr",
     "output_type": "stream",
     "text": [
      "[*********************100%%**********************]  1 of 1 completed\n",
      "[*********************100%%**********************]  1 of 1 completed"
     ]
    },
    {
     "name": "stdout",
     "output_type": "stream",
     "text": [
      "Get data for :  MRK\n"
     ]
    },
    {
     "name": "stderr",
     "output_type": "stream",
     "text": [
      "\n",
      "[*********************100%%**********************]  1 of 1 completed"
     ]
    },
    {
     "name": "stdout",
     "output_type": "stream",
     "text": [
      "Get data for :  MRNA\n"
     ]
    },
    {
     "name": "stderr",
     "output_type": "stream",
     "text": [
      "\n"
     ]
    },
    {
     "name": "stdout",
     "output_type": "stream",
     "text": [
      "Get data for :  MRO\n"
     ]
    },
    {
     "name": "stderr",
     "output_type": "stream",
     "text": [
      "[*********************100%%**********************]  1 of 1 completed\n"
     ]
    },
    {
     "name": "stdout",
     "output_type": "stream",
     "text": [
      "Get data for :  MS\n"
     ]
    },
    {
     "name": "stderr",
     "output_type": "stream",
     "text": [
      "[*********************100%%**********************]  1 of 1 completed\n"
     ]
    },
    {
     "name": "stdout",
     "output_type": "stream",
     "text": [
      "Get data for :  MSCI\n"
     ]
    },
    {
     "name": "stderr",
     "output_type": "stream",
     "text": [
      "[*********************100%%**********************]  1 of 1 completed\n"
     ]
    },
    {
     "name": "stdout",
     "output_type": "stream",
     "text": [
      "Get data for :  MSFT\n"
     ]
    },
    {
     "name": "stderr",
     "output_type": "stream",
     "text": [
      "[*********************100%%**********************]  1 of 1 completed\n"
     ]
    },
    {
     "name": "stdout",
     "output_type": "stream",
     "text": [
      "Get data for :  MSI\n"
     ]
    },
    {
     "name": "stderr",
     "output_type": "stream",
     "text": [
      "[*********************100%%**********************]  1 of 1 completed\n"
     ]
    },
    {
     "name": "stdout",
     "output_type": "stream",
     "text": [
      "Get data for :  MTB\n"
     ]
    },
    {
     "name": "stderr",
     "output_type": "stream",
     "text": [
      "[*********************100%%**********************]  1 of 1 completed\n",
      "[*********************100%%**********************]  1 of 1 completed"
     ]
    },
    {
     "name": "stdout",
     "output_type": "stream",
     "text": [
      "Get data for :  MTCH\n"
     ]
    },
    {
     "name": "stderr",
     "output_type": "stream",
     "text": [
      "\n",
      "[*********************100%%**********************]  1 of 1 completed"
     ]
    },
    {
     "name": "stdout",
     "output_type": "stream",
     "text": [
      "Get data for :  MTD\n"
     ]
    },
    {
     "name": "stderr",
     "output_type": "stream",
     "text": [
      "\n"
     ]
    },
    {
     "name": "stdout",
     "output_type": "stream",
     "text": [
      "Get data for :  MU\n"
     ]
    },
    {
     "name": "stderr",
     "output_type": "stream",
     "text": [
      "[*********************100%%**********************]  1 of 1 completed\n",
      "[*********************100%%**********************]  1 of 1 completed"
     ]
    },
    {
     "name": "stdout",
     "output_type": "stream",
     "text": [
      "Get data for :  NCLH\n"
     ]
    },
    {
     "name": "stderr",
     "output_type": "stream",
     "text": [
      "\n"
     ]
    },
    {
     "name": "stdout",
     "output_type": "stream",
     "text": [
      "Get data for :  NDAQ\n"
     ]
    },
    {
     "name": "stderr",
     "output_type": "stream",
     "text": [
      "[*********************100%%**********************]  1 of 1 completed\n"
     ]
    },
    {
     "name": "stdout",
     "output_type": "stream",
     "text": [
      "Get data for :  NDSN\n"
     ]
    },
    {
     "name": "stderr",
     "output_type": "stream",
     "text": [
      "[*********************100%%**********************]  1 of 1 completed\n"
     ]
    },
    {
     "name": "stdout",
     "output_type": "stream",
     "text": [
      "Get data for :  NEE\n"
     ]
    },
    {
     "name": "stderr",
     "output_type": "stream",
     "text": [
      "[*********************100%%**********************]  1 of 1 completed\n"
     ]
    },
    {
     "name": "stdout",
     "output_type": "stream",
     "text": [
      "Get data for :  NEM\n"
     ]
    },
    {
     "name": "stderr",
     "output_type": "stream",
     "text": [
      "[*********************100%%**********************]  1 of 1 completed\n"
     ]
    },
    {
     "name": "stdout",
     "output_type": "stream",
     "text": [
      "Get data for :  NFLX\n"
     ]
    },
    {
     "name": "stderr",
     "output_type": "stream",
     "text": [
      "[*********************100%%**********************]  1 of 1 completed\n"
     ]
    },
    {
     "name": "stdout",
     "output_type": "stream",
     "text": [
      "Get data for :  NI\n"
     ]
    },
    {
     "name": "stderr",
     "output_type": "stream",
     "text": [
      "[*********************100%%**********************]  1 of 1 completed\n"
     ]
    },
    {
     "name": "stdout",
     "output_type": "stream",
     "text": [
      "Get data for :  NKE\n"
     ]
    },
    {
     "name": "stderr",
     "output_type": "stream",
     "text": [
      "[*********************100%%**********************]  1 of 1 completed\n"
     ]
    },
    {
     "name": "stdout",
     "output_type": "stream",
     "text": [
      "Get data for :  NOC\n"
     ]
    },
    {
     "name": "stderr",
     "output_type": "stream",
     "text": [
      "[*********************100%%**********************]  1 of 1 completed\n"
     ]
    },
    {
     "name": "stdout",
     "output_type": "stream",
     "text": [
      "Get data for :  NOW\n"
     ]
    },
    {
     "name": "stderr",
     "output_type": "stream",
     "text": [
      "[*********************100%%**********************]  1 of 1 completed\n"
     ]
    },
    {
     "name": "stdout",
     "output_type": "stream",
     "text": [
      "Get data for :  NRG\n"
     ]
    },
    {
     "name": "stderr",
     "output_type": "stream",
     "text": [
      "[*********************100%%**********************]  1 of 1 completed\n"
     ]
    },
    {
     "name": "stdout",
     "output_type": "stream",
     "text": [
      "Get data for :  NSC\n"
     ]
    },
    {
     "name": "stderr",
     "output_type": "stream",
     "text": [
      "[*********************100%%**********************]  1 of 1 completed\n"
     ]
    },
    {
     "name": "stdout",
     "output_type": "stream",
     "text": [
      "Get data for :  NTAP\n"
     ]
    },
    {
     "name": "stderr",
     "output_type": "stream",
     "text": [
      "[*********************100%%**********************]  1 of 1 completed\n"
     ]
    },
    {
     "name": "stdout",
     "output_type": "stream",
     "text": [
      "Get data for :  NTRS\n"
     ]
    },
    {
     "name": "stderr",
     "output_type": "stream",
     "text": [
      "[*********************100%%**********************]  1 of 1 completed\n"
     ]
    },
    {
     "name": "stdout",
     "output_type": "stream",
     "text": [
      "Get data for :  NUE\n"
     ]
    },
    {
     "name": "stderr",
     "output_type": "stream",
     "text": [
      "[*********************100%%**********************]  1 of 1 completed\n"
     ]
    },
    {
     "name": "stdout",
     "output_type": "stream",
     "text": [
      "Get data for :  NVDA\n"
     ]
    },
    {
     "name": "stderr",
     "output_type": "stream",
     "text": [
      "[*********************100%%**********************]  1 of 1 completed\n",
      "[*********************100%%**********************]  1 of 1 completed"
     ]
    },
    {
     "name": "stdout",
     "output_type": "stream",
     "text": [
      "Get data for :  NVR\n"
     ]
    },
    {
     "name": "stderr",
     "output_type": "stream",
     "text": [
      "\n"
     ]
    },
    {
     "name": "stdout",
     "output_type": "stream",
     "text": [
      "Get data for :  NWS\n"
     ]
    },
    {
     "name": "stderr",
     "output_type": "stream",
     "text": [
      "[*********************100%%**********************]  1 of 1 completed\n",
      "[*********************100%%**********************]  1 of 1 completed"
     ]
    },
    {
     "name": "stdout",
     "output_type": "stream",
     "text": [
      "Get data for :  NWSA\n"
     ]
    },
    {
     "name": "stderr",
     "output_type": "stream",
     "text": [
      "\n",
      "[*********************100%%**********************]  1 of 1 completed"
     ]
    },
    {
     "name": "stdout",
     "output_type": "stream",
     "text": [
      "Get data for :  NXPI\n"
     ]
    },
    {
     "name": "stderr",
     "output_type": "stream",
     "text": [
      "\n"
     ]
    },
    {
     "name": "stdout",
     "output_type": "stream",
     "text": [
      "Get data for :  O\n"
     ]
    },
    {
     "name": "stderr",
     "output_type": "stream",
     "text": [
      "[*********************100%%**********************]  1 of 1 completed\n"
     ]
    },
    {
     "name": "stdout",
     "output_type": "stream",
     "text": [
      "Get data for :  ODFL\n"
     ]
    },
    {
     "name": "stderr",
     "output_type": "stream",
     "text": [
      "[*********************100%%**********************]  1 of 1 completed\n"
     ]
    },
    {
     "name": "stdout",
     "output_type": "stream",
     "text": [
      "Get data for :  OKE\n"
     ]
    },
    {
     "name": "stderr",
     "output_type": "stream",
     "text": [
      "[*********************100%%**********************]  1 of 1 completed\n",
      "[*********************100%%**********************]  1 of 1 completed"
     ]
    },
    {
     "name": "stdout",
     "output_type": "stream",
     "text": [
      "Get data for :  OMC\n"
     ]
    },
    {
     "name": "stderr",
     "output_type": "stream",
     "text": [
      "\n",
      "[*********************100%%**********************]  1 of 1 completed"
     ]
    },
    {
     "name": "stdout",
     "output_type": "stream",
     "text": [
      "Get data for :  ON\n"
     ]
    },
    {
     "name": "stderr",
     "output_type": "stream",
     "text": [
      "\n"
     ]
    },
    {
     "name": "stdout",
     "output_type": "stream",
     "text": [
      "Get data for :  ORCL\n"
     ]
    },
    {
     "name": "stderr",
     "output_type": "stream",
     "text": [
      "[*********************100%%**********************]  1 of 1 completed\n",
      "[*********************100%%**********************]  1 of 1 completed"
     ]
    },
    {
     "name": "stdout",
     "output_type": "stream",
     "text": [
      "Get data for :  ORLY\n"
     ]
    },
    {
     "name": "stderr",
     "output_type": "stream",
     "text": [
      "\n"
     ]
    },
    {
     "name": "stdout",
     "output_type": "stream",
     "text": [
      "Get data for :  OXY\n"
     ]
    },
    {
     "name": "stderr",
     "output_type": "stream",
     "text": [
      "[*********************100%%**********************]  1 of 1 completed\n",
      "[*********************100%%**********************]  1 of 1 completed"
     ]
    },
    {
     "name": "stdout",
     "output_type": "stream",
     "text": [
      "Get data for :  PANW\n"
     ]
    },
    {
     "name": "stderr",
     "output_type": "stream",
     "text": [
      "\n"
     ]
    },
    {
     "name": "stdout",
     "output_type": "stream",
     "text": [
      "Get data for :  PARA\n"
     ]
    },
    {
     "name": "stderr",
     "output_type": "stream",
     "text": [
      "[*********************100%%**********************]  1 of 1 completed\n"
     ]
    },
    {
     "name": "stdout",
     "output_type": "stream",
     "text": [
      "Get data for :  PAYC\n"
     ]
    },
    {
     "name": "stderr",
     "output_type": "stream",
     "text": [
      "[*********************100%%**********************]  1 of 1 completed\n"
     ]
    },
    {
     "name": "stdout",
     "output_type": "stream",
     "text": [
      "Get data for :  PAYX\n"
     ]
    },
    {
     "name": "stderr",
     "output_type": "stream",
     "text": [
      "[*********************100%%**********************]  1 of 1 completed\n",
      "[*********************100%%**********************]  1 of 1 completed"
     ]
    },
    {
     "name": "stdout",
     "output_type": "stream",
     "text": [
      "Get data for :  PCAR\n"
     ]
    },
    {
     "name": "stderr",
     "output_type": "stream",
     "text": [
      "\n"
     ]
    },
    {
     "name": "stdout",
     "output_type": "stream",
     "text": [
      "Get data for :  PCG\n"
     ]
    },
    {
     "name": "stderr",
     "output_type": "stream",
     "text": [
      "[*********************100%%**********************]  1 of 1 completed\n"
     ]
    },
    {
     "name": "stdout",
     "output_type": "stream",
     "text": [
      "Get data for :  PEG\n"
     ]
    },
    {
     "name": "stderr",
     "output_type": "stream",
     "text": [
      "[*********************100%%**********************]  1 of 1 completed\n",
      "[*********************100%%**********************]  1 of 1 completed"
     ]
    },
    {
     "name": "stdout",
     "output_type": "stream",
     "text": [
      "Get data for :  PEP\n"
     ]
    },
    {
     "name": "stderr",
     "output_type": "stream",
     "text": [
      "\n"
     ]
    },
    {
     "name": "stdout",
     "output_type": "stream",
     "text": [
      "Get data for :  PFE\n"
     ]
    },
    {
     "name": "stderr",
     "output_type": "stream",
     "text": [
      "[*********************100%%**********************]  1 of 1 completed\n"
     ]
    },
    {
     "name": "stdout",
     "output_type": "stream",
     "text": [
      "Get data for :  PFG\n"
     ]
    },
    {
     "name": "stderr",
     "output_type": "stream",
     "text": [
      "[*********************100%%**********************]  1 of 1 completed\n"
     ]
    },
    {
     "name": "stdout",
     "output_type": "stream",
     "text": [
      "Get data for :  PG\n"
     ]
    },
    {
     "name": "stderr",
     "output_type": "stream",
     "text": [
      "[*********************100%%**********************]  1 of 1 completed\n"
     ]
    },
    {
     "name": "stdout",
     "output_type": "stream",
     "text": [
      "Get data for :  PGR\n"
     ]
    },
    {
     "name": "stderr",
     "output_type": "stream",
     "text": [
      "[*********************100%%**********************]  1 of 1 completed\n"
     ]
    },
    {
     "name": "stdout",
     "output_type": "stream",
     "text": [
      "Get data for :  PH\n"
     ]
    },
    {
     "name": "stderr",
     "output_type": "stream",
     "text": [
      "[*********************100%%**********************]  1 of 1 completed\n",
      "[*********************100%%**********************]  1 of 1 completed"
     ]
    },
    {
     "name": "stdout",
     "output_type": "stream",
     "text": [
      "Get data for :  PHM\n"
     ]
    },
    {
     "name": "stderr",
     "output_type": "stream",
     "text": [
      "\n"
     ]
    },
    {
     "name": "stdout",
     "output_type": "stream",
     "text": [
      "Get data for :  PKG\n"
     ]
    },
    {
     "name": "stderr",
     "output_type": "stream",
     "text": [
      "[*********************100%%**********************]  1 of 1 completed\n"
     ]
    },
    {
     "name": "stdout",
     "output_type": "stream",
     "text": [
      "Get data for :  PLD\n"
     ]
    },
    {
     "name": "stderr",
     "output_type": "stream",
     "text": [
      "[*********************100%%**********************]  1 of 1 completed\n"
     ]
    },
    {
     "name": "stdout",
     "output_type": "stream",
     "text": [
      "Get data for :  PM\n"
     ]
    },
    {
     "name": "stderr",
     "output_type": "stream",
     "text": [
      "[*********************100%%**********************]  1 of 1 completed\n"
     ]
    },
    {
     "name": "stdout",
     "output_type": "stream",
     "text": [
      "Get data for :  PNC\n"
     ]
    },
    {
     "name": "stderr",
     "output_type": "stream",
     "text": [
      "[*********************100%%**********************]  1 of 1 completed\n"
     ]
    },
    {
     "name": "stdout",
     "output_type": "stream",
     "text": [
      "Get data for :  PNR\n"
     ]
    },
    {
     "name": "stderr",
     "output_type": "stream",
     "text": [
      "[*********************100%%**********************]  1 of 1 completed\n"
     ]
    },
    {
     "name": "stdout",
     "output_type": "stream",
     "text": [
      "Get data for :  PNW\n"
     ]
    },
    {
     "name": "stderr",
     "output_type": "stream",
     "text": [
      "[*********************100%%**********************]  1 of 1 completed\n",
      "[*********************100%%**********************]  1 of 1 completed"
     ]
    },
    {
     "name": "stdout",
     "output_type": "stream",
     "text": [
      "Get data for :  PODD\n"
     ]
    },
    {
     "name": "stderr",
     "output_type": "stream",
     "text": [
      "\n"
     ]
    },
    {
     "name": "stdout",
     "output_type": "stream",
     "text": [
      "Get data for :  POOL\n"
     ]
    },
    {
     "name": "stderr",
     "output_type": "stream",
     "text": [
      "[*********************100%%**********************]  1 of 1 completed\n"
     ]
    },
    {
     "name": "stdout",
     "output_type": "stream",
     "text": [
      "Get data for :  PPG\n"
     ]
    },
    {
     "name": "stderr",
     "output_type": "stream",
     "text": [
      "[*********************100%%**********************]  1 of 1 completed\n"
     ]
    },
    {
     "name": "stdout",
     "output_type": "stream",
     "text": [
      "Get data for :  PPL\n"
     ]
    },
    {
     "name": "stderr",
     "output_type": "stream",
     "text": [
      "[*********************100%%**********************]  1 of 1 completed\n"
     ]
    },
    {
     "name": "stdout",
     "output_type": "stream",
     "text": [
      "Get data for :  PRU\n"
     ]
    },
    {
     "name": "stderr",
     "output_type": "stream",
     "text": [
      "[*********************100%%**********************]  1 of 1 completed\n"
     ]
    },
    {
     "name": "stdout",
     "output_type": "stream",
     "text": [
      "Get data for :  PSA\n"
     ]
    },
    {
     "name": "stderr",
     "output_type": "stream",
     "text": [
      "[*********************100%%**********************]  1 of 1 completed\n"
     ]
    },
    {
     "name": "stdout",
     "output_type": "stream",
     "text": [
      "Get data for :  PSX\n"
     ]
    },
    {
     "name": "stderr",
     "output_type": "stream",
     "text": [
      "[*********************100%%**********************]  1 of 1 completed\n",
      "[*********************100%%**********************]  1 of 1 completed"
     ]
    },
    {
     "name": "stdout",
     "output_type": "stream",
     "text": [
      "Get data for :  PTC\n"
     ]
    },
    {
     "name": "stderr",
     "output_type": "stream",
     "text": [
      "\n",
      "[*********************100%%**********************]  1 of 1 completed"
     ]
    },
    {
     "name": "stdout",
     "output_type": "stream",
     "text": [
      "Get data for :  PWR\n"
     ]
    },
    {
     "name": "stderr",
     "output_type": "stream",
     "text": [
      "\n"
     ]
    },
    {
     "name": "stdout",
     "output_type": "stream",
     "text": [
      "Get data for :  PXD\n"
     ]
    },
    {
     "name": "stderr",
     "output_type": "stream",
     "text": [
      "[*********************100%%**********************]  1 of 1 completed\n"
     ]
    },
    {
     "name": "stdout",
     "output_type": "stream",
     "text": [
      "Get data for :  PYPL\n"
     ]
    },
    {
     "name": "stderr",
     "output_type": "stream",
     "text": [
      "[*********************100%%**********************]  1 of 1 completed\n"
     ]
    },
    {
     "name": "stdout",
     "output_type": "stream",
     "text": [
      "Get data for :  QCOM\n"
     ]
    },
    {
     "name": "stderr",
     "output_type": "stream",
     "text": [
      "[*********************100%%**********************]  1 of 1 completed\n",
      "[*********************100%%**********************]  1 of 1 completed"
     ]
    },
    {
     "name": "stdout",
     "output_type": "stream",
     "text": [
      "Get data for :  QRVO\n"
     ]
    },
    {
     "name": "stderr",
     "output_type": "stream",
     "text": [
      "\n"
     ]
    },
    {
     "name": "stdout",
     "output_type": "stream",
     "text": [
      "Get data for :  RCL\n"
     ]
    },
    {
     "name": "stderr",
     "output_type": "stream",
     "text": [
      "[*********************100%%**********************]  1 of 1 completed\n"
     ]
    },
    {
     "name": "stdout",
     "output_type": "stream",
     "text": [
      "Get data for :  REG\n"
     ]
    },
    {
     "name": "stderr",
     "output_type": "stream",
     "text": [
      "[*********************100%%**********************]  1 of 1 completed\n"
     ]
    },
    {
     "name": "stdout",
     "output_type": "stream",
     "text": [
      "Get data for :  REGN\n"
     ]
    },
    {
     "name": "stderr",
     "output_type": "stream",
     "text": [
      "[*********************100%%**********************]  1 of 1 completed\n"
     ]
    },
    {
     "name": "stdout",
     "output_type": "stream",
     "text": [
      "Get data for :  RF\n"
     ]
    },
    {
     "name": "stderr",
     "output_type": "stream",
     "text": [
      "[*********************100%%**********************]  1 of 1 completed\n"
     ]
    },
    {
     "name": "stdout",
     "output_type": "stream",
     "text": [
      "Get data for :  RHI\n"
     ]
    },
    {
     "name": "stderr",
     "output_type": "stream",
     "text": [
      "[*********************100%%**********************]  1 of 1 completed\n"
     ]
    },
    {
     "name": "stdout",
     "output_type": "stream",
     "text": [
      "Get data for :  RJF\n"
     ]
    },
    {
     "name": "stderr",
     "output_type": "stream",
     "text": [
      "[*********************100%%**********************]  1 of 1 completed\n"
     ]
    },
    {
     "name": "stdout",
     "output_type": "stream",
     "text": [
      "Get data for :  RL\n"
     ]
    },
    {
     "name": "stderr",
     "output_type": "stream",
     "text": [
      "[*********************100%%**********************]  1 of 1 completed\n"
     ]
    },
    {
     "name": "stdout",
     "output_type": "stream",
     "text": [
      "Get data for :  RMD\n"
     ]
    },
    {
     "name": "stderr",
     "output_type": "stream",
     "text": [
      "[*********************100%%**********************]  1 of 1 completed\n"
     ]
    },
    {
     "name": "stdout",
     "output_type": "stream",
     "text": [
      "Get data for :  ROK\n"
     ]
    },
    {
     "name": "stderr",
     "output_type": "stream",
     "text": [
      "[*********************100%%**********************]  1 of 1 completed\n",
      "[*********************100%%**********************]  1 of 1 completed"
     ]
    },
    {
     "name": "stdout",
     "output_type": "stream",
     "text": [
      "Get data for :  ROL\n"
     ]
    },
    {
     "name": "stderr",
     "output_type": "stream",
     "text": [
      "\n"
     ]
    },
    {
     "name": "stdout",
     "output_type": "stream",
     "text": [
      "Get data for :  ROP\n"
     ]
    },
    {
     "name": "stderr",
     "output_type": "stream",
     "text": [
      "[*********************100%%**********************]  1 of 1 completed\n"
     ]
    },
    {
     "name": "stdout",
     "output_type": "stream",
     "text": [
      "Get data for :  ROST\n"
     ]
    },
    {
     "name": "stderr",
     "output_type": "stream",
     "text": [
      "[*********************100%%**********************]  1 of 1 completed\n"
     ]
    },
    {
     "name": "stdout",
     "output_type": "stream",
     "text": [
      "Get data for :  RSG\n"
     ]
    },
    {
     "name": "stderr",
     "output_type": "stream",
     "text": [
      "[*********************100%%**********************]  1 of 1 completed\n"
     ]
    },
    {
     "name": "stdout",
     "output_type": "stream",
     "text": [
      "Get data for :  RTX\n"
     ]
    },
    {
     "name": "stderr",
     "output_type": "stream",
     "text": [
      "[*********************100%%**********************]  1 of 1 completed\n"
     ]
    },
    {
     "name": "stdout",
     "output_type": "stream",
     "text": [
      "Get data for :  RVTY\n"
     ]
    },
    {
     "name": "stderr",
     "output_type": "stream",
     "text": [
      "[*********************100%%**********************]  1 of 1 completed\n"
     ]
    },
    {
     "name": "stdout",
     "output_type": "stream",
     "text": [
      "Get data for :  SBAC\n"
     ]
    },
    {
     "name": "stderr",
     "output_type": "stream",
     "text": [
      "[*********************100%%**********************]  1 of 1 completed\n",
      "[*********************100%%**********************]  1 of 1 completed"
     ]
    },
    {
     "name": "stdout",
     "output_type": "stream",
     "text": [
      "Get data for :  SBUX\n"
     ]
    },
    {
     "name": "stderr",
     "output_type": "stream",
     "text": [
      "\n",
      "[*********************100%%**********************]  1 of 1 completed"
     ]
    },
    {
     "name": "stdout",
     "output_type": "stream",
     "text": [
      "Get data for :  SCHW\n"
     ]
    },
    {
     "name": "stderr",
     "output_type": "stream",
     "text": [
      "\n"
     ]
    },
    {
     "name": "stdout",
     "output_type": "stream",
     "text": [
      "Get data for :  SHW\n"
     ]
    },
    {
     "name": "stderr",
     "output_type": "stream",
     "text": [
      "[*********************100%%**********************]  1 of 1 completed\n"
     ]
    },
    {
     "name": "stdout",
     "output_type": "stream",
     "text": [
      "Get data for :  SJM\n"
     ]
    },
    {
     "name": "stderr",
     "output_type": "stream",
     "text": [
      "[*********************100%%**********************]  1 of 1 completed\n"
     ]
    },
    {
     "name": "stdout",
     "output_type": "stream",
     "text": [
      "Get data for :  SLB\n"
     ]
    },
    {
     "name": "stderr",
     "output_type": "stream",
     "text": [
      "[*********************100%%**********************]  1 of 1 completed\n",
      "[*********************100%%**********************]  1 of 1 completed"
     ]
    },
    {
     "name": "stdout",
     "output_type": "stream",
     "text": [
      "Get data for :  SMCI\n"
     ]
    },
    {
     "name": "stderr",
     "output_type": "stream",
     "text": [
      "\n",
      "[*********************100%%**********************]  1 of 1 completed"
     ]
    },
    {
     "name": "stdout",
     "output_type": "stream",
     "text": [
      "Get data for :  SNA\n"
     ]
    },
    {
     "name": "stderr",
     "output_type": "stream",
     "text": [
      "\n"
     ]
    },
    {
     "name": "stdout",
     "output_type": "stream",
     "text": [
      "Get data for :  SNPS\n"
     ]
    },
    {
     "name": "stderr",
     "output_type": "stream",
     "text": [
      "[*********************100%%**********************]  1 of 1 completed\n"
     ]
    },
    {
     "name": "stdout",
     "output_type": "stream",
     "text": [
      "Get data for :  SO\n"
     ]
    },
    {
     "name": "stderr",
     "output_type": "stream",
     "text": [
      "[*********************100%%**********************]  1 of 1 completed\n"
     ]
    },
    {
     "name": "stdout",
     "output_type": "stream",
     "text": [
      "Get data for :  SOLV\n"
     ]
    },
    {
     "name": "stderr",
     "output_type": "stream",
     "text": [
      "[*********************100%%**********************]  1 of 1 completed\n",
      "\n",
      "1 Failed download:\n",
      "['SOLV']: Exception(\"%ticker%: Data doesn't exist for startDate = 1629432000, endDate = 1631246400\")\n"
     ]
    },
    {
     "name": "stdout",
     "output_type": "stream",
     "text": [
      "Get data for :  SPG\n"
     ]
    },
    {
     "name": "stderr",
     "output_type": "stream",
     "text": [
      "[*********************100%%**********************]  1 of 1 completed\n"
     ]
    },
    {
     "name": "stdout",
     "output_type": "stream",
     "text": [
      "Get data for :  SPGI\n"
     ]
    },
    {
     "name": "stderr",
     "output_type": "stream",
     "text": [
      "[*********************100%%**********************]  1 of 1 completed\n"
     ]
    },
    {
     "name": "stdout",
     "output_type": "stream",
     "text": [
      "Get data for :  SRE\n"
     ]
    },
    {
     "name": "stderr",
     "output_type": "stream",
     "text": [
      "[*********************100%%**********************]  1 of 1 completed\n"
     ]
    },
    {
     "name": "stdout",
     "output_type": "stream",
     "text": [
      "Get data for :  STE\n"
     ]
    },
    {
     "name": "stderr",
     "output_type": "stream",
     "text": [
      "[*********************100%%**********************]  1 of 1 completed\n"
     ]
    },
    {
     "name": "stdout",
     "output_type": "stream",
     "text": [
      "Get data for :  STLD\n"
     ]
    },
    {
     "name": "stderr",
     "output_type": "stream",
     "text": [
      "[*********************100%%**********************]  1 of 1 completed\n"
     ]
    },
    {
     "name": "stdout",
     "output_type": "stream",
     "text": [
      "Get data for :  STT\n"
     ]
    },
    {
     "name": "stderr",
     "output_type": "stream",
     "text": [
      "[*********************100%%**********************]  1 of 1 completed\n"
     ]
    },
    {
     "name": "stdout",
     "output_type": "stream",
     "text": [
      "Get data for :  STX\n"
     ]
    },
    {
     "name": "stderr",
     "output_type": "stream",
     "text": [
      "[*********************100%%**********************]  1 of 1 completed\n",
      "[*********************100%%**********************]  1 of 1 completed"
     ]
    },
    {
     "name": "stdout",
     "output_type": "stream",
     "text": [
      "Get data for :  STZ\n"
     ]
    },
    {
     "name": "stderr",
     "output_type": "stream",
     "text": [
      "\n"
     ]
    },
    {
     "name": "stdout",
     "output_type": "stream",
     "text": [
      "Get data for :  SWK\n"
     ]
    },
    {
     "name": "stderr",
     "output_type": "stream",
     "text": [
      "[*********************100%%**********************]  1 of 1 completed\n"
     ]
    },
    {
     "name": "stdout",
     "output_type": "stream",
     "text": [
      "Get data for :  SWKS\n"
     ]
    },
    {
     "name": "stderr",
     "output_type": "stream",
     "text": [
      "[*********************100%%**********************]  1 of 1 completed\n",
      "[*********************100%%**********************]  1 of 1 completed"
     ]
    },
    {
     "name": "stdout",
     "output_type": "stream",
     "text": [
      "Get data for :  SYF\n"
     ]
    },
    {
     "name": "stderr",
     "output_type": "stream",
     "text": [
      "\n"
     ]
    },
    {
     "name": "stdout",
     "output_type": "stream",
     "text": [
      "Get data for :  SYK\n"
     ]
    },
    {
     "name": "stderr",
     "output_type": "stream",
     "text": [
      "[*********************100%%**********************]  1 of 1 completed\n"
     ]
    },
    {
     "name": "stdout",
     "output_type": "stream",
     "text": [
      "Get data for :  SYY\n"
     ]
    },
    {
     "name": "stderr",
     "output_type": "stream",
     "text": [
      "[*********************100%%**********************]  1 of 1 completed\n"
     ]
    },
    {
     "name": "stdout",
     "output_type": "stream",
     "text": [
      "Get data for :  T\n"
     ]
    },
    {
     "name": "stderr",
     "output_type": "stream",
     "text": [
      "[*********************100%%**********************]  1 of 1 completed\n"
     ]
    },
    {
     "name": "stdout",
     "output_type": "stream",
     "text": [
      "Get data for :  TAP\n"
     ]
    },
    {
     "name": "stderr",
     "output_type": "stream",
     "text": [
      "[*********************100%%**********************]  1 of 1 completed\n"
     ]
    },
    {
     "name": "stdout",
     "output_type": "stream",
     "text": [
      "Get data for :  TDG\n"
     ]
    },
    {
     "name": "stderr",
     "output_type": "stream",
     "text": [
      "[*********************100%%**********************]  1 of 1 completed\n",
      "[*********************100%%**********************]  1 of 1 completed"
     ]
    },
    {
     "name": "stdout",
     "output_type": "stream",
     "text": [
      "Get data for :  TDY\n"
     ]
    },
    {
     "name": "stderr",
     "output_type": "stream",
     "text": [
      "\n"
     ]
    },
    {
     "name": "stdout",
     "output_type": "stream",
     "text": [
      "Get data for :  TECH\n"
     ]
    },
    {
     "name": "stderr",
     "output_type": "stream",
     "text": [
      "[*********************100%%**********************]  1 of 1 completed\n"
     ]
    },
    {
     "name": "stdout",
     "output_type": "stream",
     "text": [
      "Get data for :  TEL\n"
     ]
    },
    {
     "name": "stderr",
     "output_type": "stream",
     "text": [
      "[*********************100%%**********************]  1 of 1 completed\n"
     ]
    },
    {
     "name": "stdout",
     "output_type": "stream",
     "text": [
      "Get data for :  TER\n"
     ]
    },
    {
     "name": "stderr",
     "output_type": "stream",
     "text": [
      "[*********************100%%**********************]  1 of 1 completed\n"
     ]
    },
    {
     "name": "stdout",
     "output_type": "stream",
     "text": [
      "Get data for :  TFC\n"
     ]
    },
    {
     "name": "stderr",
     "output_type": "stream",
     "text": [
      "[*********************100%%**********************]  1 of 1 completed\n"
     ]
    },
    {
     "name": "stdout",
     "output_type": "stream",
     "text": [
      "Get data for :  TFX\n"
     ]
    },
    {
     "name": "stderr",
     "output_type": "stream",
     "text": [
      "[*********************100%%**********************]  1 of 1 completed\n"
     ]
    },
    {
     "name": "stdout",
     "output_type": "stream",
     "text": [
      "Get data for :  TGT\n"
     ]
    },
    {
     "name": "stderr",
     "output_type": "stream",
     "text": [
      "[*********************100%%**********************]  1 of 1 completed\n"
     ]
    },
    {
     "name": "stdout",
     "output_type": "stream",
     "text": [
      "Get data for :  TJX\n"
     ]
    },
    {
     "name": "stderr",
     "output_type": "stream",
     "text": [
      "[*********************100%%**********************]  1 of 1 completed\n"
     ]
    },
    {
     "name": "stdout",
     "output_type": "stream",
     "text": [
      "Get data for :  TMO\n"
     ]
    },
    {
     "name": "stderr",
     "output_type": "stream",
     "text": [
      "[*********************100%%**********************]  1 of 1 completed\n"
     ]
    },
    {
     "name": "stdout",
     "output_type": "stream",
     "text": [
      "Get data for :  TMUS\n"
     ]
    },
    {
     "name": "stderr",
     "output_type": "stream",
     "text": [
      "[*********************100%%**********************]  1 of 1 completed\n"
     ]
    },
    {
     "name": "stdout",
     "output_type": "stream",
     "text": [
      "Get data for :  TPR\n"
     ]
    },
    {
     "name": "stderr",
     "output_type": "stream",
     "text": [
      "[*********************100%%**********************]  1 of 1 completed\n",
      "[*********************100%%**********************]  1 of 1 completed"
     ]
    },
    {
     "name": "stdout",
     "output_type": "stream",
     "text": [
      "Get data for :  TRGP\n"
     ]
    },
    {
     "name": "stderr",
     "output_type": "stream",
     "text": [
      "\n",
      "[*********************100%%**********************]  1 of 1 completed"
     ]
    },
    {
     "name": "stdout",
     "output_type": "stream",
     "text": [
      "Get data for :  TRMB\n"
     ]
    },
    {
     "name": "stderr",
     "output_type": "stream",
     "text": [
      "\n"
     ]
    },
    {
     "name": "stdout",
     "output_type": "stream",
     "text": [
      "Get data for :  TROW\n"
     ]
    },
    {
     "name": "stderr",
     "output_type": "stream",
     "text": [
      "[*********************100%%**********************]  1 of 1 completed\n"
     ]
    },
    {
     "name": "stdout",
     "output_type": "stream",
     "text": [
      "Get data for :  TRV\n"
     ]
    },
    {
     "name": "stderr",
     "output_type": "stream",
     "text": [
      "[*********************100%%**********************]  1 of 1 completed\n"
     ]
    },
    {
     "name": "stdout",
     "output_type": "stream",
     "text": [
      "Get data for :  TSCO\n"
     ]
    },
    {
     "name": "stderr",
     "output_type": "stream",
     "text": [
      "[*********************100%%**********************]  1 of 1 completed\n"
     ]
    },
    {
     "name": "stdout",
     "output_type": "stream",
     "text": [
      "Get data for :  TSLA\n"
     ]
    },
    {
     "name": "stderr",
     "output_type": "stream",
     "text": [
      "[*********************100%%**********************]  1 of 1 completed\n"
     ]
    },
    {
     "name": "stdout",
     "output_type": "stream",
     "text": [
      "Get data for :  TSN\n"
     ]
    },
    {
     "name": "stderr",
     "output_type": "stream",
     "text": [
      "[*********************100%%**********************]  1 of 1 completed\n",
      "[*********************100%%**********************]  1 of 1 completed"
     ]
    },
    {
     "name": "stdout",
     "output_type": "stream",
     "text": [
      "Get data for :  TT\n"
     ]
    },
    {
     "name": "stderr",
     "output_type": "stream",
     "text": [
      "\n",
      "[*********************100%%**********************]  1 of 1 completed"
     ]
    },
    {
     "name": "stdout",
     "output_type": "stream",
     "text": [
      "Get data for :  TTWO\n"
     ]
    },
    {
     "name": "stderr",
     "output_type": "stream",
     "text": [
      "\n"
     ]
    },
    {
     "name": "stdout",
     "output_type": "stream",
     "text": [
      "Get data for :  TXN\n"
     ]
    },
    {
     "name": "stderr",
     "output_type": "stream",
     "text": [
      "[*********************100%%**********************]  1 of 1 completed\n"
     ]
    },
    {
     "name": "stdout",
     "output_type": "stream",
     "text": [
      "Get data for :  TXT\n"
     ]
    },
    {
     "name": "stderr",
     "output_type": "stream",
     "text": [
      "[*********************100%%**********************]  1 of 1 completed\n"
     ]
    },
    {
     "name": "stdout",
     "output_type": "stream",
     "text": [
      "Get data for :  TYL\n"
     ]
    },
    {
     "name": "stderr",
     "output_type": "stream",
     "text": [
      "[*********************100%%**********************]  1 of 1 completed\n",
      "[*********************100%%**********************]  1 of 1 completed"
     ]
    },
    {
     "name": "stdout",
     "output_type": "stream",
     "text": [
      "Get data for :  UAL\n"
     ]
    },
    {
     "name": "stderr",
     "output_type": "stream",
     "text": [
      "\n",
      "[*********************100%%**********************]  1 of 1 completed"
     ]
    },
    {
     "name": "stdout",
     "output_type": "stream",
     "text": [
      "Get data for :  UBER\n"
     ]
    },
    {
     "name": "stderr",
     "output_type": "stream",
     "text": [
      "\n"
     ]
    },
    {
     "name": "stdout",
     "output_type": "stream",
     "text": [
      "Get data for :  UDR\n"
     ]
    },
    {
     "name": "stderr",
     "output_type": "stream",
     "text": [
      "[*********************100%%**********************]  1 of 1 completed\n"
     ]
    },
    {
     "name": "stdout",
     "output_type": "stream",
     "text": [
      "Get data for :  UHS\n"
     ]
    },
    {
     "name": "stderr",
     "output_type": "stream",
     "text": [
      "[*********************100%%**********************]  1 of 1 completed\n"
     ]
    },
    {
     "name": "stdout",
     "output_type": "stream",
     "text": [
      "Get data for :  ULTA\n"
     ]
    },
    {
     "name": "stderr",
     "output_type": "stream",
     "text": [
      "[*********************100%%**********************]  1 of 1 completed\n"
     ]
    },
    {
     "name": "stdout",
     "output_type": "stream",
     "text": [
      "Get data for :  UNH\n"
     ]
    },
    {
     "name": "stderr",
     "output_type": "stream",
     "text": [
      "[*********************100%%**********************]  1 of 1 completed\n"
     ]
    },
    {
     "name": "stdout",
     "output_type": "stream",
     "text": [
      "Get data for :  UNP\n"
     ]
    },
    {
     "name": "stderr",
     "output_type": "stream",
     "text": [
      "[*********************100%%**********************]  1 of 1 completed\n"
     ]
    },
    {
     "name": "stdout",
     "output_type": "stream",
     "text": [
      "Get data for :  UPS\n"
     ]
    },
    {
     "name": "stderr",
     "output_type": "stream",
     "text": [
      "[*********************100%%**********************]  1 of 1 completed\n",
      "[*********************100%%**********************]  1 of 1 completed"
     ]
    },
    {
     "name": "stdout",
     "output_type": "stream",
     "text": [
      "Get data for :  URI\n"
     ]
    },
    {
     "name": "stderr",
     "output_type": "stream",
     "text": [
      "\n"
     ]
    },
    {
     "name": "stdout",
     "output_type": "stream",
     "text": [
      "Get data for :  USB\n"
     ]
    },
    {
     "name": "stderr",
     "output_type": "stream",
     "text": [
      "[*********************100%%**********************]  1 of 1 completed\n"
     ]
    },
    {
     "name": "stdout",
     "output_type": "stream",
     "text": [
      "Get data for :  V\n"
     ]
    },
    {
     "name": "stderr",
     "output_type": "stream",
     "text": [
      "[*********************100%%**********************]  1 of 1 completed\n",
      "[*********************100%%**********************]  1 of 1 completed"
     ]
    },
    {
     "name": "stdout",
     "output_type": "stream",
     "text": [
      "Get data for :  VICI\n"
     ]
    },
    {
     "name": "stderr",
     "output_type": "stream",
     "text": [
      "\n"
     ]
    },
    {
     "name": "stdout",
     "output_type": "stream",
     "text": [
      "Get data for :  VLO\n"
     ]
    },
    {
     "name": "stderr",
     "output_type": "stream",
     "text": [
      "[*********************100%%**********************]  1 of 1 completed\n"
     ]
    },
    {
     "name": "stdout",
     "output_type": "stream",
     "text": [
      "Get data for :  VLTO\n"
     ]
    },
    {
     "name": "stderr",
     "output_type": "stream",
     "text": [
      "[*********************100%%**********************]  1 of 1 completed\n",
      "\n",
      "1 Failed download:\n",
      "['VLTO']: Exception(\"%ticker%: Data doesn't exist for startDate = 1629432000, endDate = 1631246400\")\n"
     ]
    },
    {
     "name": "stdout",
     "output_type": "stream",
     "text": [
      "Get data for :  VMC\n"
     ]
    },
    {
     "name": "stderr",
     "output_type": "stream",
     "text": [
      "[*********************100%%**********************]  1 of 1 completed\n",
      "[*********************100%%**********************]  1 of 1 completed"
     ]
    },
    {
     "name": "stdout",
     "output_type": "stream",
     "text": [
      "Get data for :  VRSK\n"
     ]
    },
    {
     "name": "stderr",
     "output_type": "stream",
     "text": [
      "\n",
      "[*********************100%%**********************]  1 of 1 completed"
     ]
    },
    {
     "name": "stdout",
     "output_type": "stream",
     "text": [
      "Get data for :  VRSN\n"
     ]
    },
    {
     "name": "stderr",
     "output_type": "stream",
     "text": [
      "\n",
      "[*********************100%%**********************]  1 of 1 completed"
     ]
    },
    {
     "name": "stdout",
     "output_type": "stream",
     "text": [
      "Get data for :  VRTX\n"
     ]
    },
    {
     "name": "stderr",
     "output_type": "stream",
     "text": [
      "\n",
      "[*********************100%%**********************]  1 of 1 completed"
     ]
    },
    {
     "name": "stdout",
     "output_type": "stream",
     "text": [
      "Get data for :  VTR\n"
     ]
    },
    {
     "name": "stderr",
     "output_type": "stream",
     "text": [
      "\n"
     ]
    },
    {
     "name": "stdout",
     "output_type": "stream",
     "text": [
      "Get data for :  VTRS\n"
     ]
    },
    {
     "name": "stderr",
     "output_type": "stream",
     "text": [
      "[*********************100%%**********************]  1 of 1 completed\n"
     ]
    },
    {
     "name": "stdout",
     "output_type": "stream",
     "text": [
      "Get data for :  VZ\n"
     ]
    },
    {
     "name": "stderr",
     "output_type": "stream",
     "text": [
      "[*********************100%%**********************]  1 of 1 completed\n"
     ]
    },
    {
     "name": "stdout",
     "output_type": "stream",
     "text": [
      "Get data for :  WAB\n"
     ]
    },
    {
     "name": "stderr",
     "output_type": "stream",
     "text": [
      "[*********************100%%**********************]  1 of 1 completed\n"
     ]
    },
    {
     "name": "stdout",
     "output_type": "stream",
     "text": [
      "Get data for :  WAT\n"
     ]
    },
    {
     "name": "stderr",
     "output_type": "stream",
     "text": [
      "[*********************100%%**********************]  1 of 1 completed\n"
     ]
    },
    {
     "name": "stdout",
     "output_type": "stream",
     "text": [
      "Get data for :  WBA\n"
     ]
    },
    {
     "name": "stderr",
     "output_type": "stream",
     "text": [
      "[*********************100%%**********************]  1 of 1 completed\n",
      "[*********************100%%**********************]  1 of 1 completed"
     ]
    },
    {
     "name": "stdout",
     "output_type": "stream",
     "text": [
      "Get data for :  WBD\n"
     ]
    },
    {
     "name": "stderr",
     "output_type": "stream",
     "text": [
      "\n"
     ]
    },
    {
     "name": "stdout",
     "output_type": "stream",
     "text": [
      "Get data for :  WDC\n"
     ]
    },
    {
     "name": "stderr",
     "output_type": "stream",
     "text": [
      "[*********************100%%**********************]  1 of 1 completed\n"
     ]
    },
    {
     "name": "stdout",
     "output_type": "stream",
     "text": [
      "Get data for :  WEC\n"
     ]
    },
    {
     "name": "stderr",
     "output_type": "stream",
     "text": [
      "[*********************100%%**********************]  1 of 1 completed\n"
     ]
    },
    {
     "name": "stdout",
     "output_type": "stream",
     "text": [
      "Get data for :  WELL\n"
     ]
    },
    {
     "name": "stderr",
     "output_type": "stream",
     "text": [
      "[*********************100%%**********************]  1 of 1 completed\n"
     ]
    },
    {
     "name": "stdout",
     "output_type": "stream",
     "text": [
      "Get data for :  WFC\n"
     ]
    },
    {
     "name": "stderr",
     "output_type": "stream",
     "text": [
      "[*********************100%%**********************]  1 of 1 completed\n"
     ]
    },
    {
     "name": "stdout",
     "output_type": "stream",
     "text": [
      "Get data for :  WM\n"
     ]
    },
    {
     "name": "stderr",
     "output_type": "stream",
     "text": [
      "[*********************100%%**********************]  1 of 1 completed\n",
      "[*********************100%%**********************]  1 of 1 completed"
     ]
    },
    {
     "name": "stdout",
     "output_type": "stream",
     "text": [
      "Get data for :  WMB\n"
     ]
    },
    {
     "name": "stderr",
     "output_type": "stream",
     "text": [
      "\n"
     ]
    },
    {
     "name": "stdout",
     "output_type": "stream",
     "text": [
      "Get data for :  WMT\n"
     ]
    },
    {
     "name": "stderr",
     "output_type": "stream",
     "text": [
      "[*********************100%%**********************]  1 of 1 completed\n"
     ]
    },
    {
     "name": "stdout",
     "output_type": "stream",
     "text": [
      "Get data for :  WRB\n"
     ]
    },
    {
     "name": "stderr",
     "output_type": "stream",
     "text": [
      "[*********************100%%**********************]  1 of 1 completed\n"
     ]
    },
    {
     "name": "stdout",
     "output_type": "stream",
     "text": [
      "Get data for :  WRK\n"
     ]
    },
    {
     "name": "stderr",
     "output_type": "stream",
     "text": [
      "[*********************100%%**********************]  1 of 1 completed\n"
     ]
    },
    {
     "name": "stdout",
     "output_type": "stream",
     "text": [
      "Get data for :  WST\n"
     ]
    },
    {
     "name": "stderr",
     "output_type": "stream",
     "text": [
      "[*********************100%%**********************]  1 of 1 completed\n"
     ]
    },
    {
     "name": "stdout",
     "output_type": "stream",
     "text": [
      "Get data for :  WTW\n"
     ]
    },
    {
     "name": "stderr",
     "output_type": "stream",
     "text": [
      "[*********************100%%**********************]  1 of 1 completed\n"
     ]
    },
    {
     "name": "stdout",
     "output_type": "stream",
     "text": [
      "Get data for :  WY\n"
     ]
    },
    {
     "name": "stderr",
     "output_type": "stream",
     "text": [
      "[*********************100%%**********************]  1 of 1 completed\n"
     ]
    },
    {
     "name": "stdout",
     "output_type": "stream",
     "text": [
      "Get data for :  WYNN\n"
     ]
    },
    {
     "name": "stderr",
     "output_type": "stream",
     "text": [
      "[*********************100%%**********************]  1 of 1 completed\n"
     ]
    },
    {
     "name": "stdout",
     "output_type": "stream",
     "text": [
      "Get data for :  XEL\n"
     ]
    },
    {
     "name": "stderr",
     "output_type": "stream",
     "text": [
      "[*********************100%%**********************]  1 of 1 completed\n"
     ]
    },
    {
     "name": "stdout",
     "output_type": "stream",
     "text": [
      "Get data for :  XOM\n"
     ]
    },
    {
     "name": "stderr",
     "output_type": "stream",
     "text": [
      "[*********************100%%**********************]  1 of 1 completed\n"
     ]
    },
    {
     "name": "stdout",
     "output_type": "stream",
     "text": [
      "Get data for :  XYL\n"
     ]
    },
    {
     "name": "stderr",
     "output_type": "stream",
     "text": [
      "[*********************100%%**********************]  1 of 1 completed\n"
     ]
    },
    {
     "name": "stdout",
     "output_type": "stream",
     "text": [
      "Get data for :  YUM\n"
     ]
    },
    {
     "name": "stderr",
     "output_type": "stream",
     "text": [
      "[*********************100%%**********************]  1 of 1 completed\n"
     ]
    },
    {
     "name": "stdout",
     "output_type": "stream",
     "text": [
      "Get data for :  ZBH\n"
     ]
    },
    {
     "name": "stderr",
     "output_type": "stream",
     "text": [
      "[*********************100%%**********************]  1 of 1 completed\n",
      "[*********************100%%**********************]  1 of 1 completed"
     ]
    },
    {
     "name": "stdout",
     "output_type": "stream",
     "text": [
      "Get data for :  ZBRA\n"
     ]
    },
    {
     "name": "stderr",
     "output_type": "stream",
     "text": [
      "\n"
     ]
    },
    {
     "name": "stdout",
     "output_type": "stream",
     "text": [
      "Get data for :  ZTS\n"
     ]
    },
    {
     "name": "stderr",
     "output_type": "stream",
     "text": [
      "[*********************100%%**********************]  1 of 1 completed\n"
     ]
    },
    {
     "name": "stdout",
     "output_type": "stream",
     "text": [
      "Finished\n"
     ]
    }
   ],
   "source": [
    "for x in range(0, 500):\n",
    "    save_to_csv_from_yahoo(tickers[x], 2021, 8, 20, 2021, 9, 10)\n",
    "print(\"Finished\")"
   ]
  },
  {
   "cell_type": "code",
   "execution_count": 8,
   "id": "a3721f32-b147-47fe-92b6-a1dcde5b641c",
   "metadata": {
    "scrolled": true
   },
   "outputs": [
    {
     "data": {
      "text/plain": [
       "0"
      ]
     },
     "execution_count": 8,
     "metadata": {},
     "output_type": "execute_result"
    }
   ],
   "source": [
    "len(stocks_not_downloaded)"
   ]
  },
  {
   "cell_type": "code",
   "execution_count": 9,
   "id": "1ceb9075-1981-4ef9-8e9f-82f7ed5dc3aa",
   "metadata": {},
   "outputs": [
    {
     "data": {
      "text/plain": [
       "[]"
      ]
     },
     "execution_count": 9,
     "metadata": {},
     "output_type": "execute_result"
    }
   ],
   "source": [
    "stocks_not_downloaded"
   ]
  },
  {
   "cell_type": "markdown",
   "id": "3ac40c8d-7d6d-4c2a-9e7f-de2ea44d8105",
   "metadata": {},
   "source": [
    "#### Function that returns a dataframe from a CSV"
   ]
  },
  {
   "cell_type": "code",
   "execution_count": 10,
   "id": "802194da-6465-44db-acee-9885e19c84f1",
   "metadata": {},
   "outputs": [],
   "source": [
    "def get_df_from_csv(folder, ticker):\n",
    "    try:\n",
    "        df = pd.read_csv(folder + ticker + '.csv', index_col='Date', parse_dates=True)\n",
    "    except FileNotFoundError:\n",
    "        pass\n",
    "        print('File Does not Exist')\n",
    "    else:\n",
    "        return df"
   ]
  },
  {
   "cell_type": "markdown",
   "id": "fc4ff4a5-a757-4524-8be7-0dc85ea298ab",
   "metadata": {},
   "source": [
    "#### Merge New Data"
   ]
  },
  {
   "cell_type": "code",
   "execution_count": 11,
   "id": "f232dd00-592f-4f85-ab3d-4b64feb39169",
   "metadata": {},
   "outputs": [],
   "source": [
    "def update_stock_data(ticker):\n",
    "    up_folder = \"/home/johnadi/Desktop/projects/projects-from-yt-channel-derek-banas/python-for-finance/Updated Stocks/\"\n",
    "    stock_folder = PATH\n",
    "\n",
    "    update_df = get_df_from_csv(up_folder, ticker)\n",
    "    orig_df = get_df_from_csv(stock_folder, ticker)\n",
    "    orig_df = orig_df.drop('daily_return', axis=1)\n",
    "    join_df = pd.concat([orig_df, update_df])\n",
    "    return join_df"
   ]
  },
  {
   "cell_type": "markdown",
   "id": "57a63ed4-ed13-4263-bf04-beedf5c84e55",
   "metadata": {},
   "source": [
    "#### Save DataFrame to CSV"
   ]
  },
  {
   "cell_type": "code",
   "execution_count": 12,
   "id": "ba05e03f-cf15-490a-b676-354fa0dc3a53",
   "metadata": {},
   "outputs": [],
   "source": [
    "def save_dataframe_to_csv(df, folder, ticker):\n",
    "    df.to_csv(folder + ticker + '.csv')"
   ]
  },
  {
   "cell_type": "markdown",
   "id": "999d52f8-bf5b-44e9-ab62-90913c3cb269",
   "metadata": {},
   "source": [
    "#### Update files with New Data"
   ]
  },
  {
   "cell_type": "code",
   "execution_count": 13,
   "id": "fe8427ef-40b4-4c5f-9ee4-53449f61bad2",
   "metadata": {},
   "outputs": [],
   "source": [
    "def update_stocks(stock_folder):\n",
    "    for x in tickers:\n",
    "        try:\n",
    "            print(\"Working on :\", x)\n",
    "            new_df = update_stock_data(x)\n",
    "            save_dataframe_to_csv(new_df, stock_folder, x)\n",
    "        except Exception as ex:\n",
    "            print(ex)"
   ]
  },
  {
   "cell_type": "code",
   "execution_count": 14,
   "id": "0999614a-efcf-4a75-922b-1dc1b6e05aa5",
   "metadata": {
    "scrolled": true
   },
   "outputs": [
    {
     "name": "stdout",
     "output_type": "stream",
     "text": [
      "Working on : A\n",
      "Working on : AAL\n",
      "Working on : AAPL\n",
      "Working on : ABBV\n",
      "Working on : ABT\n",
      "Working on : ACGL\n",
      "Working on : ACN\n",
      "Working on : ADBE\n",
      "Working on : ADI\n",
      "Working on : ADM\n",
      "Working on : ADP\n",
      "Working on : ADSK\n",
      "Working on : AEE\n",
      "Working on : AEP\n",
      "Working on : AES\n",
      "Working on : AFL\n",
      "Working on : AIG\n",
      "Working on : AIZ\n",
      "Working on : AJG\n",
      "Working on : AKAM\n",
      "Working on : ALB\n",
      "Working on : ALGN\n",
      "Working on : ALL\n",
      "Working on : ALLE\n",
      "Working on : AMAT\n",
      "Working on : AMCR\n",
      "Working on : AMD\n",
      "Working on : AME\n",
      "Working on : AMGN\n",
      "Working on : AMP\n",
      "Working on : AMT\n",
      "Working on : AMZN\n",
      "Working on : ANET\n",
      "Working on : ANSS\n",
      "Working on : AON\n",
      "Working on : AOS\n",
      "Working on : APA\n",
      "Working on : APD\n",
      "Working on : APH\n",
      "Working on : APTV\n",
      "Working on : ARE\n",
      "Working on : ATO\n",
      "Working on : AVB\n",
      "Working on : AVGO\n",
      "Working on : AVY\n",
      "Working on : AWK\n",
      "Working on : AXON\n",
      "Working on : AXP\n",
      "Working on : AZO\n",
      "Working on : BA\n",
      "Working on : BAC\n",
      "Working on : BALL\n",
      "Working on : BAX\n",
      "Working on : BBWI\n",
      "Working on : BBY\n",
      "Working on : BDX\n",
      "Working on : BEN\n",
      "Working on : BF-B\n",
      "Working on : BG\n",
      "Working on : BIIB\n",
      "Working on : BIO\n",
      "Working on : BK\n",
      "Working on : BKNG\n",
      "Working on : BKR\n",
      "Working on : BLDR\n",
      "Working on : BLK\n",
      "Working on : BMY\n",
      "Working on : BR\n",
      "Working on : BRK-B\n",
      "Working on : BRO\n",
      "Working on : BSX\n",
      "Working on : BWA\n",
      "Working on : BX\n",
      "Working on : BXP\n",
      "Working on : C\n",
      "Working on : CAG\n",
      "Working on : CAH\n",
      "Working on : CAT\n",
      "Working on : CB\n",
      "Working on : CBOE\n",
      "Working on : CBRE\n",
      "Working on : CCI\n",
      "Working on : CCL\n",
      "Working on : CDNS\n",
      "Working on : CDW\n",
      "Working on : CE\n",
      "Working on : CEG\n",
      "Working on : CF\n",
      "Working on : CFG\n",
      "Working on : CHD\n",
      "Working on : CHRW\n",
      "Working on : CHTR\n",
      "Working on : CI\n",
      "Working on : CINF\n",
      "Working on : CL\n",
      "Working on : CLX\n",
      "Working on : CMA\n",
      "Working on : CMCSA\n",
      "Working on : CME\n",
      "Working on : CMG\n",
      "Working on : CMI\n",
      "Working on : CMS\n",
      "Working on : CNC\n",
      "Working on : CNP\n",
      "Working on : COF\n",
      "Working on : COO\n",
      "Working on : COP\n",
      "Working on : COR\n",
      "Working on : COST\n",
      "Working on : CPAY\n",
      "Working on : CPB\n",
      "Working on : CPRT\n",
      "Working on : CPT\n",
      "Working on : CRL\n",
      "Working on : CRM\n",
      "Working on : CSCO\n",
      "Working on : CSGP\n",
      "Working on : CSX\n",
      "Working on : CTAS\n",
      "Working on : CTLT\n",
      "Working on : CTRA\n",
      "Working on : CTSH\n",
      "Working on : CTVA\n",
      "Working on : CVS\n",
      "Working on : CVX\n",
      "Working on : CZR\n",
      "Working on : D\n",
      "Working on : DAL\n",
      "Working on : DAY\n",
      "Working on : DD\n",
      "Working on : DE\n",
      "Working on : DECK\n",
      "Working on : DFS\n",
      "Working on : DG\n",
      "Working on : DGX\n",
      "Working on : DHI\n",
      "Working on : DHR\n",
      "Working on : DIS\n",
      "Working on : DLR\n",
      "Working on : DLTR\n",
      "Working on : DOC\n",
      "Working on : DOV\n",
      "Working on : DOW\n",
      "Working on : DPZ\n",
      "Working on : DRI\n",
      "Working on : DTE\n",
      "Working on : DUK\n",
      "Working on : DVA\n",
      "Working on : DVN\n",
      "Working on : DXCM\n",
      "Working on : EA\n",
      "Working on : EBAY\n",
      "Working on : ECL\n",
      "Working on : ED\n",
      "Working on : EFX\n",
      "Working on : EG\n",
      "Working on : EIX\n",
      "Working on : EL\n",
      "Working on : ELV\n",
      "Working on : EMN\n",
      "Working on : EMR\n",
      "Working on : ENPH\n",
      "Working on : EOG\n",
      "Working on : EPAM\n",
      "Working on : EQIX\n",
      "Working on : EQR\n",
      "Working on : EQT\n",
      "Working on : ES\n",
      "Working on : ESS\n",
      "Working on : ETN\n",
      "Working on : ETR\n",
      "Working on : ETSY\n",
      "Working on : EVRG\n",
      "Working on : EW\n",
      "Working on : EXC\n",
      "Working on : EXPD\n",
      "Working on : EXPE\n",
      "Working on : EXR\n",
      "Working on : F\n",
      "Working on : FANG\n",
      "Working on : FAST\n",
      "Working on : FCX\n",
      "Working on : FDS\n",
      "Working on : FDX\n",
      "Working on : FE\n",
      "Working on : FFIV\n",
      "Working on : FI\n",
      "Working on : FICO\n",
      "Working on : FIS\n",
      "Working on : FITB\n",
      "Working on : FMC\n",
      "Working on : FOX\n",
      "Working on : FOXA\n",
      "Working on : FRT\n",
      "Working on : FSLR\n",
      "Working on : FTNT\n",
      "Working on : FTV\n",
      "Working on : GD\n",
      "Working on : GE\n",
      "Working on : GEHC\n",
      "Working on : GEN\n",
      "Working on : GEV\n",
      "Working on : GILD\n",
      "Working on : GIS\n",
      "Working on : GL\n",
      "Working on : GLW\n",
      "Working on : GM\n",
      "Working on : GNRC\n",
      "Working on : GOOG\n",
      "Working on : GOOGL\n",
      "Working on : GPC\n",
      "Working on : GPN\n",
      "Working on : GRMN\n",
      "Working on : GS\n",
      "Working on : GWW\n",
      "Working on : HAL\n",
      "Working on : HAS\n",
      "Working on : HBAN\n",
      "Working on : HCA\n",
      "Working on : HD\n",
      "Working on : HES\n",
      "Working on : HIG\n",
      "Working on : HII\n",
      "Working on : HLT\n",
      "Working on : HOLX\n",
      "Working on : HON\n",
      "Working on : HPE\n",
      "Working on : HPQ\n",
      "Working on : HRL\n",
      "Working on : HSIC\n",
      "Working on : HST\n",
      "Working on : HSY\n",
      "Working on : HUBB\n",
      "Working on : HUM\n",
      "Working on : HWM\n",
      "Working on : IBM\n",
      "Working on : ICE\n",
      "Working on : IDXX\n",
      "Working on : IEX\n",
      "Working on : IFF\n",
      "Working on : ILMN\n",
      "Working on : INCY\n",
      "Working on : INTC\n",
      "Working on : INTU\n",
      "Working on : INVH\n",
      "Working on : IP\n",
      "Working on : IPG\n",
      "Working on : IQV\n",
      "Working on : IR\n",
      "Working on : IRM\n",
      "Working on : ISRG\n",
      "Working on : IT\n",
      "Working on : ITW\n",
      "Working on : IVZ\n",
      "Working on : J\n",
      "Working on : JBHT\n",
      "Working on : JBL\n",
      "Working on : JCI\n",
      "Working on : JKHY\n",
      "Working on : JNJ\n",
      "Working on : JNPR\n",
      "Working on : JPM\n",
      "Working on : K\n",
      "Working on : KDP\n",
      "Working on : KEY\n",
      "Working on : KEYS\n",
      "Working on : KHC\n",
      "Working on : KIM\n",
      "Working on : KLAC\n",
      "Working on : KMB\n",
      "Working on : KMI\n",
      "Working on : KMX\n",
      "Working on : KO\n",
      "Working on : KR\n",
      "Working on : KVUE\n",
      "Working on : L\n",
      "Working on : LDOS\n",
      "Working on : LEN\n",
      "Working on : LH\n",
      "Working on : LHX\n",
      "Working on : LIN\n",
      "Working on : LKQ\n",
      "Working on : LLY\n",
      "Working on : LMT\n",
      "Working on : LNT\n",
      "Working on : LOW\n",
      "Working on : LRCX\n",
      "Working on : LULU\n",
      "Working on : LUV\n",
      "Working on : LVS\n",
      "Working on : LW\n",
      "Working on : LYB\n",
      "Working on : LYV\n",
      "Working on : MA\n",
      "Working on : MAA\n",
      "Working on : MAR\n",
      "Working on : MAS\n",
      "Working on : MCD\n",
      "Working on : MCHP\n",
      "Working on : MCK\n",
      "Working on : MCO\n",
      "Working on : MDLZ\n",
      "Working on : MDT\n",
      "Working on : MET\n",
      "Working on : META\n",
      "Working on : MGM\n",
      "Working on : MHK\n",
      "Working on : MKC\n",
      "Working on : MKTX\n",
      "Working on : MLM\n",
      "Working on : MMC\n",
      "Working on : MMM\n",
      "Working on : MNST\n",
      "Working on : MO\n",
      "Working on : MOH\n",
      "Working on : MOS\n",
      "Working on : MPC\n",
      "Working on : MPWR\n",
      "Working on : MRK\n",
      "Working on : MRNA\n",
      "Working on : MRO\n",
      "Working on : MS\n",
      "Working on : MSCI\n",
      "Working on : MSFT\n",
      "Working on : MSI\n",
      "Working on : MTB\n",
      "Working on : MTCH\n",
      "Working on : MTD\n",
      "Working on : MU\n",
      "Working on : NCLH\n",
      "Working on : NDAQ\n",
      "Working on : NDSN\n",
      "Working on : NEE\n",
      "Working on : NEM\n",
      "Working on : NFLX\n",
      "Working on : NI\n",
      "Working on : NKE\n",
      "Working on : NOC\n",
      "Working on : NOW\n",
      "Working on : NRG\n",
      "Working on : NSC\n",
      "Working on : NTAP\n",
      "Working on : NTRS\n",
      "Working on : NUE\n",
      "Working on : NVDA\n",
      "Working on : NVR\n",
      "Working on : NWS\n",
      "Working on : NWSA\n",
      "Working on : NXPI\n",
      "Working on : O\n",
      "Working on : ODFL\n",
      "Working on : OKE\n",
      "Working on : OMC\n",
      "Working on : ON\n",
      "Working on : ORCL\n",
      "Working on : ORLY\n",
      "Working on : OXY\n",
      "Working on : PANW\n",
      "Working on : PARA\n",
      "Working on : PAYC\n",
      "Working on : PAYX\n",
      "Working on : PCAR\n",
      "Working on : PCG\n",
      "Working on : PEG\n",
      "Working on : PEP\n",
      "Working on : PFE\n",
      "Working on : PFG\n",
      "Working on : PG\n",
      "Working on : PGR\n",
      "Working on : PH\n",
      "Working on : PHM\n",
      "Working on : PKG\n",
      "Working on : PLD\n",
      "Working on : PM\n",
      "Working on : PNC\n",
      "Working on : PNR\n",
      "Working on : PNW\n",
      "Working on : PODD\n",
      "Working on : POOL\n",
      "Working on : PPG\n",
      "Working on : PPL\n",
      "Working on : PRU\n",
      "Working on : PSA\n",
      "Working on : PSX\n",
      "Working on : PTC\n",
      "Working on : PWR\n",
      "Working on : PXD\n",
      "Working on : PYPL\n",
      "Working on : QCOM\n",
      "Working on : QRVO\n",
      "Working on : RCL\n",
      "Working on : REG\n",
      "Working on : REGN\n",
      "Working on : RF\n",
      "Working on : RHI\n",
      "Working on : RJF\n",
      "Working on : RL\n",
      "Working on : RMD\n",
      "Working on : ROK\n",
      "Working on : ROL\n",
      "Working on : ROP\n",
      "Working on : ROST\n",
      "Working on : RSG\n",
      "Working on : RTX\n",
      "Working on : RVTY\n",
      "Working on : SBAC\n",
      "Working on : SBUX\n",
      "Working on : SCHW\n",
      "Working on : SHW\n",
      "Working on : SJM\n",
      "Working on : SLB\n",
      "Working on : SMCI\n",
      "Working on : SNA\n",
      "Working on : SNPS\n",
      "Working on : SO\n",
      "Working on : SOLV\n",
      "Working on : SPG\n",
      "Working on : SPGI\n",
      "Working on : SRE\n",
      "Working on : STE\n",
      "Working on : STLD\n",
      "Working on : STT\n",
      "Working on : STX\n",
      "Working on : STZ\n",
      "Working on : SWK\n",
      "Working on : SWKS\n",
      "Working on : SYF\n",
      "Working on : SYK\n",
      "Working on : SYY\n",
      "Working on : T\n",
      "Working on : TAP\n",
      "Working on : TDG\n",
      "Working on : TDY\n",
      "Working on : TECH\n",
      "Working on : TEL\n",
      "Working on : TER\n",
      "Working on : TFC\n",
      "Working on : TFX\n",
      "Working on : TGT\n",
      "Working on : TJX\n",
      "Working on : TMO\n",
      "Working on : TMUS\n",
      "Working on : TPR\n",
      "Working on : TRGP\n",
      "Working on : TRMB\n",
      "Working on : TROW\n",
      "Working on : TRV\n",
      "Working on : TSCO\n",
      "Working on : TSLA\n",
      "Working on : TSN\n",
      "Working on : TT\n",
      "Working on : TTWO\n",
      "Working on : TXN\n",
      "Working on : TXT\n",
      "Working on : TYL\n",
      "Working on : UAL\n",
      "Working on : UBER\n",
      "Working on : UDR\n",
      "Working on : UHS\n",
      "Working on : ULTA\n",
      "Working on : UNH\n",
      "Working on : UNP\n",
      "Working on : UPS\n",
      "Working on : URI\n",
      "Working on : USB\n",
      "Working on : V\n",
      "Working on : VICI\n",
      "Working on : VLO\n",
      "Working on : VLTO\n",
      "Working on : VMC\n",
      "Working on : VRSK\n",
      "Working on : VRSN\n",
      "Working on : VRTX\n",
      "Working on : VTR\n",
      "Working on : VTRS\n",
      "Working on : VZ\n",
      "Working on : WAB\n",
      "Working on : WAT\n",
      "Working on : WBA\n",
      "Working on : WBD\n",
      "Working on : WDC\n",
      "Working on : WEC\n",
      "Working on : WELL\n",
      "Working on : WFC\n",
      "Working on : WM\n",
      "Working on : WMB\n",
      "Working on : WMT\n",
      "Working on : WRB\n",
      "Working on : WRK\n",
      "Working on : WST\n",
      "Working on : WTW\n",
      "Working on : WY\n",
      "Working on : WYNN\n",
      "Working on : XEL\n",
      "Working on : XOM\n",
      "Working on : XYL\n",
      "Working on : YUM\n",
      "Working on : ZBH\n",
      "Working on : ZBRA\n",
      "Working on : ZTS\n"
     ]
    }
   ],
   "source": [
    "update_stocks(PATH)"
   ]
  },
  {
   "cell_type": "markdown",
   "id": "578572a8-e60f-4928-90a4-94a565d2422a",
   "metadata": {},
   "source": [
    "#### Add Daily Return to DataFrame"
   ]
  },
  {
   "cell_type": "code",
   "execution_count": 15,
   "id": "800f0b8b-d1ae-4518-8006-1d80dca87e90",
   "metadata": {},
   "outputs": [],
   "source": [
    "# We calculate the percentage rate of return for each day to compare investments.\n",
    "# Simple Rate of Return: (End Price - Beginning Price) / Beginning Price OR (EP/BP) - 1\n",
    "\n",
    "# Shift provides the value from the previous day\n",
    "# NaN is displayed because there was no previous day price for the 1st calculation\n",
    "def add_daily_return_to_df(df, ticker):\n",
    "    df['daily_return'] = (df['Adj Close'] / df['Adj Close'].shift(1)) - 1\n",
    "    # Save data to csv file\n",
    "    df.to_csv(PATH + ticker + '.csv')\n",
    "    return df"
   ]
  },
  {
   "cell_type": "markdown",
   "id": "04f33a68-9b87-47cf-9495-650c324e4be2",
   "metadata": {},
   "source": [
    "#### Update Daily Returns"
   ]
  },
  {
   "cell_type": "code",
   "execution_count": 16,
   "id": "a6233087-74d6-4656-b11f-92e25fc4dd5a",
   "metadata": {
    "scrolled": true
   },
   "outputs": [
    {
     "name": "stdout",
     "output_type": "stream",
     "text": [
      "Working on:  A\n",
      "Working on:  AAL\n",
      "Working on:  AAPL\n",
      "Working on:  ABBV\n",
      "Working on:  ABT\n",
      "Working on:  ACGL\n",
      "Working on:  ACN\n",
      "Working on:  ADBE\n",
      "Working on:  ADI\n",
      "Working on:  ADM\n",
      "Working on:  ADP\n",
      "Working on:  ADSK\n",
      "Working on:  AEE\n",
      "Working on:  AEP\n",
      "Working on:  AES\n",
      "Working on:  AFL\n",
      "Working on:  AIG\n",
      "Working on:  AIZ\n",
      "Working on:  AJG\n",
      "Working on:  AKAM\n",
      "Working on:  ALB\n",
      "Working on:  ALGN\n",
      "Working on:  ALL\n",
      "Working on:  ALLE\n",
      "Working on:  AMAT\n",
      "Working on:  AMCR\n",
      "Working on:  AMD\n",
      "Working on:  AME\n",
      "Working on:  AMGN\n",
      "Working on:  AMP\n",
      "Working on:  AMT\n",
      "Working on:  AMZN\n",
      "Working on:  ANET\n",
      "Working on:  ANSS\n",
      "Working on:  AON\n",
      "Working on:  AOS\n",
      "Working on:  APA\n",
      "Working on:  APD\n",
      "Working on:  APH\n",
      "Working on:  APTV\n",
      "Working on:  ARE\n",
      "Working on:  ATO\n",
      "Working on:  AVB\n",
      "Working on:  AVGO\n",
      "Working on:  AVY\n",
      "Working on:  AWK\n",
      "Working on:  AXON\n",
      "Working on:  AXP\n",
      "Working on:  AZO\n",
      "Working on:  BA\n",
      "Working on:  BAC\n",
      "Working on:  BALL\n",
      "Working on:  BAX\n",
      "Working on:  BBWI\n",
      "Working on:  BBY\n",
      "Working on:  BDX\n",
      "Working on:  BEN\n",
      "Working on:  BF-B\n",
      "Working on:  BG\n",
      "Working on:  BIIB\n",
      "Working on:  BIO\n",
      "Working on:  BK\n",
      "Working on:  BKNG\n",
      "Working on:  BKR\n",
      "Working on:  BLDR\n",
      "Working on:  BLK\n",
      "Working on:  BMY\n",
      "Working on:  BR\n",
      "Working on:  BRK-B\n",
      "Working on:  BRO\n",
      "Working on:  BSX\n",
      "Working on:  BWA\n",
      "Working on:  BX\n",
      "Working on:  BXP\n",
      "Working on:  C\n",
      "Working on:  CAG\n",
      "Working on:  CAH\n",
      "Working on:  CAT\n",
      "Working on:  CB\n",
      "Working on:  CBOE\n",
      "Working on:  CBRE\n",
      "Working on:  CCI\n",
      "Working on:  CCL\n",
      "Working on:  CDNS\n",
      "Working on:  CDW\n",
      "Working on:  CE\n",
      "Working on:  CEG\n",
      "Working on:  CF\n",
      "Working on:  CFG\n",
      "Working on:  CHD\n",
      "Working on:  CHRW\n",
      "Working on:  CHTR\n",
      "Working on:  CI\n",
      "Working on:  CINF\n",
      "Working on:  CL\n",
      "Working on:  CLX\n",
      "Working on:  CMA\n",
      "Working on:  CMCSA\n",
      "Working on:  CME\n",
      "Working on:  CMG\n",
      "Working on:  CMI\n",
      "Working on:  CMS\n",
      "Working on:  CNC\n",
      "Working on:  CNP\n",
      "Working on:  COF\n",
      "Working on:  COO\n",
      "Working on:  COP\n",
      "Working on:  COR\n",
      "Working on:  COST\n",
      "Working on:  CPAY\n",
      "Working on:  CPB\n",
      "Working on:  CPRT\n",
      "Working on:  CPT\n",
      "Working on:  CRL\n",
      "Working on:  CRM\n",
      "Working on:  CSCO\n",
      "Working on:  CSGP\n",
      "Working on:  CSX\n",
      "Working on:  CTAS\n",
      "Working on:  CTLT\n",
      "Working on:  CTRA\n",
      "Working on:  CTSH\n",
      "Working on:  CTVA\n",
      "Working on:  CVS\n",
      "Working on:  CVX\n",
      "Working on:  CZR\n",
      "Working on:  D\n",
      "Working on:  DAL\n",
      "Working on:  DAY\n",
      "Working on:  DD\n",
      "Working on:  DE\n",
      "Working on:  DECK\n",
      "Working on:  DFS\n",
      "Working on:  DG\n",
      "Working on:  DGX\n",
      "Working on:  DHI\n",
      "Working on:  DHR\n",
      "Working on:  DIS\n",
      "Working on:  DLR\n",
      "Working on:  DLTR\n",
      "Working on:  DOC\n",
      "Working on:  DOV\n",
      "Working on:  DOW\n",
      "Working on:  DPZ\n",
      "Working on:  DRI\n",
      "Working on:  DTE\n",
      "Working on:  DUK\n",
      "Working on:  DVA\n",
      "Working on:  DVN\n",
      "Working on:  DXCM\n",
      "Working on:  EA\n",
      "Working on:  EBAY\n",
      "Working on:  ECL\n",
      "Working on:  ED\n",
      "Working on:  EFX\n",
      "Working on:  EG\n",
      "Working on:  EIX\n",
      "Working on:  EL\n",
      "Working on:  ELV\n",
      "Working on:  EMN\n",
      "Working on:  EMR\n",
      "Working on:  ENPH\n",
      "Working on:  EOG\n",
      "Working on:  EPAM\n",
      "Working on:  EQIX\n",
      "Working on:  EQR\n",
      "Working on:  EQT\n",
      "Working on:  ES\n",
      "Working on:  ESS\n",
      "Working on:  ETN\n",
      "Working on:  ETR\n",
      "Working on:  ETSY\n",
      "Working on:  EVRG\n",
      "Working on:  EW\n",
      "Working on:  EXC\n",
      "Working on:  EXPD\n",
      "Working on:  EXPE\n",
      "Working on:  EXR\n",
      "Working on:  F\n",
      "Working on:  FANG\n",
      "Working on:  FAST\n",
      "Working on:  FCX\n",
      "Working on:  FDS\n",
      "Working on:  FDX\n",
      "Working on:  FE\n",
      "Working on:  FFIV\n",
      "Working on:  FI\n",
      "Working on:  FICO\n",
      "Working on:  FIS\n",
      "Working on:  FITB\n",
      "Working on:  FMC\n",
      "Working on:  FOX\n",
      "Working on:  FOXA\n",
      "Working on:  FRT\n",
      "Working on:  FSLR\n",
      "Working on:  FTNT\n",
      "Working on:  FTV\n",
      "Working on:  GD\n",
      "Working on:  GE\n",
      "Working on:  GEHC\n",
      "Working on:  GEN\n",
      "Working on:  GEV\n",
      "Working on:  GILD\n",
      "Working on:  GIS\n",
      "Working on:  GL\n",
      "Working on:  GLW\n",
      "Working on:  GM\n",
      "Working on:  GNRC\n",
      "Working on:  GOOG\n",
      "Working on:  GOOGL\n",
      "Working on:  GPC\n",
      "Working on:  GPN\n",
      "Working on:  GRMN\n",
      "Working on:  GS\n",
      "Working on:  GWW\n",
      "Working on:  HAL\n",
      "Working on:  HAS\n",
      "Working on:  HBAN\n",
      "Working on:  HCA\n",
      "Working on:  HD\n",
      "Working on:  HES\n",
      "Working on:  HIG\n",
      "Working on:  HII\n",
      "Working on:  HLT\n",
      "Working on:  HOLX\n",
      "Working on:  HON\n",
      "Working on:  HPE\n",
      "Working on:  HPQ\n",
      "Working on:  HRL\n",
      "Working on:  HSIC\n",
      "Working on:  HST\n",
      "Working on:  HSY\n",
      "Working on:  HUBB\n",
      "Working on:  HUM\n",
      "Working on:  HWM\n",
      "Working on:  IBM\n",
      "Working on:  ICE\n",
      "Working on:  IDXX\n",
      "Working on:  IEX\n",
      "Working on:  IFF\n",
      "Working on:  ILMN\n",
      "Working on:  INCY\n",
      "Working on:  INTC\n",
      "Working on:  INTU\n",
      "Working on:  INVH\n",
      "Working on:  IP\n",
      "Working on:  IPG\n",
      "Working on:  IQV\n",
      "Working on:  IR\n",
      "Working on:  IRM\n",
      "Working on:  ISRG\n",
      "Working on:  IT\n",
      "Working on:  ITW\n",
      "Working on:  IVZ\n",
      "Working on:  J\n",
      "Working on:  JBHT\n",
      "Working on:  JBL\n",
      "Working on:  JCI\n",
      "Working on:  JKHY\n",
      "Working on:  JNJ\n",
      "Working on:  JNPR\n",
      "Working on:  JPM\n",
      "Working on:  K\n",
      "Working on:  KDP\n",
      "Working on:  KEY\n",
      "Working on:  KEYS\n",
      "Working on:  KHC\n",
      "Working on:  KIM\n",
      "Working on:  KLAC\n",
      "Working on:  KMB\n",
      "Working on:  KMI\n",
      "Working on:  KMX\n",
      "Working on:  KO\n",
      "Working on:  KR\n",
      "Working on:  KVUE\n",
      "Working on:  L\n",
      "Working on:  LDOS\n",
      "Working on:  LEN\n",
      "Working on:  LH\n",
      "Working on:  LHX\n",
      "Working on:  LIN\n",
      "Working on:  LKQ\n",
      "Working on:  LLY\n",
      "Working on:  LMT\n",
      "Working on:  LNT\n",
      "Working on:  LOW\n",
      "Working on:  LRCX\n",
      "Working on:  LULU\n",
      "Working on:  LUV\n",
      "Working on:  LVS\n",
      "Working on:  LW\n",
      "Working on:  LYB\n",
      "Working on:  LYV\n",
      "Working on:  MA\n",
      "Working on:  MAA\n",
      "Working on:  MAR\n",
      "Working on:  MAS\n",
      "Working on:  MCD\n",
      "Working on:  MCHP\n",
      "Working on:  MCK\n",
      "Working on:  MCO\n",
      "Working on:  MDLZ\n",
      "Working on:  MDT\n",
      "Working on:  MET\n",
      "Working on:  META\n",
      "Working on:  MGM\n",
      "Working on:  MHK\n",
      "Working on:  MKC\n",
      "Working on:  MKTX\n",
      "Working on:  MLM\n",
      "Working on:  MMC\n",
      "Working on:  MMM\n",
      "Working on:  MNST\n",
      "Working on:  MO\n",
      "Working on:  MOH\n",
      "Working on:  MOS\n",
      "Working on:  MPC\n",
      "Working on:  MPWR\n",
      "Working on:  MRK\n",
      "Working on:  MRNA\n",
      "Working on:  MRO\n",
      "Working on:  MS\n",
      "Working on:  MSCI\n",
      "Working on:  MSFT\n",
      "Working on:  MSI\n",
      "Working on:  MTB\n",
      "Working on:  MTCH\n",
      "Working on:  MTD\n",
      "Working on:  MU\n",
      "Working on:  NCLH\n",
      "Working on:  NDAQ\n",
      "Working on:  NDSN\n",
      "Working on:  NEE\n",
      "Working on:  NEM\n",
      "Working on:  NFLX\n",
      "Working on:  NI\n",
      "Working on:  NKE\n",
      "Working on:  NOC\n",
      "Working on:  NOW\n",
      "Working on:  NRG\n",
      "Working on:  NSC\n",
      "Working on:  NTAP\n",
      "Working on:  NTRS\n",
      "Working on:  NUE\n",
      "Working on:  NVDA\n",
      "Working on:  NVR\n",
      "Working on:  NWS\n",
      "Working on:  NWSA\n",
      "Working on:  NXPI\n",
      "Working on:  O\n",
      "Working on:  ODFL\n",
      "Working on:  OKE\n",
      "Working on:  OMC\n",
      "Working on:  ON\n",
      "Working on:  ORCL\n",
      "Working on:  ORLY\n",
      "Working on:  OXY\n",
      "Working on:  PANW\n",
      "Working on:  PARA\n",
      "Working on:  PAYC\n",
      "Working on:  PAYX\n",
      "Working on:  PCAR\n",
      "Working on:  PCG\n",
      "Working on:  PEG\n",
      "Working on:  PEP\n",
      "Working on:  PFE\n",
      "Working on:  PFG\n",
      "Working on:  PG\n",
      "Working on:  PGR\n",
      "Working on:  PH\n",
      "Working on:  PHM\n",
      "Working on:  PKG\n",
      "Working on:  PLD\n",
      "Working on:  PM\n",
      "Working on:  PNC\n",
      "Working on:  PNR\n",
      "Working on:  PNW\n",
      "Working on:  PODD\n",
      "Working on:  POOL\n",
      "Working on:  PPG\n",
      "Working on:  PPL\n",
      "Working on:  PRU\n",
      "Working on:  PSA\n",
      "Working on:  PSX\n",
      "Working on:  PTC\n",
      "Working on:  PWR\n",
      "Working on:  PXD\n",
      "Working on:  PYPL\n",
      "Working on:  QCOM\n",
      "Working on:  QRVO\n",
      "Working on:  RCL\n",
      "Working on:  REG\n",
      "Working on:  REGN\n",
      "Working on:  RF\n",
      "Working on:  RHI\n",
      "Working on:  RJF\n",
      "Working on:  RL\n",
      "Working on:  RMD\n",
      "Working on:  ROK\n",
      "Working on:  ROL\n",
      "Working on:  ROP\n",
      "Working on:  ROST\n",
      "Working on:  RSG\n",
      "Working on:  RTX\n",
      "Working on:  RVTY\n",
      "Working on:  SBAC\n",
      "Working on:  SBUX\n",
      "Working on:  SCHW\n",
      "Working on:  SHW\n",
      "Working on:  SJM\n",
      "Working on:  SLB\n",
      "Working on:  SMCI\n",
      "Working on:  SNA\n",
      "Working on:  SNPS\n",
      "Working on:  SO\n",
      "Working on:  SOLV\n",
      "Working on:  SPG\n",
      "Working on:  SPGI\n",
      "Working on:  SRE\n",
      "Working on:  STE\n",
      "Working on:  STLD\n",
      "Working on:  STT\n",
      "Working on:  STX\n",
      "Working on:  STZ\n",
      "Working on:  SWK\n",
      "Working on:  SWKS\n",
      "Working on:  SYF\n",
      "Working on:  SYK\n",
      "Working on:  SYY\n",
      "Working on:  T\n",
      "Working on:  TAP\n",
      "Working on:  TDG\n",
      "Working on:  TDY\n",
      "Working on:  TECH\n",
      "Working on:  TEL\n",
      "Working on:  TER\n",
      "Working on:  TFC\n",
      "Working on:  TFX\n",
      "Working on:  TGT\n",
      "Working on:  TJX\n",
      "Working on:  TMO\n",
      "Working on:  TMUS\n",
      "Working on:  TPR\n",
      "Working on:  TRGP\n",
      "Working on:  TRMB\n",
      "Working on:  TROW\n",
      "Working on:  TRV\n",
      "Working on:  TSCO\n",
      "Working on:  TSLA\n",
      "Working on:  TSN\n",
      "Working on:  TT\n",
      "Working on:  TTWO\n",
      "Working on:  TXN\n",
      "Working on:  TXT\n",
      "Working on:  TYL\n",
      "Working on:  UAL\n",
      "Working on:  UBER\n",
      "Working on:  UDR\n",
      "Working on:  UHS\n",
      "Working on:  ULTA\n",
      "Working on:  UNH\n",
      "Working on:  UNP\n",
      "Working on:  UPS\n",
      "Working on:  URI\n",
      "Working on:  USB\n",
      "Working on:  V\n",
      "Working on:  VICI\n",
      "Working on:  VLO\n",
      "Working on:  VLTO\n",
      "Working on:  VMC\n",
      "Working on:  VRSK\n",
      "Working on:  VRSN\n",
      "Working on:  VRTX\n",
      "Working on:  VTR\n",
      "Working on:  VTRS\n",
      "Working on:  VZ\n",
      "Working on:  WAB\n",
      "Working on:  WAT\n",
      "Working on:  WBA\n",
      "Working on:  WBD\n",
      "Working on:  WDC\n",
      "Working on:  WEC\n",
      "Working on:  WELL\n",
      "Working on:  WFC\n",
      "Working on:  WM\n",
      "Working on:  WMB\n",
      "Working on:  WMT\n",
      "Working on:  WRB\n",
      "Working on:  WRK\n",
      "Working on:  WST\n",
      "Working on:  WTW\n",
      "Working on:  WY\n",
      "Working on:  WYNN\n",
      "Working on:  XEL\n",
      "Working on:  XOM\n",
      "Working on:  XYL\n",
      "Working on:  YUM\n",
      "Working on:  ZBH\n",
      "Working on:  ZBRA\n",
      "Working on:  ZTS\n"
     ]
    }
   ],
   "source": [
    "for x in tickers:\n",
    "    try:\n",
    "        print(\"Working on: \", x)\n",
    "        new_df = get_df_from_csv(PATH, x)\n",
    "        new_df = add_daily_return_to_df(new_df, x)\n",
    "        save_dataframe_to_csv(new_df, PATH, x)\n",
    "    except Exception as ex:\n",
    "        print(ex)"
   ]
  },
  {
   "cell_type": "markdown",
   "id": "151e7f49-17c1-4ce7-871a-ce6806f46ba4",
   "metadata": {},
   "source": [
    "#### Regression Time Series Example with AutoReg"
   ]
  },
  {
   "cell_type": "code",
   "execution_count": 25,
   "id": "54b70273-9bc3-4972-a1ac-190b1f74c350",
   "metadata": {},
   "outputs": [],
   "source": [
    "def calc_projected_roi(ticker):\n",
    "    a_df = get_df_from_csv(PATH, ticker)\n",
    "\n",
    "    a_df = a_df.asfreq('d') # change frequency to day\n",
    "    a_df.index # check frequency\n",
    "    a_df = a_df.ffill() # fill missing values \n",
    "\n",
    "    # delete daily return column\n",
    "    a_df = a_df.drop(['daily_return'], axis=1)\n",
    "\n",
    "    # Figure out optimum lags which will be 1 or 2 for this dataset\n",
    "    lags = ar_select_order(a_df, maxlag=30)\n",
    "\n",
    "    # Create our model using whole data set\n",
    "    model = AutoReg(a_df['Adj Close'], lags.ar_lags)\n",
    "    model_fit = model.fit()\n",
    "\n",
    "    # Define training and testing area\n",
    "    print(\"Length :\", len(a_df)) # 1711 observations\n",
    "    train_df = a_df.iloc[50: int(len(a_df)*0.8)] # 80% data minus 1st 50 obs\n",
    "    test_df = a_df.iloc[int(len(a_df)*0.8):] # last 20% obs\n",
    "\n",
    "    # Define training model for 500 days (play with number and test) and White's covariance estimator\n",
    "    train_model = AutoReg(a_df['Adj Close'], 500).fit(cov_type=\"HC0\")\n",
    "\n",
    "    # Define start and end for predictions\n",
    "    start = len(train_df)\n",
    "    end = len(train_df) + len(test_df) - 1\n",
    "\n",
    "    prediction = train_model.predict(start=end, end=end, dynamic=True)\n",
    "\n",
    "    # Predict 160 days into the future\n",
    "    forecast = train_model.predict(start=end, end=end+60, dynamic=True)\n",
    "\n",
    "    # Get starting price of prediction\n",
    "    s_price = forecast.head(1).iloc[0]\n",
    "\n",
    "    # Get the last price of prediction\n",
    "    e_price = forecast.iloc[-1]\n",
    "\n",
    "    # Get return over prediction\n",
    "    return (e_price - s_price) / s_price\n",
    "    "
   ]
  },
  {
   "cell_type": "code",
   "execution_count": 26,
   "id": "53680eb4-3bd6-41ae-844e-4eafa3c1abc5",
   "metadata": {},
   "outputs": [],
   "source": [
    "def get_proj_rois():\n",
    "    ticker = []\n",
    "    roi = []\n",
    "\n",
    "    for x in tickers:\n",
    "        print(\"Working on: \", x)\n",
    "        try:\n",
    "            the_roi = calc_projected_roi(x)\n",
    "        except Exception as ex:\n",
    "            print(\"Stock Data Corrupted\")\n",
    "        else:\n",
    "            ticker.append(x)\n",
    "            print(\"ROI: \", the_roi)\n",
    "            roi.append(the_roi)\n",
    "    return pd.DataFrame({\"Ticker\":ticker, \"ROI\": roi})"
   ]
  },
  {
   "cell_type": "code",
   "execution_count": 27,
   "id": "3deee9ed-0a65-4743-910b-3b28968bcc21",
   "metadata": {
    "scrolled": true
   },
   "outputs": [
    {
     "name": "stdout",
     "output_type": "stream",
     "text": [
      "Working on:  A\n",
      "Length : 1711\n",
      "ROI:  0.1726226349653261\n",
      "Working on:  AAL\n",
      "Length : 1711\n",
      "ROI:  -0.1740403104682524\n",
      "Working on:  AAPL\n",
      "Length : 1711\n",
      "ROI:  0.068901510416333\n",
      "Working on:  ABBV\n",
      "Length : 1711\n",
      "ROI:  -0.05160421199192283\n",
      "Working on:  ABT\n",
      "Length : 1711\n",
      "ROI:  0.019102190762627834\n",
      "Working on:  ACGL\n",
      "Length : 1711\n",
      "ROI:  0.004431642944396643\n",
      "Working on:  ACN\n",
      "Length : 1711\n",
      "ROI:  0.08004388427438994\n",
      "Working on:  ADBE\n",
      "Length : 1711\n",
      "ROI:  0.1184443019755303\n",
      "Working on:  ADI\n",
      "Length : 1711\n",
      "ROI:  -0.02256413900441749\n",
      "Working on:  ADM\n",
      "Length : 1711\n",
      "ROI:  -0.008857761205342802\n",
      "Working on:  ADP\n",
      "Length : 1711\n",
      "ROI:  -0.004675378208890061\n",
      "Working on:  ADSK\n",
      "Length : 1711\n",
      "ROI:  -0.0241945214515946\n",
      "Working on:  AEE\n",
      "Length : 1711\n",
      "ROI:  -0.033303987895328416\n",
      "Working on:  AEP\n",
      "Length : 1711\n",
      "ROI:  0.015931194454743607\n",
      "Working on:  AES\n",
      "Length : 1711\n",
      "ROI:  -0.1369061124690604\n",
      "Working on:  AFL\n",
      "Length : 1711\n",
      "ROI:  -0.035727967843350486\n",
      "Working on:  AIG\n",
      "Length : 1711\n",
      "ROI:  -0.021976919200966748\n",
      "Working on:  AIZ\n",
      "Length : 1711\n",
      "ROI:  0.0012601401624092142\n",
      "Working on:  AJG\n",
      "Length : 1711\n",
      "ROI:  0.01410216361580954\n",
      "Working on:  AKAM\n",
      "Length : 1711\n",
      "ROI:  0.051545851512502516\n",
      "Working on:  ALB\n",
      "Length : 1711\n",
      "ROI:  0.17894397377107957\n",
      "Working on:  ALGN\n",
      "Length : 1711\n",
      "ROI:  0.037789867297369856\n",
      "Working on:  ALL\n",
      "Length : 1711\n",
      "ROI:  -0.01612741591352535\n",
      "Working on:  ALLE\n",
      "Length : 1711\n",
      "ROI:  -0.011680299948500476\n",
      "Working on:  AMAT\n",
      "Length : 1711\n",
      "ROI:  0.016709762520870912\n",
      "Working on:  AMCR\n",
      "Length : 1711\n",
      "ROI:  0.007309656650851917\n",
      "Working on:  AMD\n",
      "Length : 1711\n",
      "ROI:  0.1886653507614683\n",
      "Working on:  AME\n",
      "Length : 1711\n",
      "ROI:  -0.060782199933928284\n",
      "Working on:  AMGN\n",
      "Length : 1711\n",
      "ROI:  -0.029171607645176977\n",
      "Working on:  AMP\n",
      "Length : 1711\n",
      "ROI:  0.11230327483500963\n",
      "Working on:  AMT\n",
      "Length : 1711\n",
      "ROI:  0.029128354671482014\n",
      "Working on:  AMZN\n",
      "Length : 1711\n",
      "ROI:  -0.01814735289164953\n",
      "Working on:  ANET\n",
      "Length : 1711\n",
      "ROI:  -0.08022790660185247\n",
      "Working on:  ANSS\n",
      "Length : 1711\n",
      "ROI:  -0.010098234627819587\n",
      "Working on:  AON\n",
      "Length : 1711\n",
      "ROI:  0.18196194775808924\n",
      "Working on:  AOS\n",
      "Length : 1711\n",
      "ROI:  0.02002952784163845\n",
      "Working on:  APA\n",
      "Length : 1711\n",
      "ROI:  -0.04331997008485388\n",
      "Working on:  APD\n",
      "Length : 1711\n",
      "ROI:  -0.040224052157734266\n",
      "Working on:  APH\n",
      "Length : 1711\n",
      "ROI:  0.11189707086119763\n",
      "Working on:  APTV\n",
      "Length : 1711\n",
      "ROI:  -0.038094042231844115\n",
      "Working on:  ARE\n",
      "Length : 1711\n",
      "ROI:  0.0383229609839821\n",
      "Working on:  ATO\n",
      "Length : 1711\n",
      "ROI:  -0.001653290132993894\n",
      "Working on:  AVB\n",
      "Length : 1711\n",
      "ROI:  -0.046530435557704614\n",
      "Working on:  AVGO\n",
      "Length : 1711\n",
      "ROI:  0.018193175855701106\n",
      "Working on:  AVY\n",
      "Length : 1711\n",
      "ROI:  0.1408015367673769\n",
      "Working on:  AWK\n",
      "Length : 1711\n",
      "ROI:  0.08837379124434801\n",
      "Working on:  AXON\n",
      "Length : 1711\n",
      "ROI:  -0.09076519524246345\n",
      "Working on:  AXP\n",
      "Length : 1711\n",
      "ROI:  -0.14845479202240205\n",
      "Working on:  AZO\n",
      "Length : 1711\n",
      "ROI:  -0.029657671262815575\n",
      "Working on:  BA\n",
      "Length : 1711\n",
      "ROI:  0.19938986343574205\n",
      "Working on:  BAC\n",
      "Length : 1711\n",
      "ROI:  -0.050654992812404195\n",
      "Working on:  BALL\n",
      "Length : 1711\n",
      "ROI:  0.12100403713273568\n",
      "Working on:  BAX\n",
      "Length : 1711\n",
      "ROI:  0.004625718195579364\n",
      "Working on:  BBWI\n",
      "Length : 1711\n",
      "ROI:  0.09167798880626819\n",
      "Working on:  BBY\n",
      "Length : 1711\n",
      "ROI:  0.054880695538537735\n",
      "Working on:  BDX\n",
      "Length : 1711\n",
      "ROI:  -0.008486662715619545\n",
      "Working on:  BEN\n",
      "Length : 1711\n",
      "ROI:  -0.1039815776600166\n",
      "Working on:  BF-B\n",
      "Length : 1711\n",
      "ROI:  0.06550184611442696\n",
      "Working on:  BG\n",
      "Length : 1711\n",
      "ROI:  -0.004350957357288392\n",
      "Working on:  BIIB\n",
      "Length : 1711\n",
      "ROI:  0.0030510929419358575\n",
      "Working on:  BIO\n",
      "Length : 1711\n",
      "ROI:  0.13329922488505994\n",
      "Working on:  BK\n",
      "Length : 1711\n",
      "ROI:  0.042960418831365435\n",
      "Working on:  BKNG\n",
      "Length : 1711\n",
      "ROI:  0.033031889312223305\n",
      "Working on:  BKR\n",
      "Length : 1711\n",
      "ROI:  -0.039015705312255275\n",
      "Working on:  BLDR\n",
      "Length : 1711\n",
      "ROI:  0.20573554103612798\n",
      "Working on:  BLK\n",
      "Length : 1711\n",
      "ROI:  0.07187631229197469\n",
      "Working on:  BMY\n",
      "Length : 1711\n",
      "ROI:  -0.059860747357536624\n",
      "Working on:  BR\n",
      "Length : 1711\n",
      "ROI:  0.03283534478429802\n",
      "Working on:  BRK-B\n",
      "Length : 1711\n",
      "ROI:  -0.05930329941767342\n",
      "Working on:  BRO\n",
      "Length : 1711\n",
      "ROI:  0.018717660100441083\n",
      "Working on:  BSX\n",
      "Length : 1711\n",
      "ROI:  -0.10016336063867172\n",
      "Working on:  BWA\n",
      "Length : 1711\n",
      "ROI:  -0.14005412415417542\n",
      "Working on:  BX\n",
      "Length : 1711\n",
      "ROI:  0.22505987690141485\n",
      "Working on:  BXP\n",
      "Length : 1711\n",
      "ROI:  -0.003033557218303555\n",
      "Working on:  C\n",
      "Length : 1711\n",
      "ROI:  -0.008746781080811351\n",
      "Working on:  CAG\n",
      "Length : 1711\n",
      "ROI:  -0.06699383809469371\n",
      "Working on:  CAH\n",
      "Length : 1711\n",
      "ROI:  -0.07218925477819953\n",
      "Working on:  CAT\n",
      "Length : 1711\n",
      "ROI:  -0.09034457280837746\n",
      "Working on:  CB\n",
      "Length : 1711\n",
      "ROI:  -0.08832470224895689\n",
      "Working on:  CBOE\n",
      "Length : 1711\n",
      "ROI:  0.03540352473892866\n",
      "Working on:  CBRE\n",
      "Length : 1711\n",
      "ROI:  0.09072960561765293\n",
      "Working on:  CCI\n",
      "Length : 1711\n",
      "ROI:  -0.034044271347085805\n",
      "Working on:  CCL\n",
      "Length : 1711\n",
      "ROI:  -0.01714905460848749\n",
      "Working on:  CDNS\n",
      "Length : 1711\n",
      "ROI:  0.1819574651525761\n",
      "Working on:  CDW\n",
      "Length : 1711\n",
      "ROI:  0.05745496423564952\n",
      "Working on:  CE\n",
      "Length : 1711\n",
      "ROI:  -0.02003848814937536\n",
      "Working on:  CEG\n",
      "Stock Data Corrupted\n",
      "Working on:  CF\n",
      "Length : 1711\n",
      "ROI:  -0.05652218427288476\n",
      "Working on:  CFG\n",
      "Length : 1711\n",
      "ROI:  -0.06866451866967199\n",
      "Working on:  CHD\n",
      "Length : 1711\n",
      "ROI:  0.043647706616695606\n",
      "Working on:  CHRW\n",
      "Length : 1711\n",
      "ROI:  -0.12031053457537787\n",
      "Working on:  CHTR\n",
      "Length : 1711\n",
      "ROI:  0.025137018273864383\n",
      "Working on:  CI\n",
      "Length : 1711\n",
      "ROI:  -0.09692756270436836\n",
      "Working on:  CINF\n",
      "Length : 1711\n",
      "ROI:  -0.012964361574680595\n",
      "Working on:  CL\n",
      "Length : 1711\n",
      "ROI:  -0.003712861827413875\n",
      "Working on:  CLX\n",
      "Length : 1711\n",
      "ROI:  -0.020511159653970372\n",
      "Working on:  CMA\n",
      "Length : 1711\n",
      "ROI:  0.05440045248191596\n",
      "Working on:  CMCSA\n",
      "Length : 1711\n",
      "ROI:  0.0015246556679785592\n",
      "Working on:  CME\n",
      "Length : 1711\n",
      "ROI:  -0.0783172536274606\n",
      "Working on:  CMG\n",
      "Length : 1711\n",
      "ROI:  0.14782967676593434\n",
      "Working on:  CMI\n",
      "Length : 1711\n",
      "ROI:  0.02854393071729953\n",
      "Working on:  CMS\n",
      "Length : 1711\n",
      "ROI:  0.014281807923597716\n",
      "Working on:  CNC\n",
      "Length : 1711\n",
      "ROI:  -0.1126061246155326\n",
      "Working on:  CNP\n",
      "Length : 1711\n",
      "ROI:  0.08095811742677798\n",
      "Working on:  COF\n",
      "Length : 1711\n",
      "ROI:  -0.0954951877509498\n",
      "Working on:  COO\n",
      "Length : 1711\n",
      "ROI:  -0.056824890346739945\n",
      "Working on:  COP\n",
      "Length : 1711\n",
      "ROI:  0.08478451633109364\n",
      "Working on:  COR\n",
      "Length : 1711\n",
      "ROI:  0.03447956238776319\n",
      "Working on:  COST\n",
      "Length : 1711\n",
      "ROI:  0.07741081312112395\n",
      "Working on:  CPAY\n",
      "Length : 1711\n",
      "ROI:  0.06726462293671337\n",
      "Working on:  CPB\n",
      "Length : 1711\n",
      "ROI:  -0.03809995263664067\n",
      "Working on:  CPRT\n",
      "Length : 1711\n",
      "ROI:  -0.08389000946781865\n",
      "Working on:  CPT\n",
      "Length : 1711\n",
      "ROI:  -0.01304174955446575\n",
      "Working on:  CRL\n",
      "Length : 1711\n",
      "ROI:  0.15612836639043642\n",
      "Working on:  CRM\n",
      "Length : 1711\n",
      "ROI:  -0.1262193171950068\n",
      "Working on:  CSCO\n",
      "Length : 1711\n",
      "ROI:  0.01680950325764797\n",
      "Working on:  CSGP\n",
      "Length : 1711\n",
      "ROI:  0.060695634948224754\n",
      "Working on:  CSX\n",
      "Length : 1711\n",
      "ROI:  -0.03722267753834802\n",
      "Working on:  CTAS\n",
      "Length : 1711\n",
      "ROI:  -0.049611241569297956\n",
      "Working on:  CTLT\n",
      "Length : 1711\n",
      "ROI:  0.20683170968322262\n",
      "Working on:  CTRA\n",
      "Length : 1711\n",
      "ROI:  0.056264180465065025\n",
      "Working on:  CTSH\n",
      "Length : 1711\n",
      "ROI:  0.05007807812890832\n",
      "Working on:  CTVA\n",
      "Length : 840\n",
      "Stock Data Corrupted\n",
      "Working on:  CVS\n",
      "Length : 1711\n",
      "ROI:  -0.08875443415170668\n",
      "Working on:  CVX\n",
      "Length : 1711\n",
      "ROI:  0.06459338884915929\n",
      "Working on:  CZR\n",
      "Length : 1711\n",
      "ROI:  0.14209662414664584\n",
      "Working on:  D\n",
      "Length : 1711\n",
      "ROI:  0.041170158005452685\n",
      "Working on:  DAL\n",
      "Length : 1711\n",
      "ROI:  0.06658934950945838\n",
      "Working on:  DAY\n",
      "Length : 1233\n",
      "ROI:  0.1570601667017224\n",
      "Working on:  DD\n",
      "Length : 1711\n",
      "ROI:  -0.0319027657379096\n",
      "Working on:  DE\n",
      "Length : 1711\n",
      "ROI:  0.030439942144587343\n",
      "Working on:  DECK\n",
      "Length : 1711\n",
      "ROI:  0.03222930717087472\n",
      "Working on:  DFS\n",
      "Length : 1711\n",
      "ROI:  -0.09918430535376282\n",
      "Working on:  DG\n",
      "Length : 1711\n",
      "ROI:  0.04811662059038325\n",
      "Working on:  DGX\n",
      "Length : 1711\n",
      "ROI:  0.11985792237852817\n",
      "Working on:  DHI\n",
      "Length : 1711\n",
      "ROI:  0.03871831677876995\n",
      "Working on:  DHR\n",
      "Length : 1711\n",
      "ROI:  0.1125688228108586\n",
      "Working on:  DIS\n",
      "Length : 1711\n",
      "ROI:  -0.03209531498623021\n",
      "Working on:  DLR\n",
      "Length : 1711\n",
      "ROI:  -0.01573081185314651\n",
      "Working on:  DLTR\n",
      "Length : 1711\n",
      "ROI:  -0.030197750640837063\n",
      "Working on:  DOC\n",
      "Length : 1711\n",
      "ROI:  -0.051254612106087685\n",
      "Working on:  DOV\n",
      "Length : 1711\n",
      "ROI:  0.04696513819393502\n",
      "Working on:  DOW\n",
      "Length : 905\n",
      "Stock Data Corrupted\n",
      "Working on:  DPZ\n",
      "Length : 1711\n",
      "ROI:  0.1488964525305389\n",
      "Working on:  DRI\n",
      "Length : 1711\n",
      "ROI:  -0.17146668072362117\n",
      "Working on:  DTE\n",
      "Length : 1711\n",
      "ROI:  -0.022405561471821447\n",
      "Working on:  DUK\n",
      "Length : 1711\n",
      "ROI:  0.005843955176168157\n",
      "Working on:  DVA\n",
      "Length : 1711\n",
      "ROI:  0.06535257739133513\n",
      "Working on:  DVN\n",
      "Length : 1711\n",
      "ROI:  0.07185803735322925\n",
      "Working on:  DXCM\n",
      "Length : 1711\n",
      "ROI:  0.33240590695240796\n",
      "Working on:  EA\n",
      "Length : 1711\n",
      "ROI:  -0.04618565249912458\n",
      "Working on:  EBAY\n",
      "Length : 1711\n",
      "ROI:  0.19315555864345757\n",
      "Working on:  ECL\n",
      "Length : 1711\n",
      "ROI:  -0.028298316334351044\n",
      "Working on:  ED\n",
      "Length : 1711\n",
      "ROI:  -0.032877059024263085\n",
      "Working on:  EFX\n",
      "Length : 1711\n",
      "ROI:  0.046190973184149726\n",
      "Working on:  EG\n",
      "Length : 1711\n",
      "ROI:  -0.006889052403318516\n",
      "Working on:  EIX\n",
      "Length : 1711\n",
      "ROI:  0.13889838941733734\n",
      "Working on:  EL\n",
      "Length : 1711\n",
      "ROI:  -0.025927735536909354\n",
      "Working on:  ELV\n",
      "Length : 1711\n",
      "ROI:  -0.04080273869270302\n",
      "Working on:  EMN\n",
      "Length : 1711\n",
      "ROI:  -0.03393084146402903\n",
      "Working on:  EMR\n",
      "Length : 1711\n",
      "ROI:  0.03136938068173338\n",
      "Working on:  ENPH\n",
      "Length : 1711\n",
      "ROI:  -0.17735660354324728\n",
      "Working on:  EOG\n",
      "Length : 1711\n",
      "ROI:  0.04658242781415097\n",
      "Working on:  EPAM\n",
      "Length : 1711\n",
      "ROI:  0.13257759620390278\n",
      "Working on:  EQIX\n",
      "Length : 1711\n",
      "ROI:  0.07659482741601015\n",
      "Working on:  EQR\n",
      "Length : 1711\n",
      "ROI:  -0.014688695995421688\n",
      "Working on:  EQT\n",
      "Length : 1711\n",
      "ROI:  -0.07379817296709289\n",
      "Working on:  ES\n",
      "Length : 1711\n",
      "ROI:  -0.005038839456868257\n",
      "Working on:  ESS\n",
      "Length : 1711\n",
      "ROI:  -0.04751664781529053\n",
      "Working on:  ETN\n",
      "Length : 1711\n",
      "ROI:  0.09768629920296287\n",
      "Working on:  ETR\n",
      "Length : 1711\n",
      "ROI:  0.08105861854670872\n",
      "Working on:  ETSY\n",
      "Length : 1711\n",
      "ROI:  0.23355886360379616\n",
      "Working on:  EVRG\n",
      "Length : 1711\n",
      "ROI:  0.06825743180058626\n",
      "Working on:  EW\n",
      "Length : 1711\n",
      "ROI:  0.10681669793809798\n",
      "Working on:  EXC\n",
      "Length : 1711\n",
      "ROI:  0.04938460443824203\n",
      "Working on:  EXPD\n",
      "Length : 1711\n",
      "ROI:  -0.052064547820665046\n",
      "Working on:  EXPE\n",
      "Length : 1711\n",
      "ROI:  -0.15500944462478217\n",
      "Working on:  EXR\n",
      "Length : 1711\n",
      "ROI:  0.09577426911249057\n",
      "Working on:  F\n",
      "Length : 1711\n",
      "ROI:  -0.25313913570048857\n",
      "Working on:  FANG\n",
      "Length : 1711\n",
      "ROI:  -0.007857594736853431\n",
      "Working on:  FAST\n",
      "Length : 1711\n",
      "ROI:  0.09153740748011432\n",
      "Working on:  FCX\n",
      "Length : 1711\n",
      "ROI:  -0.026667466558300695\n",
      "Working on:  FDS\n",
      "Length : 1711\n",
      "ROI:  0.12695552610507865\n",
      "Working on:  FDX\n",
      "Length : 1711\n",
      "ROI:  -0.14498551164205217\n",
      "Working on:  FE\n",
      "Length : 1711\n",
      "ROI:  -0.03594366074751453\n",
      "Working on:  FFIV\n",
      "Length : 1711\n",
      "ROI:  -0.009648793412179781\n",
      "Working on:  FI\n",
      "Length : 1711\n",
      "ROI:  0.028045272236551212\n",
      "Working on:  FICO\n",
      "Length : 1711\n",
      "ROI:  -0.06994056293192885\n",
      "Working on:  FIS\n",
      "Length : 1711\n",
      "ROI:  -0.04864327396930314\n",
      "Working on:  FITB\n",
      "Length : 1711\n",
      "ROI:  -0.06457890905117235\n",
      "Working on:  FMC\n",
      "Length : 1711\n",
      "ROI:  -0.02116817216615502\n",
      "Working on:  FOX\n",
      "Length : 912\n",
      "Stock Data Corrupted\n",
      "Working on:  FOXA\n",
      "Length : 913\n",
      "Stock Data Corrupted\n",
      "Working on:  FRT\n",
      "Length : 1711\n",
      "ROI:  0.023724144753592896\n",
      "Working on:  FSLR\n",
      "Length : 1711\n",
      "ROI:  0.22140511442028007\n",
      "Working on:  FTNT\n",
      "Length : 1711\n",
      "ROI:  0.21566503870239\n",
      "Working on:  FTV\n",
      "Length : 1711\n",
      "ROI:  -0.05291666780861449\n",
      "Working on:  GD\n",
      "Length : 1711\n",
      "ROI:  0.048605748443744434\n",
      "Working on:  GE\n",
      "Length : 1711\n",
      "ROI:  -0.15290634999788438\n",
      "Working on:  GEHC\n",
      "Stock Data Corrupted\n",
      "Working on:  GEN\n",
      "Length : 1711\n",
      "ROI:  0.08434965177653639\n",
      "Working on:  GEV\n",
      "Stock Data Corrupted\n",
      "Working on:  GILD\n",
      "Length : 1711\n",
      "ROI:  -0.04438778598672354\n",
      "Working on:  GIS\n",
      "Length : 1711\n",
      "ROI:  -0.03333630751628019\n",
      "Working on:  GL\n",
      "Length : 1711\n",
      "ROI:  -0.09847321279427408\n",
      "Working on:  GLW\n",
      "Length : 1711\n",
      "ROI:  -0.15871953508919046\n",
      "Working on:  GM\n",
      "Length : 1711\n",
      "ROI:  -0.2709007487132472\n",
      "Working on:  GNRC\n",
      "Length : 1711\n",
      "ROI:  0.09273348935561246\n",
      "Working on:  GOOG\n",
      "Length : 1711\n",
      "ROI:  0.12165119169808417\n",
      "Working on:  GOOGL\n",
      "Length : 1711\n",
      "ROI:  0.14641229839417103\n",
      "Working on:  GPC\n",
      "Length : 1711\n",
      "ROI:  -0.15103976803589725\n",
      "Working on:  GPN\n",
      "Length : 1711\n",
      "ROI:  -0.002740217610448089\n",
      "Working on:  GRMN\n",
      "Length : 1711\n",
      "ROI:  0.14336850535340576\n",
      "Working on:  GS\n",
      "Length : 1711\n",
      "ROI:  0.06916709540561528\n",
      "Working on:  GWW\n",
      "Length : 1711\n",
      "ROI:  -0.04659501727480882\n",
      "Working on:  HAL\n",
      "Length : 1711\n",
      "ROI:  0.09627908779152453\n",
      "Working on:  HAS\n",
      "Length : 1711\n",
      "ROI:  0.015930581630252048\n",
      "Working on:  HBAN\n",
      "Length : 1711\n",
      "ROI:  0.02100518610761677\n",
      "Working on:  HCA\n",
      "Length : 1711\n",
      "ROI:  -0.023135891526965022\n",
      "Working on:  HD\n",
      "Length : 1711\n",
      "ROI:  0.06161060686743516\n",
      "Working on:  HES\n",
      "Length : 1711\n",
      "ROI:  -0.09890543651335812\n",
      "Working on:  HIG\n",
      "Length : 1711\n",
      "ROI:  0.039163960793767286\n",
      "Working on:  HII\n",
      "Length : 1711\n",
      "ROI:  0.0624480503647733\n",
      "Working on:  HLT\n",
      "Length : 1711\n",
      "ROI:  -0.180357855516504\n",
      "Working on:  HOLX\n",
      "Length : 1711\n",
      "ROI:  0.13357679246853524\n",
      "Working on:  HON\n",
      "Length : 1711\n",
      "ROI:  -0.06307036299243232\n",
      "Working on:  HPE\n",
      "Length : 1711\n",
      "ROI:  -0.067633180607784\n",
      "Working on:  HPQ\n",
      "Length : 1711\n",
      "ROI:  -0.05698159802701786\n",
      "Working on:  HRL\n",
      "Length : 1711\n",
      "ROI:  -0.020003380210526663\n",
      "Working on:  HSIC\n",
      "Length : 1711\n",
      "ROI:  -0.07509025714536437\n",
      "Working on:  HST\n",
      "Length : 1711\n",
      "ROI:  0.06550458530521544\n",
      "Working on:  HSY\n",
      "Length : 1711\n",
      "ROI:  0.019298788024938503\n",
      "Working on:  HUBB\n",
      "Length : 1711\n",
      "ROI:  0.022127028069404923\n",
      "Working on:  HUM\n",
      "Length : 1711\n",
      "ROI:  -0.06739956660931021\n",
      "Working on:  HWM\n",
      "Length : 1711\n",
      "ROI:  -0.17721633457344352\n",
      "Working on:  IBM\n",
      "Length : 1711\n",
      "ROI:  -0.10121387943123662\n",
      "Working on:  ICE\n",
      "Length : 1711\n",
      "ROI:  -0.06546863005711713\n",
      "Working on:  IDXX\n",
      "Length : 1711\n",
      "ROI:  0.0830669415591832\n",
      "Working on:  IEX\n",
      "Length : 1711\n",
      "ROI:  -0.08586176822203402\n",
      "Working on:  IFF\n",
      "Length : 1711\n",
      "ROI:  0.02724425945438207\n",
      "Working on:  ILMN\n",
      "Length : 1711\n",
      "ROI:  -0.07808642072507122\n",
      "Working on:  INCY\n",
      "Length : 1711\n",
      "ROI:  -0.01238974772299305\n",
      "Working on:  INTC\n",
      "Length : 1711\n",
      "ROI:  -0.06610108182678155\n",
      "Working on:  INTU\n",
      "Length : 1711\n",
      "ROI:  0.08405412428356183\n",
      "Working on:  INVH\n",
      "Length : 1682\n",
      "ROI:  -0.022842451705406944\n",
      "Working on:  IP\n",
      "Length : 1711\n",
      "ROI:  -0.06548537376135077\n",
      "Working on:  IPG\n",
      "Length : 1711\n",
      "ROI:  0.05411620572537856\n",
      "Working on:  IQV\n",
      "Length : 1711\n",
      "ROI:  -0.007398343524110642\n",
      "Working on:  IR\n",
      "Length : 1582\n",
      "ROI:  0.06374206724957948\n",
      "Working on:  IRM\n",
      "Length : 1711\n",
      "ROI:  0.01278125153244113\n",
      "Working on:  ISRG\n",
      "Length : 1711\n",
      "ROI:  0.07868886236088689\n",
      "Working on:  IT\n",
      "Length : 1711\n",
      "ROI:  0.2507375405301061\n",
      "Working on:  ITW\n",
      "Length : 1711\n",
      "ROI:  -0.006412961518365388\n",
      "Working on:  IVZ\n",
      "Length : 1711\n",
      "ROI:  -0.11023388025495937\n",
      "Working on:  J\n",
      "Length : 1711\n",
      "ROI:  -0.012570494680353839\n",
      "Working on:  JBHT\n",
      "Length : 1711\n",
      "ROI:  -0.0005481286811869086\n",
      "Working on:  JBL\n",
      "Length : 1711\n",
      "ROI:  0.057074973197874156\n",
      "Working on:  JCI\n",
      "Length : 1711\n",
      "ROI:  0.0842343689185042\n",
      "Working on:  JKHY\n",
      "Length : 1711\n",
      "ROI:  0.022357147798508514\n",
      "Working on:  JNJ\n",
      "Length : 1711\n",
      "ROI:  0.05040314427949337\n",
      "Working on:  JNPR\n",
      "Length : 1711\n",
      "ROI:  0.05137455163232802\n",
      "Working on:  JPM\n",
      "Length : 1711\n",
      "ROI:  -0.0673188241303672\n",
      "Working on:  K\n",
      "Length : 1711\n",
      "ROI:  -0.031026114000454418\n",
      "Working on:  KDP\n",
      "Length : 1711\n",
      "ROI:  0.01572259214644194\n",
      "Working on:  KEY\n",
      "Length : 1711\n",
      "ROI:  -0.09059544710292694\n",
      "Working on:  KEYS\n",
      "Length : 1711\n",
      "ROI:  0.07370725299982776\n",
      "Working on:  KHC\n",
      "Length : 1711\n",
      "ROI:  -0.03385486582744619\n",
      "Working on:  KIM\n",
      "Length : 1711\n",
      "ROI:  -0.059979614458832174\n",
      "Working on:  KLAC\n",
      "Length : 1711\n",
      "ROI:  0.2095127191764272\n",
      "Working on:  KMB\n",
      "Length : 1711\n",
      "ROI:  -0.042684986588885476\n",
      "Working on:  KMI\n",
      "Length : 1711\n",
      "ROI:  -0.007405969265597559\n",
      "Working on:  KMX\n",
      "Length : 1711\n",
      "ROI:  0.00854960576311043\n",
      "Working on:  KO\n",
      "Length : 1711\n",
      "ROI:  -0.0232806927008368\n",
      "Working on:  KR\n",
      "Length : 1711\n",
      "ROI:  0.1518936241202886\n",
      "Working on:  KVUE\n",
      "Stock Data Corrupted\n",
      "Working on:  L\n",
      "Length : 1711\n",
      "ROI:  -0.07104651365714873\n",
      "Working on:  LDOS\n",
      "Length : 1711\n",
      "ROI:  0.048276328342242714\n",
      "Working on:  LEN\n",
      "Length : 1711\n",
      "ROI:  0.05819664617834351\n",
      "Working on:  LH\n",
      "Length : 1711\n",
      "ROI:  0.13728513237884654\n",
      "Working on:  LHX\n",
      "Length : 1711\n",
      "ROI:  0.04625012829063161\n",
      "Working on:  LIN\n",
      "Length : 1711\n",
      "ROI:  0.0386160607284573\n",
      "Working on:  LKQ\n",
      "Length : 1711\n",
      "ROI:  0.009798974157479396\n",
      "Working on:  LLY\n",
      "Length : 1711\n",
      "ROI:  0.0548680711174799\n",
      "Working on:  LMT\n",
      "Length : 1711\n",
      "ROI:  -0.0409946699825085\n",
      "Working on:  LNT\n",
      "Length : 1711\n",
      "ROI:  -0.035727995972098525\n",
      "Working on:  LOW\n",
      "Length : 1711\n",
      "ROI:  0.144899725125687\n",
      "Working on:  LRCX\n",
      "Length : 1711\n",
      "ROI:  0.07586965799335292\n",
      "Working on:  LULU\n",
      "Length : 1711\n",
      "ROI:  0.19436204523349299\n",
      "Working on:  LUV\n",
      "Length : 1711\n",
      "ROI:  -0.15719893657944536\n",
      "Working on:  LVS\n",
      "Length : 1711\n",
      "ROI:  0.009870836920596678\n",
      "Working on:  LW\n",
      "Length : 1711\n",
      "ROI:  -0.19654218521730232\n",
      "Working on:  LYB\n",
      "Length : 1711\n",
      "ROI:  -0.12107464269633798\n",
      "Working on:  LYV\n",
      "Length : 1711\n",
      "ROI:  -0.0949138841014232\n",
      "Working on:  MA\n",
      "Length : 1711\n",
      "ROI:  -0.10667861855479337\n",
      "Working on:  MAA\n",
      "Length : 1711\n",
      "ROI:  -0.011455864683976478\n",
      "Working on:  MAR\n",
      "Length : 1711\n",
      "ROI:  -0.04355470663714011\n",
      "Working on:  MAS\n",
      "Length : 1711\n",
      "ROI:  -0.020403308958313607\n",
      "Working on:  MCD\n",
      "Length : 1711\n",
      "ROI:  -0.043700098188735055\n",
      "Working on:  MCHP\n",
      "Length : 1711\n",
      "ROI:  0.048246156689754995\n",
      "Working on:  MCK\n",
      "Length : 1711\n",
      "ROI:  -0.011949017330328536\n",
      "Working on:  MCO\n",
      "Length : 1711\n",
      "ROI:  -0.01401634286134697\n",
      "Working on:  MDLZ\n",
      "Length : 1711\n",
      "ROI:  -0.050097415882085335\n",
      "Working on:  MDT\n",
      "Length : 1711\n",
      "ROI:  -0.030922276938319105\n",
      "Working on:  MET\n",
      "Length : 1711\n",
      "ROI:  -0.09797020039975121\n",
      "Working on:  META\n",
      "Length : 1711\n",
      "ROI:  0.1164543088873329\n",
      "Working on:  MGM\n",
      "Length : 1711\n",
      "ROI:  -0.0018418083628674328\n",
      "Working on:  MHK\n",
      "Length : 1711\n",
      "ROI:  0.01584245634585864\n",
      "Working on:  MKC\n",
      "Length : 1711\n",
      "ROI:  0.11266629155581812\n",
      "Working on:  MKTX\n",
      "Length : 1711\n",
      "ROI:  0.0651645157189434\n",
      "Working on:  MLM\n",
      "Length : 1711\n",
      "ROI:  0.010077481883245499\n",
      "Working on:  MMC\n",
      "Length : 1711\n",
      "ROI:  0.07071873310269623\n",
      "Working on:  MMM\n",
      "Length : 1711\n",
      "ROI:  0.0010750327278845604\n",
      "Working on:  MNST\n",
      "Length : 1711\n",
      "ROI:  -0.02924147965817711\n",
      "Working on:  MO\n",
      "Length : 1711\n",
      "ROI:  0.11978813663787945\n",
      "Working on:  MOH\n",
      "Length : 1711\n",
      "ROI:  -0.0016166566075105982\n",
      "Working on:  MOS\n",
      "Length : 1711\n",
      "ROI:  0.09600517848427122\n",
      "Working on:  MPC\n",
      "Length : 1711\n",
      "ROI:  0.18336495245417192\n",
      "Working on:  MPWR\n",
      "Length : 1711\n",
      "ROI:  0.289141087269498\n",
      "Working on:  MRK\n",
      "Length : 1711\n",
      "ROI:  -0.04047074993183239\n",
      "Working on:  MRNA\n",
      "Length : 1008\n",
      "ROI:  0.30012791310292763\n",
      "Working on:  MRO\n",
      "Length : 1711\n",
      "ROI:  0.17220947724777783\n",
      "Working on:  MS\n",
      "Length : 1711\n",
      "ROI:  0.07112104891922623\n",
      "Working on:  MSCI\n",
      "Length : 1711\n",
      "ROI:  0.15171218962615576\n",
      "Working on:  MSFT\n",
      "Length : 1711\n",
      "ROI:  0.07840287874010672\n",
      "Working on:  MSI\n",
      "Length : 1711\n",
      "ROI:  -0.01025509204262931\n",
      "Working on:  MTB\n",
      "Length : 1711\n",
      "ROI:  -0.07303360736645266\n",
      "Working on:  MTCH\n",
      "Length : 1711\n",
      "ROI:  -0.020288164536272496\n",
      "Working on:  MTD\n",
      "Length : 1711\n",
      "ROI:  0.047646400652488166\n",
      "Working on:  MU\n",
      "Length : 1711\n",
      "ROI:  -0.039919127785584776\n",
      "Working on:  NCLH\n",
      "Length : 1711\n",
      "ROI:  -0.3015270910272384\n",
      "Working on:  NDAQ\n",
      "Length : 1711\n",
      "ROI:  0.08835564919651383\n",
      "Working on:  NDSN\n",
      "Length : 1711\n",
      "ROI:  0.04922212512405444\n",
      "Working on:  NEE\n",
      "Length : 1711\n",
      "ROI:  0.11039547550386065\n",
      "Working on:  NEM\n",
      "Length : 1711\n",
      "ROI:  0.07364788375156715\n",
      "Working on:  NFLX\n",
      "Length : 1711\n",
      "ROI:  0.05767977258962148\n",
      "Working on:  NI\n",
      "Length : 1711\n",
      "ROI:  0.04462573799335929\n",
      "Working on:  NKE\n",
      "Length : 1711\n",
      "ROI:  0.048384024772867275\n",
      "Working on:  NOC\n",
      "Length : 1711\n",
      "ROI:  -0.02512806940973513\n",
      "Working on:  NOW\n",
      "Length : 1711\n",
      "ROI:  0.15780391313133255\n",
      "Working on:  NRG\n",
      "Length : 1711\n",
      "ROI:  0.020066689600983373\n",
      "Working on:  NSC\n",
      "Length : 1711\n",
      "ROI:  -0.09790411712408964\n",
      "Working on:  NTAP\n",
      "Length : 1711\n",
      "ROI:  -0.0218969455522538\n",
      "Working on:  NTRS\n",
      "Length : 1711\n",
      "ROI:  -0.11691835884923082\n",
      "Working on:  NUE\n",
      "Length : 1711\n",
      "ROI:  0.1598685816910035\n",
      "Working on:  NVDA\n",
      "Length : 1711\n",
      "ROI:  -0.7072962162345081\n",
      "Working on:  NVR\n",
      "Length : 1711\n",
      "ROI:  0.01799380065199269\n",
      "Working on:  NWS\n",
      "Length : 1711\n",
      "ROI:  -0.06985489638963688\n",
      "Working on:  NWSA\n",
      "Length : 1711\n",
      "ROI:  -0.08531460232835597\n",
      "Working on:  NXPI\n",
      "Length : 1711\n",
      "ROI:  -0.0018668346533018086\n",
      "Working on:  O\n",
      "Length : 1711\n",
      "ROI:  -0.014015186708196618\n",
      "Working on:  ODFL\n",
      "Length : 1711\n",
      "ROI:  0.10958429002868508\n",
      "Working on:  OKE\n",
      "Length : 1711\n",
      "ROI:  0.061275347037737814\n",
      "Working on:  OMC\n",
      "Length : 1711\n",
      "ROI:  0.019813503125818605\n",
      "Working on:  ON\n",
      "Length : 1711\n",
      "ROI:  0.07909368563381974\n",
      "Working on:  ORCL\n",
      "Length : 1711\n",
      "ROI:  0.022838838289506003\n",
      "Working on:  ORLY\n",
      "Length : 1711\n",
      "ROI:  -0.07665074154932107\n",
      "Working on:  OXY\n",
      "Length : 1711\n",
      "ROI:  0.08501513137413425\n",
      "Working on:  PANW\n",
      "Length : 1711\n",
      "ROI:  0.09857516722775961\n",
      "Working on:  PARA\n",
      "Length : 1711\n",
      "ROI:  -0.333992773379192\n",
      "Working on:  PAYC\n",
      "Length : 1711\n",
      "ROI:  0.22296632188511134\n",
      "Working on:  PAYX\n",
      "Length : 1711\n",
      "ROI:  -0.07775978496966948\n",
      "Working on:  PCAR\n",
      "Length : 1711\n",
      "ROI:  0.003267243679079902\n",
      "Working on:  PCG\n",
      "Length : 1711\n",
      "ROI:  0.06259244316997115\n",
      "Working on:  PEG\n",
      "Length : 1711\n",
      "ROI:  -0.047766680589966554\n",
      "Working on:  PEP\n",
      "Length : 1711\n",
      "ROI:  -0.027237686237956873\n",
      "Working on:  PFE\n",
      "Length : 1711\n",
      "ROI:  -0.10885853716251719\n",
      "Working on:  PFG\n",
      "Length : 1711\n",
      "ROI:  -0.024722268947586317\n",
      "Working on:  PG\n",
      "Length : 1711\n",
      "ROI:  0.013476481837764282\n",
      "Working on:  PGR\n",
      "Length : 1711\n",
      "ROI:  0.01497975105380958\n",
      "Working on:  PH\n",
      "Length : 1711\n",
      "ROI:  0.003748732004120861\n",
      "Working on:  PHM\n",
      "Length : 1711\n",
      "ROI:  -0.07070135715337464\n",
      "Working on:  PKG\n",
      "Length : 1711\n",
      "ROI:  0.07147570932304242\n",
      "Working on:  PLD\n",
      "Length : 1711\n",
      "ROI:  0.0003951450301910606\n",
      "Working on:  PM\n",
      "Length : 1711\n",
      "ROI:  0.07117353404660702\n",
      "Working on:  PNC\n",
      "Length : 1711\n",
      "ROI:  -0.08468238753901089\n",
      "Working on:  PNR\n",
      "Length : 1711\n",
      "ROI:  0.10557564873003912\n",
      "Working on:  PNW\n",
      "Length : 1711\n",
      "ROI:  0.007217819012825863\n",
      "Working on:  PODD\n",
      "Length : 1711\n",
      "ROI:  0.09790936995258709\n",
      "Working on:  POOL\n",
      "Length : 1711\n",
      "ROI:  0.11970637696218007\n",
      "Working on:  PPG\n",
      "Length : 1711\n",
      "ROI:  -0.03943342196845668\n",
      "Working on:  PPL\n",
      "Length : 1711\n",
      "ROI:  0.007196533180477001\n",
      "Working on:  PRU\n",
      "Length : 1711\n",
      "ROI:  -0.041488603197686554\n",
      "Working on:  PSA\n",
      "Length : 1711\n",
      "ROI:  0.04578332209916798\n",
      "Working on:  PSX\n",
      "Length : 1711\n",
      "ROI:  -0.035226515299371014\n",
      "Working on:  PTC\n",
      "Length : 1711\n",
      "ROI:  -0.15510381428767078\n",
      "Working on:  PWR\n",
      "Length : 1711\n",
      "ROI:  0.37438466765806333\n",
      "Working on:  PXD\n",
      "Length : 1711\n",
      "ROI:  0.10276568780284281\n",
      "Working on:  PYPL\n",
      "Length : 1711\n",
      "ROI:  0.14814541589316207\n",
      "Working on:  QCOM\n",
      "Length : 1711\n",
      "ROI:  0.093739276656096\n",
      "Working on:  QRVO\n",
      "Length : 1711\n",
      "ROI:  0.02617908192748507\n",
      "Working on:  RCL\n",
      "Length : 1711\n",
      "ROI:  0.06668608428276937\n",
      "Working on:  REG\n",
      "Length : 1711\n",
      "ROI:  0.035435811162914464\n",
      "Working on:  REGN\n",
      "Length : 1711\n",
      "ROI:  0.12196696861018481\n",
      "Working on:  RF\n",
      "Length : 1711\n",
      "ROI:  -0.07336361037461478\n",
      "Working on:  RHI\n",
      "Length : 1711\n",
      "ROI:  0.12621747341932119\n",
      "Working on:  RJF\n",
      "Length : 1711\n",
      "ROI:  -0.04706309414691398\n",
      "Working on:  RL\n",
      "Length : 1711\n",
      "ROI:  0.04612326230317789\n",
      "Working on:  RMD\n",
      "Length : 1711\n",
      "ROI:  0.04867380615954979\n",
      "Working on:  ROK\n",
      "Length : 1711\n",
      "ROI:  0.09037383340148525\n",
      "Working on:  ROL\n",
      "Length : 1711\n",
      "ROI:  -0.039457355310502956\n",
      "Working on:  ROP\n",
      "Length : 1711\n",
      "ROI:  -0.05526318190347481\n",
      "Working on:  ROST\n",
      "Length : 1711\n",
      "ROI:  -0.08844496665092373\n",
      "Working on:  RSG\n",
      "Length : 1711\n",
      "ROI:  -0.044888922305316235\n",
      "Working on:  RTX\n",
      "Length : 1711\n",
      "ROI:  0.048386886721051355\n",
      "Working on:  RVTY\n",
      "Length : 1711\n",
      "ROI:  0.033318916714350104\n",
      "Working on:  SBAC\n",
      "Length : 1711\n",
      "ROI:  0.09739386193208278\n",
      "Working on:  SBUX\n",
      "Length : 1711\n",
      "ROI:  -0.06381760989839873\n",
      "Working on:  SCHW\n",
      "Length : 1711\n",
      "ROI:  -0.05846550888509382\n",
      "Working on:  SHW\n",
      "Length : 1711\n",
      "ROI:  0.05951793902105253\n",
      "Working on:  SJM\n",
      "Length : 1711\n",
      "ROI:  -0.061267413116652375\n",
      "Working on:  SLB\n",
      "Length : 1711\n",
      "ROI:  -0.10075509410080478\n",
      "Working on:  SMCI\n",
      "Length : 1711\n",
      "ROI:  0.12546520000082956\n",
      "Working on:  SNA\n",
      "Length : 1711\n",
      "ROI:  -0.09166019378176371\n",
      "Working on:  SNPS\n",
      "Length : 1711\n",
      "ROI:  0.2134645492353112\n",
      "Working on:  SO\n",
      "Length : 1711\n",
      "ROI:  0.0473012691467591\n",
      "Working on:  SOLV\n",
      "Stock Data Corrupted\n",
      "Working on:  SPG\n",
      "Length : 1711\n",
      "ROI:  0.1622544046575553\n",
      "Working on:  SPGI\n",
      "Length : 1711\n",
      "ROI:  0.03479901600689355\n",
      "Working on:  SRE\n",
      "Length : 1711\n",
      "ROI:  0.038150928155969\n",
      "Working on:  STE\n",
      "Length : 1711\n",
      "ROI:  0.039051740838251345\n",
      "Working on:  STLD\n",
      "Length : 1711\n",
      "ROI:  0.07873929357467646\n",
      "Working on:  STT\n",
      "Length : 1711\n",
      "ROI:  -0.06459834354681865\n",
      "Working on:  STX\n",
      "Length : 1711\n",
      "ROI:  0.024938264958072862\n",
      "Working on:  STZ\n",
      "Length : 1711\n",
      "ROI:  -0.04021554658051006\n",
      "Working on:  SWK\n",
      "Length : 1711\n",
      "ROI:  -0.015928328464702733\n",
      "Working on:  SWKS\n",
      "Length : 1711\n",
      "ROI:  -0.027721850808284532\n",
      "Working on:  SYF\n",
      "Length : 1711\n",
      "ROI:  -0.09904348952426927\n",
      "Working on:  SYK\n",
      "Length : 1711\n",
      "ROI:  0.009554024030423373\n",
      "Working on:  SYY\n",
      "Length : 1711\n",
      "ROI:  -0.14782398907005184\n",
      "Working on:  T\n",
      "Length : 1711\n",
      "ROI:  0.003043997893779235\n",
      "Working on:  TAP\n",
      "Length : 1711\n",
      "ROI:  -0.15883839016773552\n",
      "Working on:  TDG\n",
      "Length : 1711\n",
      "ROI:  -0.08855520612753653\n",
      "Working on:  TDY\n",
      "Length : 1711\n",
      "ROI:  -0.020385574646350435\n",
      "Working on:  TECH\n",
      "Length : 1711\n",
      "ROI:  0.11022611281273141\n",
      "Working on:  TEL\n",
      "Length : 1711\n",
      "ROI:  0.05039242958522524\n",
      "Working on:  TER\n",
      "Length : 1711\n",
      "ROI:  -0.07466973181513781\n",
      "Working on:  TFC\n",
      "Length : 1711\n",
      "ROI:  -0.144158685283257\n",
      "Working on:  TFX\n",
      "Length : 1711\n",
      "ROI:  0.05373448556404184\n",
      "Working on:  TGT\n",
      "Length : 1711\n",
      "ROI:  0.04857207786583252\n",
      "Working on:  TJX\n",
      "Length : 1711\n",
      "ROI:  0.031180599257299112\n",
      "Working on:  TMO\n",
      "Length : 1711\n",
      "ROI:  0.10231997330498373\n",
      "Working on:  TMUS\n",
      "Length : 1711\n",
      "ROI:  0.0012002441045254719\n",
      "Working on:  TPR\n",
      "Length : 1711\n",
      "ROI:  0.0710837115939901\n",
      "Working on:  TRGP\n",
      "Length : 1711\n",
      "ROI:  0.09344579600530352\n",
      "Working on:  TRMB\n",
      "Length : 1711\n",
      "ROI:  0.16145667370057293\n",
      "Working on:  TROW\n",
      "Length : 1711\n",
      "ROI:  0.0771145378636694\n",
      "Working on:  TRV\n",
      "Length : 1711\n",
      "ROI:  -0.05866117622920551\n",
      "Working on:  TSCO\n",
      "Length : 1711\n",
      "ROI:  0.03988350663831715\n",
      "Working on:  TSLA\n",
      "Length : 1711\n",
      "ROI:  -0.12626266664917582\n",
      "Working on:  TSN\n",
      "Length : 1711\n",
      "ROI:  0.03146356922357346\n",
      "Working on:  TT\n",
      "Length : 1711\n",
      "ROI:  -0.034206552953563105\n",
      "Working on:  TTWO\n",
      "Length : 1711\n",
      "ROI:  -0.16887660444553393\n",
      "Working on:  TXN\n",
      "Length : 1711\n",
      "ROI:  0.01520906387171784\n",
      "Working on:  TXT\n",
      "Length : 1711\n",
      "ROI:  0.05604737468616739\n",
      "Working on:  TYL\n",
      "Length : 1711\n",
      "ROI:  -0.10199487821129043\n",
      "Working on:  UAL\n",
      "Length : 1711\n",
      "ROI:  0.21206295352281881\n",
      "Working on:  UBER\n",
      "Length : 854\n",
      "Stock Data Corrupted\n",
      "Working on:  UDR\n",
      "Length : 1711\n",
      "ROI:  -0.029595274313042406\n",
      "Working on:  UHS\n",
      "Length : 1711\n",
      "ROI:  -0.07036579791478738\n",
      "Working on:  ULTA\n",
      "Length : 1711\n",
      "ROI:  0.008521056033094852\n",
      "Working on:  UNH\n",
      "Length : 1711\n",
      "ROI:  0.019391411608699925\n",
      "Working on:  UNP\n",
      "Length : 1711\n",
      "ROI:  0.005685079774391848\n",
      "Working on:  UPS\n",
      "Length : 1711\n",
      "ROI:  -0.0029620056193759474\n",
      "Working on:  URI\n",
      "Length : 1711\n",
      "ROI:  0.14284604392294545\n",
      "Working on:  USB\n",
      "Length : 1711\n",
      "ROI:  0.003190327558585413\n",
      "Working on:  V\n",
      "Length : 1711\n",
      "ROI:  -0.10262384641034475\n",
      "Working on:  VICI\n",
      "Length : 1347\n",
      "ROI:  -0.09180131081714285\n",
      "Working on:  VLO\n",
      "Length : 1711\n",
      "ROI:  0.19248328071590237\n",
      "Working on:  VLTO\n",
      "Stock Data Corrupted\n",
      "Working on:  VMC\n",
      "Length : 1711\n",
      "ROI:  0.031477537632821656\n",
      "Working on:  VRSK\n",
      "Length : 1711\n",
      "ROI:  0.10673055449875031\n",
      "Working on:  VRSN\n",
      "Length : 1711\n",
      "ROI:  -0.0673930108580727\n",
      "Working on:  VRTX\n",
      "Length : 1711\n",
      "ROI:  0.06053504042539427\n",
      "Working on:  VTR\n",
      "Length : 1711\n",
      "ROI:  0.01014853804679128\n",
      "Working on:  VTRS\n",
      "Length : 1711\n",
      "ROI:  -0.006591360404353209\n",
      "Working on:  VZ\n",
      "Length : 1711\n",
      "ROI:  0.020753298964676686\n",
      "Working on:  WAB\n",
      "Length : 1711\n",
      "ROI:  -0.01729693192411355\n",
      "Working on:  WAT\n",
      "Length : 1711\n",
      "ROI:  0.12584452963163797\n",
      "Working on:  WBA\n",
      "Length : 1711\n",
      "ROI:  -0.12044721155475764\n",
      "Working on:  WBD\n",
      "Length : 1711\n",
      "ROI:  -0.09837379112832065\n",
      "Working on:  WDC\n",
      "Length : 1711\n",
      "ROI:  -0.16228576883557722\n",
      "Working on:  WEC\n",
      "Length : 1711\n",
      "ROI:  -0.014276151193597028\n",
      "Working on:  WELL\n",
      "Length : 1711\n",
      "ROI:  -0.0430906570219346\n",
      "Working on:  WFC\n",
      "Length : 1711\n",
      "ROI:  -0.09506950748559137\n",
      "Working on:  WM\n",
      "Length : 1711\n",
      "ROI:  -0.033022549555032095\n",
      "Working on:  WMB\n",
      "Length : 1711\n",
      "ROI:  -0.007168612309799382\n",
      "Working on:  WMT\n",
      "Length : 1711\n",
      "ROI:  0.017705493666863064\n",
      "Working on:  WRB\n",
      "Length : 1711\n",
      "ROI:  -0.04091659244413588\n",
      "Working on:  WRK\n",
      "Length : 1711\n",
      "ROI:  -0.07370282880517155\n",
      "Working on:  WST\n",
      "Length : 1711\n",
      "ROI:  0.196897285135602\n",
      "Working on:  WTW\n",
      "Length : 1711\n",
      "ROI:  0.10147142049203181\n",
      "Working on:  WY\n",
      "Length : 1711\n",
      "ROI:  -0.048977269283925616\n",
      "Working on:  WYNN\n",
      "Length : 1711\n",
      "ROI:  -0.04389793051639801\n",
      "Working on:  XEL\n",
      "Length : 1711\n",
      "ROI:  -0.02150368834319957\n",
      "Working on:  XOM\n",
      "Length : 1711\n",
      "ROI:  -0.0445216539667796\n",
      "Working on:  XYL\n",
      "Length : 1711\n",
      "ROI:  0.07631131914110391\n",
      "Working on:  YUM\n",
      "Length : 1711\n",
      "ROI:  0.04708721988563439\n",
      "Working on:  ZBH\n",
      "Length : 1711\n",
      "ROI:  -0.10898094679676527\n",
      "Working on:  ZBRA\n",
      "Length : 1711\n",
      "ROI:  0.10846323224734217\n",
      "Working on:  ZTS\n",
      "Length : 1711\n",
      "ROI:  0.015644313590804246\n"
     ]
    },
    {
     "data": {
      "text/html": [
       "<div>\n",
       "<style scoped>\n",
       "    .dataframe tbody tr th:only-of-type {\n",
       "        vertical-align: middle;\n",
       "    }\n",
       "\n",
       "    .dataframe tbody tr th {\n",
       "        vertical-align: top;\n",
       "    }\n",
       "\n",
       "    .dataframe thead th {\n",
       "        text-align: right;\n",
       "    }\n",
       "</style>\n",
       "<table border=\"1\" class=\"dataframe\">\n",
       "  <thead>\n",
       "    <tr style=\"text-align: right;\">\n",
       "      <th></th>\n",
       "      <th>Ticker</th>\n",
       "      <th>ROI</th>\n",
       "    </tr>\n",
       "  </thead>\n",
       "  <tbody>\n",
       "    <tr>\n",
       "      <th>0</th>\n",
       "      <td>A</td>\n",
       "      <td>0.172623</td>\n",
       "    </tr>\n",
       "    <tr>\n",
       "      <th>1</th>\n",
       "      <td>AAL</td>\n",
       "      <td>-0.174040</td>\n",
       "    </tr>\n",
       "    <tr>\n",
       "      <th>2</th>\n",
       "      <td>AAPL</td>\n",
       "      <td>0.068902</td>\n",
       "    </tr>\n",
       "    <tr>\n",
       "      <th>3</th>\n",
       "      <td>ABBV</td>\n",
       "      <td>-0.051604</td>\n",
       "    </tr>\n",
       "    <tr>\n",
       "      <th>4</th>\n",
       "      <td>ABT</td>\n",
       "      <td>0.019102</td>\n",
       "    </tr>\n",
       "    <tr>\n",
       "      <th>...</th>\n",
       "      <td>...</td>\n",
       "      <td>...</td>\n",
       "    </tr>\n",
       "    <tr>\n",
       "      <th>484</th>\n",
       "      <td>XYL</td>\n",
       "      <td>0.076311</td>\n",
       "    </tr>\n",
       "    <tr>\n",
       "      <th>485</th>\n",
       "      <td>YUM</td>\n",
       "      <td>0.047087</td>\n",
       "    </tr>\n",
       "    <tr>\n",
       "      <th>486</th>\n",
       "      <td>ZBH</td>\n",
       "      <td>-0.108981</td>\n",
       "    </tr>\n",
       "    <tr>\n",
       "      <th>487</th>\n",
       "      <td>ZBRA</td>\n",
       "      <td>0.108463</td>\n",
       "    </tr>\n",
       "    <tr>\n",
       "      <th>488</th>\n",
       "      <td>ZTS</td>\n",
       "      <td>0.015644</td>\n",
       "    </tr>\n",
       "  </tbody>\n",
       "</table>\n",
       "<p>489 rows × 2 columns</p>\n",
       "</div>"
      ],
      "text/plain": [
       "    Ticker       ROI\n",
       "0        A  0.172623\n",
       "1      AAL -0.174040\n",
       "2     AAPL  0.068902\n",
       "3     ABBV -0.051604\n",
       "4      ABT  0.019102\n",
       "..     ...       ...\n",
       "484    XYL  0.076311\n",
       "485    YUM  0.047087\n",
       "486    ZBH -0.108981\n",
       "487   ZBRA  0.108463\n",
       "488    ZTS  0.015644\n",
       "\n",
       "[489 rows x 2 columns]"
      ]
     },
     "execution_count": 27,
     "metadata": {},
     "output_type": "execute_result"
    }
   ],
   "source": [
    "proj_rois_df = get_proj_rois()"
   ]
  },
  {
   "cell_type": "code",
   "execution_count": 28,
   "id": "d3c2ab85-8b91-4e83-87a7-20d21dce68d8",
   "metadata": {
    "scrolled": true
   },
   "outputs": [
    {
     "data": {
      "text/html": [
       "<div>\n",
       "<style scoped>\n",
       "    .dataframe tbody tr th:only-of-type {\n",
       "        vertical-align: middle;\n",
       "    }\n",
       "\n",
       "    .dataframe tbody tr th {\n",
       "        vertical-align: top;\n",
       "    }\n",
       "\n",
       "    .dataframe thead th {\n",
       "        text-align: right;\n",
       "    }\n",
       "</style>\n",
       "<table border=\"1\" class=\"dataframe\">\n",
       "  <thead>\n",
       "    <tr style=\"text-align: right;\">\n",
       "      <th></th>\n",
       "      <th>Ticker</th>\n",
       "      <th>ROI</th>\n",
       "    </tr>\n",
       "  </thead>\n",
       "  <tbody>\n",
       "    <tr>\n",
       "      <th>0</th>\n",
       "      <td>A</td>\n",
       "      <td>0.172623</td>\n",
       "    </tr>\n",
       "    <tr>\n",
       "      <th>1</th>\n",
       "      <td>AAL</td>\n",
       "      <td>-0.174040</td>\n",
       "    </tr>\n",
       "    <tr>\n",
       "      <th>2</th>\n",
       "      <td>AAPL</td>\n",
       "      <td>0.068902</td>\n",
       "    </tr>\n",
       "    <tr>\n",
       "      <th>3</th>\n",
       "      <td>ABBV</td>\n",
       "      <td>-0.051604</td>\n",
       "    </tr>\n",
       "    <tr>\n",
       "      <th>4</th>\n",
       "      <td>ABT</td>\n",
       "      <td>0.019102</td>\n",
       "    </tr>\n",
       "    <tr>\n",
       "      <th>...</th>\n",
       "      <td>...</td>\n",
       "      <td>...</td>\n",
       "    </tr>\n",
       "    <tr>\n",
       "      <th>484</th>\n",
       "      <td>XYL</td>\n",
       "      <td>0.076311</td>\n",
       "    </tr>\n",
       "    <tr>\n",
       "      <th>485</th>\n",
       "      <td>YUM</td>\n",
       "      <td>0.047087</td>\n",
       "    </tr>\n",
       "    <tr>\n",
       "      <th>486</th>\n",
       "      <td>ZBH</td>\n",
       "      <td>-0.108981</td>\n",
       "    </tr>\n",
       "    <tr>\n",
       "      <th>487</th>\n",
       "      <td>ZBRA</td>\n",
       "      <td>0.108463</td>\n",
       "    </tr>\n",
       "    <tr>\n",
       "      <th>488</th>\n",
       "      <td>ZTS</td>\n",
       "      <td>0.015644</td>\n",
       "    </tr>\n",
       "  </tbody>\n",
       "</table>\n",
       "<p>489 rows × 2 columns</p>\n",
       "</div>"
      ],
      "text/plain": [
       "    Ticker       ROI\n",
       "0        A  0.172623\n",
       "1      AAL -0.174040\n",
       "2     AAPL  0.068902\n",
       "3     ABBV -0.051604\n",
       "4      ABT  0.019102\n",
       "..     ...       ...\n",
       "484    XYL  0.076311\n",
       "485    YUM  0.047087\n",
       "486    ZBH -0.108981\n",
       "487   ZBRA  0.108463\n",
       "488    ZTS  0.015644\n",
       "\n",
       "[489 rows x 2 columns]"
      ]
     },
     "execution_count": 28,
     "metadata": {},
     "output_type": "execute_result"
    }
   ],
   "source": [
    "proj_rois_df"
   ]
  },
  {
   "cell_type": "code",
   "execution_count": 29,
   "id": "6a15755f-800c-4813-8d94-be5e6157ac05",
   "metadata": {
    "scrolled": true
   },
   "outputs": [
    {
     "data": {
      "text/html": [
       "<div>\n",
       "<style scoped>\n",
       "    .dataframe tbody tr th:only-of-type {\n",
       "        vertical-align: middle;\n",
       "    }\n",
       "\n",
       "    .dataframe tbody tr th {\n",
       "        vertical-align: top;\n",
       "    }\n",
       "\n",
       "    .dataframe thead th {\n",
       "        text-align: right;\n",
       "    }\n",
       "</style>\n",
       "<table border=\"1\" class=\"dataframe\">\n",
       "  <thead>\n",
       "    <tr style=\"text-align: right;\">\n",
       "      <th></th>\n",
       "      <th>Ticker</th>\n",
       "      <th>ROI</th>\n",
       "    </tr>\n",
       "  </thead>\n",
       "  <tbody>\n",
       "    <tr>\n",
       "      <th>377</th>\n",
       "      <td>PWR</td>\n",
       "      <td>0.374385</td>\n",
       "    </tr>\n",
       "    <tr>\n",
       "      <th>146</th>\n",
       "      <td>DXCM</td>\n",
       "      <td>0.332406</td>\n",
       "    </tr>\n",
       "    <tr>\n",
       "      <th>311</th>\n",
       "      <td>MRNA</td>\n",
       "      <td>0.300128</td>\n",
       "    </tr>\n",
       "    <tr>\n",
       "      <th>309</th>\n",
       "      <td>MPWR</td>\n",
       "      <td>0.289141</td>\n",
       "    </tr>\n",
       "    <tr>\n",
       "      <th>244</th>\n",
       "      <td>IT</td>\n",
       "      <td>0.250738</td>\n",
       "    </tr>\n",
       "    <tr>\n",
       "      <th>168</th>\n",
       "      <td>ETSY</td>\n",
       "      <td>0.233559</td>\n",
       "    </tr>\n",
       "    <tr>\n",
       "      <th>72</th>\n",
       "      <td>BX</td>\n",
       "      <td>0.225060</td>\n",
       "    </tr>\n",
       "    <tr>\n",
       "      <th>351</th>\n",
       "      <td>PAYC</td>\n",
       "      <td>0.222966</td>\n",
       "    </tr>\n",
       "    <tr>\n",
       "      <th>189</th>\n",
       "      <td>FSLR</td>\n",
       "      <td>0.221405</td>\n",
       "    </tr>\n",
       "    <tr>\n",
       "      <th>190</th>\n",
       "      <td>FTNT</td>\n",
       "      <td>0.215665</td>\n",
       "    </tr>\n",
       "    <tr>\n",
       "      <th>405</th>\n",
       "      <td>SNPS</td>\n",
       "      <td>0.213465</td>\n",
       "    </tr>\n",
       "    <tr>\n",
       "      <th>446</th>\n",
       "      <td>UAL</td>\n",
       "      <td>0.212063</td>\n",
       "    </tr>\n",
       "    <tr>\n",
       "      <th>261</th>\n",
       "      <td>KLAC</td>\n",
       "      <td>0.209513</td>\n",
       "    </tr>\n",
       "    <tr>\n",
       "      <th>118</th>\n",
       "      <td>CTLT</td>\n",
       "      <td>0.206832</td>\n",
       "    </tr>\n",
       "    <tr>\n",
       "      <th>64</th>\n",
       "      <td>BLDR</td>\n",
       "      <td>0.205736</td>\n",
       "    </tr>\n",
       "    <tr>\n",
       "      <th>49</th>\n",
       "      <td>BA</td>\n",
       "      <td>0.199390</td>\n",
       "    </tr>\n",
       "    <tr>\n",
       "      <th>478</th>\n",
       "      <td>WST</td>\n",
       "      <td>0.196897</td>\n",
       "    </tr>\n",
       "    <tr>\n",
       "      <th>279</th>\n",
       "      <td>LULU</td>\n",
       "      <td>0.194362</td>\n",
       "    </tr>\n",
       "    <tr>\n",
       "      <th>148</th>\n",
       "      <td>EBAY</td>\n",
       "      <td>0.193156</td>\n",
       "    </tr>\n",
       "    <tr>\n",
       "      <th>457</th>\n",
       "      <td>VLO</td>\n",
       "      <td>0.192483</td>\n",
       "    </tr>\n",
       "  </tbody>\n",
       "</table>\n",
       "</div>"
      ],
      "text/plain": [
       "    Ticker       ROI\n",
       "377    PWR  0.374385\n",
       "146   DXCM  0.332406\n",
       "311   MRNA  0.300128\n",
       "309   MPWR  0.289141\n",
       "244     IT  0.250738\n",
       "168   ETSY  0.233559\n",
       "72      BX  0.225060\n",
       "351   PAYC  0.222966\n",
       "189   FSLR  0.221405\n",
       "190   FTNT  0.215665\n",
       "405   SNPS  0.213465\n",
       "446    UAL  0.212063\n",
       "261   KLAC  0.209513\n",
       "118   CTLT  0.206832\n",
       "64    BLDR  0.205736\n",
       "49      BA  0.199390\n",
       "478    WST  0.196897\n",
       "279   LULU  0.194362\n",
       "148   EBAY  0.193156\n",
       "457    VLO  0.192483"
      ]
     },
     "execution_count": 29,
     "metadata": {},
     "output_type": "execute_result"
    }
   ],
   "source": [
    "proj_rois_df.sort_values(by=['ROI'], ascending=False)[0:20]"
   ]
  },
  {
   "cell_type": "code",
   "execution_count": null,
   "id": "ee8e2361-b61b-45ae-b2cb-23dcddf277cd",
   "metadata": {},
   "outputs": [],
   "source": []
  },
  {
   "cell_type": "code",
   "execution_count": null,
   "id": "8030a811-7b44-4829-895f-a475b5cf60b9",
   "metadata": {},
   "outputs": [],
   "source": []
  },
  {
   "cell_type": "code",
   "execution_count": null,
   "id": "45e36dbd-160c-4507-b4ec-7da0faa201f5",
   "metadata": {},
   "outputs": [],
   "source": []
  },
  {
   "cell_type": "code",
   "execution_count": null,
   "id": "4e769e6a-909c-4a3b-bdf9-a476366d2331",
   "metadata": {},
   "outputs": [],
   "source": []
  }
 ],
 "metadata": {
  "kernelspec": {
   "display_name": "Python 3 (ipykernel)",
   "language": "python",
   "name": "python3"
  },
  "language_info": {
   "codemirror_mode": {
    "name": "ipython",
    "version": 3
   },
   "file_extension": ".py",
   "mimetype": "text/x-python",
   "name": "python",
   "nbconvert_exporter": "python",
   "pygments_lexer": "ipython3",
   "version": "3.10.12"
  }
 },
 "nbformat": 4,
 "nbformat_minor": 5
}
